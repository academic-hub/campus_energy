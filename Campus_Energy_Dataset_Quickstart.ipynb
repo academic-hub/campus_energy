{
 "cells": [
  {
   "cell_type": "markdown",
   "metadata": {
    "cell_id": "7d81aa86-ff64-4cff-8350-f146a266d0a3",
    "deepnote_cell_type": "markdown"
   },
   "source": [
    "# Campus Energy Dataset Quick Start\n",
    "\n",
    "Version 1.1\n",
    "\n",
    "The Campus Energy Dataset is an Academic Hub dataset hosted by the OSIsoft Cloud Service (OCS, https://www.osisoft.com/solutions/cloud/vision/), a cloud-native real-time data infrastructure used to perform enterprise-wide analytics using tools and languages of the user's choice. \n",
    "\n",
    "<div class=\"alert alert-info\">\n",
    "<b>For documentation about the Campus Energy dataset itself, please go to <a href=\"https://data.academic.osisoft.com/nbviewer/github/academic-hub/campus_energy/blob/main/Campus_Energy_Dataset_Doc.ipynb\">https://data.academic.osisoft.com/nbviewer/github/academic-hub/campus_energy/blob/main/Campus_Energy_Dataset_Doc.ipynb</a></b>\n",
    "</div>\n",
    "\n",
    "**Raw operational data has specific characteristics making it difficult to deal with directly**, among them:\n",
    "\n",
    "* variable data collection frequencies\n",
    "* bad values (system error codes)\n",
    "* data gaps \n",
    "\n",
    "\n",
    "**But data science projects using operational data needs to be:**\n",
    "\n",
    "* **Time-aligned** to deal with the characteritics above in consistent way according to the data type (e.g. interpolation for float values, repeat last good value for categorical data, etc)\n",
    "* **Context aware** so that the data can be understandable, across as many real-world assets that you need it for\n",
    "* **Shaped and filtered** to ensure you have the data you need, in the form you need it\n",
    "* **Stored values** are also available when interpolated (time-aligned) values are not desirable\n",
    "\n",
    "**The OCS solutions for application-ready data are Data Views:**\n",
    "\n",
    "![](https://academichub.blob.core.windows.net/images/piworld-dse-dataview-p2.png)\n",
    "\n",
    "**Each Academic Hub datasets comes endowed with a set of asset-centric data views.** \n",
    "\n",
    "The goal of Academic Hub Python library is to provide a very generic and consistent way to access:\n",
    "\n",
    "* the list of existing datasets\n",
    "* for a given dataset:\n",
    "  * the list of its assets\n",
    "  * the OCS namespace where the dataset is hosted\n",
    "* for a given asset, the list of data views it belongs to\n",
    "\n",
    "<div class=\"alert alert-info\">\n",
    "<b>The rest of this notebook is a working example of the functionality listed above for the Campus Energy dataset</b>\n",
    "</div>\n"
   ]
  },
  {
   "cell_type": "markdown",
   "metadata": {
    "cell_id": "00001-cd974cdd-d388-45e3-bfa7-918292638bf3",
    "deepnote_cell_type": "markdown"
   },
   "source": [
    "## Install Academic Hub Python library "
   ]
  },
  {
   "cell_type": "code",
   "execution_count": 1,
   "metadata": {
    "cell_id": "00002-19071778-e674-4fb8-b9ab-ab6bbccbcbe5",
    "deepnote_cell_type": "code",
    "deepnote_to_be_reexecuted": false,
    "execution_millis": 2965,
    "execution_start": 1644893208036,
    "source_hash": "7e768612",
    "tags": []
   },
   "outputs": [
    {
     "name": "stdout",
     "output_type": "stream",
     "text": [
      "Requirement already satisfied: ocs-academic-hub==0.99.42 in /home/christian/github/academic-hub/ocs_academic_hub/src (0.99.42)\n",
      "Requirement already satisfied: pandas>=0.24.2 in /home/christian/miniconda3/envs/hubportal/lib/python3.8/site-packages (from ocs-academic-hub==0.99.42) (1.3.1)\n",
      "Requirement already satisfied: ocs-sample-library-hub>=0.1.19 in /home/christian/miniconda3/envs/hubportal/lib/python3.8/site-packages (from ocs-academic-hub==0.99.42) (0.1.20)\n",
      "Requirement already satisfied: numpy in /home/christian/miniconda3/envs/hubportal/lib/python3.8/site-packages (from ocs-academic-hub==0.99.42) (1.21.1)\n",
      "Requirement already satisfied: python_dateutil>=2.8.0 in /home/christian/miniconda3/envs/hubportal/lib/python3.8/site-packages (from ocs-academic-hub==0.99.42) (2.8.2)\n",
      "Requirement already satisfied: typeguard>=2.4.1 in /home/christian/miniconda3/envs/hubportal/lib/python3.8/site-packages (from ocs-academic-hub==0.99.42) (2.13.0)\n",
      "Requirement already satisfied: requests>=2.26 in /home/christian/miniconda3/envs/hubportal/lib/python3.8/site-packages (from ocs-academic-hub==0.99.42) (2.27.1)\n",
      "Requirement already satisfied: gql==2.0.0 in /home/christian/miniconda3/envs/hubportal/lib/python3.8/site-packages (from ocs-academic-hub==0.99.42) (2.0.0)\n",
      "Requirement already satisfied: backoff in /home/christian/miniconda3/envs/hubportal/lib/python3.8/site-packages (from ocs-academic-hub==0.99.42) (1.11.1)\n",
      "Requirement already satisfied: markdown in /home/christian/miniconda3/envs/hubportal/lib/python3.8/site-packages (from ocs-academic-hub==0.99.42) (3.3.6)\n",
      "Requirement already satisfied: importlib_metadata in /home/christian/miniconda3/envs/hubportal/lib/python3.8/site-packages (from ocs-academic-hub==0.99.42) (4.8.2)\n",
      "Requirement already satisfied: ipywidgets in /home/christian/miniconda3/envs/hubportal/lib/python3.8/site-packages (from ocs-academic-hub==0.99.42) (7.6.5)\n",
      "Requirement already satisfied: graphql-core<3,>=2.3.2 in /home/christian/miniconda3/envs/hubportal/lib/python3.8/site-packages (from gql==2.0.0->ocs-academic-hub==0.99.42) (2.3.2)\n",
      "Requirement already satisfied: promise<3,>=2.3 in /home/christian/miniconda3/envs/hubportal/lib/python3.8/site-packages (from gql==2.0.0->ocs-academic-hub==0.99.42) (2.3)\n",
      "Requirement already satisfied: six>=1.10.0 in /home/christian/miniconda3/envs/hubportal/lib/python3.8/site-packages (from gql==2.0.0->ocs-academic-hub==0.99.42) (1.16.0)\n",
      "Requirement already satisfied: rx<2,>=1.6 in /home/christian/miniconda3/envs/hubportal/lib/python3.8/site-packages (from graphql-core<3,>=2.3.2->gql==2.0.0->ocs-academic-hub==0.99.42) (1.6.1)\n",
      "Requirement already satisfied: pytz>=2017.3 in /home/christian/miniconda3/envs/hubportal/lib/python3.8/site-packages (from pandas>=0.24.2->ocs-academic-hub==0.99.42) (2021.3)\n",
      "Requirement already satisfied: certifi>=2017.4.17 in /home/christian/miniconda3/envs/hubportal/lib/python3.8/site-packages (from requests>=2.26->ocs-academic-hub==0.99.42) (2021.10.8)\n",
      "Requirement already satisfied: idna<4,>=2.5 in /home/christian/miniconda3/envs/hubportal/lib/python3.8/site-packages (from requests>=2.26->ocs-academic-hub==0.99.42) (3.3)\n",
      "Requirement already satisfied: urllib3<1.27,>=1.21.1 in /home/christian/miniconda3/envs/hubportal/lib/python3.8/site-packages (from requests>=2.26->ocs-academic-hub==0.99.42) (1.26.6)\n",
      "Requirement already satisfied: charset-normalizer~=2.0.0 in /home/christian/miniconda3/envs/hubportal/lib/python3.8/site-packages (from requests>=2.26->ocs-academic-hub==0.99.42) (2.0.7)\n",
      "Requirement already satisfied: zipp>=0.5 in /home/christian/miniconda3/envs/hubportal/lib/python3.8/site-packages (from importlib_metadata->ocs-academic-hub==0.99.42) (3.6.0)\n",
      "Requirement already satisfied: ipython-genutils~=0.2.0 in /home/christian/miniconda3/envs/hubportal/lib/python3.8/site-packages (from ipywidgets->ocs-academic-hub==0.99.42) (0.2.0)\n",
      "Requirement already satisfied: ipython>=4.0.0 in /home/christian/miniconda3/envs/hubportal/lib/python3.8/site-packages (from ipywidgets->ocs-academic-hub==0.99.42) (7.29.0)\n",
      "Requirement already satisfied: widgetsnbextension~=3.5.0 in /home/christian/miniconda3/envs/hubportal/lib/python3.8/site-packages (from ipywidgets->ocs-academic-hub==0.99.42) (3.5.2)\n",
      "Requirement already satisfied: traitlets>=4.3.1 in /home/christian/miniconda3/envs/hubportal/lib/python3.8/site-packages (from ipywidgets->ocs-academic-hub==0.99.42) (5.1.1)\n",
      "Requirement already satisfied: nbformat>=4.2.0 in /home/christian/miniconda3/envs/hubportal/lib/python3.8/site-packages (from ipywidgets->ocs-academic-hub==0.99.42) (5.1.3)\n",
      "Requirement already satisfied: ipykernel>=4.5.1 in /home/christian/miniconda3/envs/hubportal/lib/python3.8/site-packages (from ipywidgets->ocs-academic-hub==0.99.42) (6.5.0)\n",
      "Requirement already satisfied: jupyterlab-widgets>=1.0.0 in /home/christian/miniconda3/envs/hubportal/lib/python3.8/site-packages (from ipywidgets->ocs-academic-hub==0.99.42) (1.0.2)\n",
      "Requirement already satisfied: matplotlib-inline<0.2.0,>=0.1.0 in /home/christian/miniconda3/envs/hubportal/lib/python3.8/site-packages (from ipykernel>=4.5.1->ipywidgets->ocs-academic-hub==0.99.42) (0.1.3)\n",
      "Requirement already satisfied: jupyter-client<8.0 in /home/christian/miniconda3/envs/hubportal/lib/python3.8/site-packages (from ipykernel>=4.5.1->ipywidgets->ocs-academic-hub==0.99.42) (7.0.6)\n",
      "Requirement already satisfied: tornado<7.0,>=4.2 in /home/christian/miniconda3/envs/hubportal/lib/python3.8/site-packages (from ipykernel>=4.5.1->ipywidgets->ocs-academic-hub==0.99.42) (6.1)\n",
      "Requirement already satisfied: debugpy<2.0,>=1.0.0 in /home/christian/miniconda3/envs/hubportal/lib/python3.8/site-packages (from ipykernel>=4.5.1->ipywidgets->ocs-academic-hub==0.99.42) (1.5.1)\n",
      "Requirement already satisfied: jedi>=0.16 in /home/christian/miniconda3/envs/hubportal/lib/python3.8/site-packages (from ipython>=4.0.0->ipywidgets->ocs-academic-hub==0.99.42) (0.18.0)\n",
      "Requirement already satisfied: backcall in /home/christian/miniconda3/envs/hubportal/lib/python3.8/site-packages (from ipython>=4.0.0->ipywidgets->ocs-academic-hub==0.99.42) (0.2.0)\n",
      "Requirement already satisfied: setuptools>=18.5 in /home/christian/miniconda3/envs/hubportal/lib/python3.8/site-packages (from ipython>=4.0.0->ipywidgets->ocs-academic-hub==0.99.42) (58.0.4)\n",
      "Requirement already satisfied: pickleshare in /home/christian/miniconda3/envs/hubportal/lib/python3.8/site-packages (from ipython>=4.0.0->ipywidgets->ocs-academic-hub==0.99.42) (0.7.5)\n",
      "Requirement already satisfied: pexpect>4.3 in /home/christian/miniconda3/envs/hubportal/lib/python3.8/site-packages (from ipython>=4.0.0->ipywidgets->ocs-academic-hub==0.99.42) (4.8.0)\n",
      "Requirement already satisfied: prompt-toolkit!=3.0.0,!=3.0.1,<3.1.0,>=2.0.0 in /home/christian/miniconda3/envs/hubportal/lib/python3.8/site-packages (from ipython>=4.0.0->ipywidgets->ocs-academic-hub==0.99.42) (3.0.22)\n",
      "Requirement already satisfied: decorator in /home/christian/miniconda3/envs/hubportal/lib/python3.8/site-packages (from ipython>=4.0.0->ipywidgets->ocs-academic-hub==0.99.42) (5.1.0)\n",
      "Requirement already satisfied: pygments in /home/christian/miniconda3/envs/hubportal/lib/python3.8/site-packages (from ipython>=4.0.0->ipywidgets->ocs-academic-hub==0.99.42) (2.10.0)\n",
      "Requirement already satisfied: parso<0.9.0,>=0.8.0 in /home/christian/miniconda3/envs/hubportal/lib/python3.8/site-packages (from jedi>=0.16->ipython>=4.0.0->ipywidgets->ocs-academic-hub==0.99.42) (0.8.2)\n",
      "Requirement already satisfied: pyzmq>=13 in /home/christian/miniconda3/envs/hubportal/lib/python3.8/site-packages (from jupyter-client<8.0->ipykernel>=4.5.1->ipywidgets->ocs-academic-hub==0.99.42) (22.3.0)\n",
      "Requirement already satisfied: entrypoints in /home/christian/miniconda3/envs/hubportal/lib/python3.8/site-packages (from jupyter-client<8.0->ipykernel>=4.5.1->ipywidgets->ocs-academic-hub==0.99.42) (0.3)\n",
      "Requirement already satisfied: nest-asyncio>=1.5 in /home/christian/miniconda3/envs/hubportal/lib/python3.8/site-packages (from jupyter-client<8.0->ipykernel>=4.5.1->ipywidgets->ocs-academic-hub==0.99.42) (1.5.1)\n",
      "Requirement already satisfied: jupyter-core>=4.6.0 in /home/christian/miniconda3/envs/hubportal/lib/python3.8/site-packages (from jupyter-client<8.0->ipykernel>=4.5.1->ipywidgets->ocs-academic-hub==0.99.42) (4.9.1)\n",
      "Requirement already satisfied: jsonschema!=2.5.0,>=2.4 in /home/christian/miniconda3/envs/hubportal/lib/python3.8/site-packages (from nbformat>=4.2.0->ipywidgets->ocs-academic-hub==0.99.42) (4.2.1)\n"
     ]
    },
    {
     "name": "stdout",
     "output_type": "stream",
     "text": [
      "Requirement already satisfied: attrs>=17.4.0 in /home/christian/miniconda3/envs/hubportal/lib/python3.8/site-packages (from jsonschema!=2.5.0,>=2.4->nbformat>=4.2.0->ipywidgets->ocs-academic-hub==0.99.42) (21.2.0)\n",
      "Requirement already satisfied: importlib-resources>=1.4.0 in /home/christian/miniconda3/envs/hubportal/lib/python3.8/site-packages (from jsonschema!=2.5.0,>=2.4->nbformat>=4.2.0->ipywidgets->ocs-academic-hub==0.99.42) (5.4.0)\n",
      "Requirement already satisfied: pyrsistent!=0.17.0,!=0.17.1,!=0.17.2,>=0.14.0 in /home/christian/miniconda3/envs/hubportal/lib/python3.8/site-packages (from jsonschema!=2.5.0,>=2.4->nbformat>=4.2.0->ipywidgets->ocs-academic-hub==0.99.42) (0.18.0)\n",
      "Requirement already satisfied: ptyprocess>=0.5 in /home/christian/miniconda3/envs/hubportal/lib/python3.8/site-packages (from pexpect>4.3->ipython>=4.0.0->ipywidgets->ocs-academic-hub==0.99.42) (0.7.0)\n",
      "Requirement already satisfied: wcwidth in /home/christian/miniconda3/envs/hubportal/lib/python3.8/site-packages (from prompt-toolkit!=3.0.0,!=3.0.1,<3.1.0,>=2.0.0->ipython>=4.0.0->ipywidgets->ocs-academic-hub==0.99.42) (0.2.5)\n",
      "Requirement already satisfied: notebook>=4.4.1 in /home/christian/miniconda3/envs/hubportal/lib/python3.8/site-packages (from widgetsnbextension~=3.5.0->ipywidgets->ocs-academic-hub==0.99.42) (6.4.6)\n",
      "Requirement already satisfied: terminado>=0.8.3 in /home/christian/miniconda3/envs/hubportal/lib/python3.8/site-packages (from notebook>=4.4.1->widgetsnbextension~=3.5.0->ipywidgets->ocs-academic-hub==0.99.42) (0.12.1)\n",
      "Requirement already satisfied: nbconvert in /home/christian/miniconda3/envs/hubportal/lib/python3.8/site-packages (from notebook>=4.4.1->widgetsnbextension~=3.5.0->ipywidgets->ocs-academic-hub==0.99.42) (6.3.0)\n",
      "Requirement already satisfied: Send2Trash>=1.8.0 in /home/christian/miniconda3/envs/hubportal/lib/python3.8/site-packages (from notebook>=4.4.1->widgetsnbextension~=3.5.0->ipywidgets->ocs-academic-hub==0.99.42) (1.8.0)\n",
      "Requirement already satisfied: argon2-cffi in /home/christian/miniconda3/envs/hubportal/lib/python3.8/site-packages (from notebook>=4.4.1->widgetsnbextension~=3.5.0->ipywidgets->ocs-academic-hub==0.99.42) (21.1.0)\n",
      "Requirement already satisfied: jinja2 in /home/christian/miniconda3/envs/hubportal/lib/python3.8/site-packages (from notebook>=4.4.1->widgetsnbextension~=3.5.0->ipywidgets->ocs-academic-hub==0.99.42) (3.0.3)\n",
      "Requirement already satisfied: prometheus-client in /home/christian/miniconda3/envs/hubportal/lib/python3.8/site-packages (from notebook>=4.4.1->widgetsnbextension~=3.5.0->ipywidgets->ocs-academic-hub==0.99.42) (0.12.0)\n",
      "Requirement already satisfied: cffi>=1.0.0 in /home/christian/miniconda3/envs/hubportal/lib/python3.8/site-packages (from argon2-cffi->notebook>=4.4.1->widgetsnbextension~=3.5.0->ipywidgets->ocs-academic-hub==0.99.42) (1.15.0)\n",
      "Requirement already satisfied: pycparser in /home/christian/miniconda3/envs/hubportal/lib/python3.8/site-packages (from cffi>=1.0.0->argon2-cffi->notebook>=4.4.1->widgetsnbextension~=3.5.0->ipywidgets->ocs-academic-hub==0.99.42) (2.21)\n",
      "Requirement already satisfied: MarkupSafe>=2.0 in /home/christian/miniconda3/envs/hubportal/lib/python3.8/site-packages (from jinja2->notebook>=4.4.1->widgetsnbextension~=3.5.0->ipywidgets->ocs-academic-hub==0.99.42) (2.0.1)\n",
      "Requirement already satisfied: pandocfilters>=1.4.1 in /home/christian/miniconda3/envs/hubportal/lib/python3.8/site-packages (from nbconvert->notebook>=4.4.1->widgetsnbextension~=3.5.0->ipywidgets->ocs-academic-hub==0.99.42) (1.5.0)\n",
      "Requirement already satisfied: bleach in /home/christian/miniconda3/envs/hubportal/lib/python3.8/site-packages (from nbconvert->notebook>=4.4.1->widgetsnbextension~=3.5.0->ipywidgets->ocs-academic-hub==0.99.42) (4.1.0)\n",
      "Requirement already satisfied: defusedxml in /home/christian/miniconda3/envs/hubportal/lib/python3.8/site-packages (from nbconvert->notebook>=4.4.1->widgetsnbextension~=3.5.0->ipywidgets->ocs-academic-hub==0.99.42) (0.7.1)\n",
      "Requirement already satisfied: jupyterlab-pygments in /home/christian/miniconda3/envs/hubportal/lib/python3.8/site-packages (from nbconvert->notebook>=4.4.1->widgetsnbextension~=3.5.0->ipywidgets->ocs-academic-hub==0.99.42) (0.1.2)\n",
      "Requirement already satisfied: testpath in /home/christian/miniconda3/envs/hubportal/lib/python3.8/site-packages (from nbconvert->notebook>=4.4.1->widgetsnbextension~=3.5.0->ipywidgets->ocs-academic-hub==0.99.42) (0.5.0)\n",
      "Requirement already satisfied: nbclient<0.6.0,>=0.5.0 in /home/christian/miniconda3/envs/hubportal/lib/python3.8/site-packages (from nbconvert->notebook>=4.4.1->widgetsnbextension~=3.5.0->ipywidgets->ocs-academic-hub==0.99.42) (0.5.8)\n",
      "Requirement already satisfied: mistune<2,>=0.8.1 in /home/christian/miniconda3/envs/hubportal/lib/python3.8/site-packages (from nbconvert->notebook>=4.4.1->widgetsnbextension~=3.5.0->ipywidgets->ocs-academic-hub==0.99.42) (0.8.4)\n",
      "Requirement already satisfied: webencodings in /home/christian/miniconda3/envs/hubportal/lib/python3.8/site-packages (from bleach->nbconvert->notebook>=4.4.1->widgetsnbextension~=3.5.0->ipywidgets->ocs-academic-hub==0.99.42) (0.5.1)\n",
      "Requirement already satisfied: packaging in /home/christian/miniconda3/envs/hubportal/lib/python3.8/site-packages (from bleach->nbconvert->notebook>=4.4.1->widgetsnbextension~=3.5.0->ipywidgets->ocs-academic-hub==0.99.42) (21.2)\n",
      "Requirement already satisfied: pyparsing<3,>=2.0.2 in /home/christian/miniconda3/envs/hubportal/lib/python3.8/site-packages (from packaging->bleach->nbconvert->notebook>=4.4.1->widgetsnbextension~=3.5.0->ipywidgets->ocs-academic-hub==0.99.42) (2.4.7)\n"
     ]
    }
   ],
   "source": [
    "!pip install ocs-academic-hub==0.99.42"
   ]
  },
  {
   "cell_type": "markdown",
   "metadata": {
    "cell_id": "00003-81422d10-376b-4238-91f9-1ca1239bc177",
    "deepnote_cell_type": "markdown"
   },
   "source": [
    "### [Optional] Use the `pip uninstall` only in case of library issues"
   ]
  },
  {
   "cell_type": "code",
   "execution_count": 2,
   "metadata": {
    "cell_id": "00004-e05e8541-aa0c-4623-b54d-3a078a4dd403",
    "deepnote_cell_type": "code",
    "deepnote_to_be_reexecuted": false,
    "execution_millis": 0,
    "execution_start": 1644893211010,
    "source_hash": "93345d6b",
    "tags": []
   },
   "outputs": [],
   "source": [
    "# It's sometimes necessary to uninstall previous versions, uncomment and run the following line. \n",
    "# Then restart kernel and reinstall with previous cell\n",
    "# !pip uninstall -y ocs-academic-hub ocs-sample-library-preview"
   ]
  },
  {
   "cell_type": "markdown",
   "metadata": {
    "cell_id": "00005-f1b66064-6fd1-4a69-a12f-5d86f1d53af0",
    "deepnote_cell_type": "markdown"
   },
   "source": [
    "### Import required module and hub_login"
   ]
  },
  {
   "cell_type": "code",
   "execution_count": 3,
   "metadata": {
    "cell_id": "00006-8e1401e9-dae8-4337-9da1-4ae8e7b73c4b",
    "deepnote_cell_type": "code",
    "deepnote_to_be_reexecuted": false,
    "execution_millis": 371,
    "execution_start": 1644893211011,
    "source_hash": "45648655"
   },
   "outputs": [],
   "source": [
    "from ocs_academic_hub.datahub import hub_login"
   ]
  },
  {
   "cell_type": "markdown",
   "metadata": {
    "cell_id": "00007-b6573224-0f43-4319-ab2e-d93ecc222048",
    "deepnote_cell_type": "markdown"
   },
   "source": [
    "### Login to Academic Hub by running the next cell\n",
    "\n",
    "**Execute the cell below and follow the indicated steps to log in (an AVEVA banner would show up)** "
   ]
  },
  {
   "cell_type": "code",
   "execution_count": 4,
   "metadata": {
    "cell_id": "00008-f5b42fe6-4a28-4c35-b526-466a031a4989",
    "deepnote_cell_type": "code",
    "deepnote_output_heights": [
     2
    ],
    "deepnote_to_be_reexecuted": false,
    "execution_millis": 4864,
    "execution_start": 1644893211385,
    "source_hash": "a90597b9",
    "tags": []
   },
   "outputs": [
    {
     "data": {
      "application/javascript": [
       "\n",
       "    let t = JSON.stringify(localStorage.getItem(\"hub_jwt\") || '{\"access_token\": \"none\"}', null, 4);\n",
       "    const options = {\n",
       "        method: 'POST',\n",
       "        body: JSON.stringify(t),\n",
       "        headers: {\n",
       "            'Content-Type': 'application/json',\n",
       "            'Authorization': 'Custom 436ef8ba-b028-469f-a647-cccd08894093'\n",
       "        },\n",
       "        // mode: 'no-cors'\n",
       "    }; \n",
       "    fetch('https://data.academic.osisoft.com/auth/previous_token', options) \n",
       "    .then(function (response) {\n",
       "        return response.text();\n",
       "    })\n",
       "    .catch(function (error) {\n",
       "        console.log(\"Error: \" + error);\n",
       "    });\n",
       "    "
      ],
      "text/plain": [
       "<IPython.core.display.Javascript object>"
      ]
     },
     "metadata": {},
     "output_type": "display_data"
    },
    {
     "data": {
      "application/vnd.jupyter.widget-view+json": {
       "model_id": "46c1b3cfa9bb4960a8346eb3a266dd61",
       "version_major": 2,
       "version_minor": 0
      },
      "text/plain": [
       "VBox(children=(HTML(value='<p><img alt=\"AVEVA banner\" src=\"https://academichub.blob.core.windows.net/images/av…"
      ]
     },
     "metadata": {},
     "output_type": "display_data"
    }
   ],
   "source": [
    "widget, hub = hub_login()\n",
    "widget"
   ]
  },
  {
   "cell_type": "markdown",
   "metadata": {
    "cell_id": "00009-1d1813c0-c675-44d2-b5f2-dd86ce27edfb",
    "deepnote_cell_type": "markdown"
   },
   "source": [
    "## Refresh datasets information\n",
    "\n",
    "Over time existing datasets are updated and new ones are added. The cell below makes sure you have the latest version of the production datasets. \n",
    "\n",
    "Note: after execution of this method, a file named `hub_datasets.json` will be created in the same directory as this notebook. The data in this file supersedes the one built-in with the `ocs_academic_hub` module. To get back to the built-in datasets information, move/rename/delete `hub_datasets.json`. "
   ]
  },
  {
   "cell_type": "code",
   "execution_count": 5,
   "metadata": {
    "cell_id": "00010-779c34c1-1059-4204-b772-1d28c177110c",
    "deepnote_cell_type": "code",
    "deepnote_to_be_reexecuted": false,
    "execution_millis": 2130,
    "execution_start": 1644893216303,
    "source_hash": "34a4a259",
    "tags": []
   },
   "outputs": [],
   "source": [
    "hub.refresh_datasets()"
   ]
  },
  {
   "cell_type": "markdown",
   "metadata": {
    "cell_id": "00011-b4ccde62-e681-46a1-bcad-44022c3f0a70",
    "deepnote_cell_type": "markdown"
   },
   "source": [
    "## Get list of published hub datasets\n"
   ]
  },
  {
   "cell_type": "code",
   "execution_count": 6,
   "metadata": {
    "cell_id": "00012-2fb4d6fb-5d22-4cc7-a9c7-2d33ef263c1b",
    "deepnote_cell_type": "code",
    "deepnote_output_heights": [
     1
    ],
    "deepnote_to_be_reexecuted": false,
    "execution_millis": 5,
    "execution_start": 1644893218437,
    "source_hash": "83f8b25d"
   },
   "outputs": [
    {
     "data": {
      "text/plain": [
       "['Brewery',\n",
       " 'Campus_Energy',\n",
       " 'Classroom_Data',\n",
       " 'MIT',\n",
       " 'Pilot_Plant',\n",
       " 'USC_Well_Data',\n",
       " 'Wind_Farms']"
      ]
     },
     "execution_count": 6,
     "metadata": {},
     "output_type": "execute_result"
    }
   ],
   "source": [
    "hub.datasets()"
   ]
  },
  {
   "cell_type": "markdown",
   "metadata": {
    "cell_id": "00013-1f0db6c4-9d9b-4c47-b7fd-823ae6be419f",
    "deepnote_cell_type": "markdown"
   },
   "source": [
    "## Display current active dataset\n",
    "\n",
    "The default dataset is Brewery. Only one dataset can be active. "
   ]
  },
  {
   "cell_type": "code",
   "execution_count": 7,
   "metadata": {
    "cell_id": "00014-8eb2c1a6-394a-44a2-a69d-0e72858db746",
    "deepnote_cell_type": "code",
    "deepnote_output_heights": [
     1
    ],
    "deepnote_to_be_reexecuted": false,
    "execution_millis": 5,
    "execution_start": 1644893218443,
    "source_hash": "5cd9c7fc"
   },
   "outputs": [
    {
     "data": {
      "text/plain": [
       "'Brewery'"
      ]
     },
     "execution_count": 7,
     "metadata": {},
     "output_type": "execute_result"
    }
   ],
   "source": [
    "hub.current_dataset()"
   ]
  },
  {
   "cell_type": "markdown",
   "metadata": {
    "cell_id": "00015-db7a51ed-7732-4f43-8cba-5fae2df3f8f7",
    "deepnote_cell_type": "markdown"
   },
   "source": [
    "## Set Campus Energy as the current dataset"
   ]
  },
  {
   "cell_type": "code",
   "execution_count": 8,
   "metadata": {
    "cell_id": "00016-0ff0079f-281a-4eec-98b9-217ab47d7551",
    "deepnote_cell_type": "code",
    "deepnote_to_be_reexecuted": false,
    "execution_millis": 5,
    "execution_start": 1644893218454,
    "source_hash": "30fc9fbf"
   },
   "outputs": [],
   "source": [
    "hub.set_dataset(\"Campus_Energy\")"
   ]
  },
  {
   "cell_type": "markdown",
   "metadata": {
    "cell_id": "00017-86e08b0d-0d58-4efa-a184-241a4e67b509",
    "deepnote_cell_type": "markdown"
   },
   "source": [
    "## Verify that Campus Energy is active"
   ]
  },
  {
   "cell_type": "code",
   "execution_count": 9,
   "metadata": {
    "cell_id": "00018-7668514a-4001-47b2-a24d-28d8464968c2",
    "deepnote_cell_type": "code",
    "deepnote_output_heights": [
     1
    ],
    "deepnote_to_be_reexecuted": false,
    "execution_millis": 35,
    "execution_start": 1644893218473,
    "source_hash": "5cd9c7fc"
   },
   "outputs": [
    {
     "data": {
      "text/plain": [
       "'Campus_Energy'"
      ]
     },
     "execution_count": 9,
     "metadata": {},
     "output_type": "execute_result"
    }
   ],
   "source": [
    "hub.current_dataset()"
   ]
  },
  {
   "cell_type": "markdown",
   "metadata": {
    "cell_id": "00019-5be115ae-44a7-4f6f-86ce-6ce176d50589",
    "deepnote_cell_type": "markdown"
   },
   "source": [
    "## Get list of assets with Data Views\n",
    "\n",
    "Returned into the form of a pandas dataframe, with column `Asset_Id` and `Description`. Each asset has a unique `Asset_Id` as its identity. \n",
    "\n",
    "The cell below with `print` and `.to_string()` allows to see the whole dataframe content. \n",
    "\n",
    "Note that the *Academic Surge Building* is having index 1 (first column). We'll use this information in a few cells.   "
   ]
  },
  {
   "cell_type": "code",
   "execution_count": 10,
   "metadata": {
    "cell_id": "00020-1b78e626-a1b4-4df2-8450-7c07b8a6b383",
    "deepnote_cell_type": "code",
    "deepnote_to_be_reexecuted": false,
    "execution_millis": 301,
    "execution_start": 1644893218508,
    "source_hash": "9a1218a4",
    "tags": []
   },
   "outputs": [
    {
     "name": "stdout",
     "output_type": "stream",
     "text": [
      "                                                       Asset_Id                             Description\n",
      "0                                                  ARC Pavilion                                Building\n",
      "1                                       Academic Surge Building                                Building\n",
      "2                              Activities and Recreation Center                                Building\n",
      "3                        Advanced Materials Research Laboratory                                Building\n",
      "4        Advanced Transportation Infrastructure Research Center                                Building\n",
      "5                                     Agronomy Field Laboratory                                Building\n",
      "6                                               Animal Building                                Building\n",
      "7                                    Animal Resource Service J1                                Building\n",
      "8                                    Animal Resource Service M3                                Building\n",
      "9                                    Animal Resource Service N1                                Building\n",
      "10                                         Ann E. Pitzer Center                            Recital Hall\n",
      "11                                    Antique Mechanics Trailer                                Building\n",
      "12                 Aquatic Biology & Environmental Science Bldg                                Building\n",
      "13                                           Art Building Annex                                Building\n",
      "14                                     Art, Music, Wright Halls                                Building\n",
      "15                                              Asmundson Annex                                Building\n",
      "16                                               Asmundson Hall                                Building\n",
      "17                                                  Bainer Hall                                Building\n",
      "18                                            Bowley Head House                                Building\n",
      "19                                                  Briggs Hall                                Building\n",
      "20                                              California Hall                                Building\n",
      "21                                           Campus Data Center                                Building\n",
      "22                                  Cellular Biology Laboratory                                Building\n",
      "23                           Center for Companion Animal Health                                Building\n",
      "24                              Center for Comparative Medicine                                Building\n",
      "25            Center for Health & Environment Clinical Medicine                                Building\n",
      "26          Center for Health & Environment Office & Laboratory                                Building\n",
      "27   Center for Health & Environment Toxic Pollutant Laboratory                                Building\n",
      "28                                   Central Cage Wash Facility                                Building\n",
      "29                                                    Chemistry                                Building\n",
      "30                                              Chemistry Annex                                Building\n",
      "31                                                       Cole A                                Building\n",
      "32                                                       Cole B                                Building\n",
      "33                                            Conference Center                                Building\n",
      "34                                  Contained Research Facility                                Building\n",
      "35                                                  Cruess Hall                                Building\n",
      "36                                            Dairy Cattle Feed                                Building\n",
      "37                                            Dairy Cattle Shed                                Building\n",
      "38                                                  Dairy Tower                                Building\n",
      "39                                                  Dutton Hall                                Building\n",
      "40                         Earth and Physical Sciences Building                                Building\n",
      "41                 Environmental Services Facility Headquarters                                Building\n",
      "42                          Equestrian Center Caretaker Trailer                                Building\n",
      "43                              Equestrian Center Covered Arena                                Building\n",
      "44                                                 Everson Hall                                Building\n",
      "45                                       FPS Trinchero Building                                Building\n",
      "46                                  Facilities Electrical Annex                                Building\n",
      "47                                                Freeborn Hall                                Building\n",
      "48                                               Gallagher Hall                                 Complex\n",
      "49                                    Gateway Parking Structure                                Building\n",
      "50                        Genome & Biomedical Sciences Facility                                Building\n",
      "51                               Geotechnical Modeling Facility                                Building\n",
      "52                                                  Ghausi Hall                                Building\n",
      "53                                                   Giedt Hall                                Building\n",
      "54                             Gourley Clinical Teaching Center                                Building\n",
      "55                                   Growth Chamber Building T1                                Building\n",
      "56                                   Growth Chamber Building T2                                Building\n",
      "57                                                  Haring Hall                                Building\n",
      "58                                                    Hart Hall                                Building\n",
      "59                                Heitman Staff Learning Center                                Building\n",
      "60                                                   Hickey Gym                                Building\n",
      "61                                             Hickey Gym, Pool                                 Complex\n",
      "62                                                  Hickey Pool                                Building\n",
      "63                                                Hoagland Hall                                Building\n",
      "64                 Hopkins Services Complex Auxiliary Receiving                                Building\n",
      "65                                         Hopkins Svcs Complex                                 Complex\n",
      "66                                       Housing Administration                                Building\n",
      "67                                                Hunt, Parsons                                 Complex\n",
      "68                           Hutchison Child Development Center                                Building\n",
      "69                                               Hutchison Hall                                Building\n",
      "70                            Hutchison Recreation Field Lights                                Building\n",
      "71                                 IET Communications Resources                                Building\n",
      "72                                         International Center                                Building\n",
      "73                                   Jackson Sustainable Winery                                Building\n",
      "74                                               Jungerman Hall                                Building\n",
      "75                                                  Kemper Hall                                Building\n",
      "76                                                    Kerr Hall                                Building\n",
      "77                                                    King Hall                                Building\n",
      "78                                                Leukemia Barn                                Building\n",
      "79                                                 Leukemia Lab                                Building\n",
      "80                                                Life Sciences                                Building\n",
      "81                                                    Maddy Lab                                   EqACL\n",
      "82                                              Mann Laboratory                                Building\n",
      "83                               Mathematical Sciences Building                                Building\n",
      "84                                         Medical Sciences I B                                Building\n",
      "85                                         Medical Sciences I D                                Building\n",
      "86                                               Memorial Union                                Building\n",
      "87                                                   Meyer Hall                                Building\n",
      "88                                                    Mrak Hall                                Building\n",
      "89                Office of Research (1850 Research Park Drive)                                Building\n",
      "90                                                   Olson Hall                                Building\n",
      "91                                            PES Tennis Courts                                Building\n",
      "92                            Parsons Seed Certification Center                                Building\n",
      "93                                   Pavilion Parking Structure   Formerly West Entry Parking Structure\n",
      "94                      Physical Sciences & Engineering Library                                Building\n",
      "95                                             Physics Building                                Building\n",
      "96                               Plant & Environmental Sciences                                Building\n",
      "97                          Plant Reproductive Biology Facility                                Building\n",
      "98                  Primate Childhood Health & Disease Facility                                Building\n",
      "99                Primate Controlled Environment Facility (CEF)                                Building\n",
      "100                                          Primate Quarantine                                Building\n",
      "101                          Primate Respiratory Disease Center                                Building\n",
      "102                                       Primate Shop Facility                                Building\n",
      "103                    Primate Virology & Immunology Laboratory                                Building\n",
      "104                                              Pritchard VMTH                                 Complex\n",
      "105                                      Quad Parking Structure  formerly North Entry Parking Structure\n",
      "106                RMI Brewery, Winery, and Food Pilot Facility                                Building\n",
      "107                                   RMI North, South, Sensory           RMI North, Sount, and Sensory\n",
      "108                                                 Rifle Range                                Building\n",
      "109                                                Robbins Hall                                        \n",
      "110                                               Roessler Hall                                Building\n",
      "111                                       Schaal Aquatic Center                                Building\n",
      "112                                School of Education Building                                Building\n",
      "113                                       Sciences Lab Building                Tag includes Sci Lec 123\n",
      "114                                      Segundo Dining Commons                                Building\n",
      "115                                          Segundo High Rises                                 Complex\n",
      "116                                               Segundo North                                 Complex\n",
      "117                                               Segundo Regan                                 Complex\n",
      "118                             Segundo Services Center, Market                                 Complex\n",
      "119                                             Shields Library                                Building\n",
      "120                                         Shrem Museum of Art                                Building\n",
      "121                                              Silo Bike Barn                                Building\n",
      "122                                Social Sciences & Humanities                                Building\n",
      "123                                           Sprocket Building                                Building\n",
      "124                                                 Sproul Hall                                Building\n",
      "125                                                 Storer Hall                                Building\n",
      "126                                       Student Affairs Annex                                Building\n",
      "127                                    Student Community Center                                Building\n",
      "128                            Student Health & Wellness Center                                Building\n",
      "129                        Swine Teaching and Research Facility                                Building\n",
      "130                                                    TAPS C&E                                Building\n",
      "131                                      Temporary Building 144                                Building\n",
      "132                                      Temporary Building 178                                Building\n",
      "133                                      Temporary Building 184                                Building\n",
      "134                                                   Tercero 1                                 Complex\n",
      "135                                                   Tercero 2                                 Complex\n",
      "136                                                   Tercero 3                                 Complex\n",
      "137                                                   Tercero 4                                 Complex\n",
      "138                                   Tercero Community, Market                                 Complex\n",
      "139                                                    The Barn                                Building\n",
      "140                                          Thurman Laboratory                         CAHFS Container\n",
      "141                      Translational Shared Research Facility                                Building\n",
      "142                         Transportation and Parking Services                                Building\n",
      "143                                                 Tupper Hall                                Building\n",
      "144                                     UC Davis Health Stadium                                 Complex\n",
      "145                               University Extension Building                                Building\n",
      "146                                University Services Building                                Building\n",
      "147                                               VMTH Surgical                                Building\n",
      "148                                                   VMTH Ward                                Building\n",
      "149                                                 Valley Hall                             Valley Hall\n",
      "150                                              Veihmeyer Hall                                Building\n",
      "151                                          Vet Med 3A, 3A-MPT                                 Complex\n",
      "152                                                  Vet Med 3B                                Building\n",
      "153                     Vet Med Equine Athletic Performance Lab                                Building\n",
      "154                              Vet Med Lab Animal A Beach Lab                                Building\n",
      "155                               Vet Med Large Animal Facility                                Building\n",
      "156          Vet Med Student Services and Administration Center                                Building\n",
      "157                                       Veterinary Medicine 2                                Building\n",
      "158                                               Voorhies Hall                                Building\n",
      "159                                                 Walker Hall                                Building\n",
      "160                    Water Science & Engineering Hydraulic L2                                Building\n",
      "161                                  Watershed Science Facility              Watershed Science Facility\n",
      "162                                                Wellman Hall                                Building\n",
      "163             Western Human Nutrition Research Center (WHNRC)                                Building\n",
      "164                                                Wickson Hall                                Building\n",
      "165                                                  Young Hall                                Building\n"
     ]
    }
   ],
   "source": [
    "buildings = hub.assets()\n",
    "print(buildings.to_string())"
   ]
  },
  {
   "cell_type": "markdown",
   "metadata": {
    "cell_id": "00021-38bc31a0-9e06-41c2-986b-f3c87b98f347",
    "deepnote_cell_type": "markdown"
   },
   "source": [
    "## List of all Data Views\n",
    "\n",
    "Those are all single-asset default (with all data available for the asset) Data Views"
   ]
  },
  {
   "cell_type": "code",
   "execution_count": 11,
   "metadata": {
    "cell_id": "00022-7150e606-fb73-4325-bdc8-537768e85c7c",
    "deepnote_cell_type": "code",
    "deepnote_output_heights": [
     611
    ],
    "deepnote_to_be_reexecuted": false,
    "execution_millis": 4,
    "execution_start": 1644893218820,
    "source_hash": "32433344"
   },
   "outputs": [
    {
     "data": {
      "text/plain": [
       "['campus.building-academic_surge_building',\n",
       " 'campus.building-activities_and_recreation_center',\n",
       " 'campus.building-advanced_materials_research_laboratory',\n",
       " 'campus.building-advanced_transportation_infrastructure_research_center',\n",
       " 'campus.building-agronomy_field_laboratory',\n",
       " 'campus.building-animal_building',\n",
       " 'campus.building-animal_resource_service_j_1',\n",
       " 'campus.building-animal_resource_service_m_3',\n",
       " 'campus.building-animal_resource_service_n_1',\n",
       " 'campus.building-ann_e_pitzer_center',\n",
       " 'campus.building-antique_mechanics_trailer',\n",
       " 'campus.building-aquatic_biology_environmental_science_bldg',\n",
       " 'campus.building-arc_pavilion',\n",
       " 'campus.building-art_building_annex',\n",
       " 'campus.building-art_music_wright_halls',\n",
       " 'campus.building-asmundson_annex',\n",
       " 'campus.building-asmundson_hall',\n",
       " 'campus.building-bainer_hall',\n",
       " 'campus.building-bowley_head_house',\n",
       " 'campus.building-briggs_hall',\n",
       " 'campus.building-california_hall',\n",
       " 'campus.building-campus_data_center',\n",
       " 'campus.building-cellular_biology_laboratory',\n",
       " 'campus.building-center_for_companion_animal_health',\n",
       " 'campus.building-center_for_comparative_medicine',\n",
       " 'campus.building-center_for_health_environment_clinical_medicine',\n",
       " 'campus.building-center_for_health_environment_office_laboratory',\n",
       " 'campus.building-center_for_health_environment_toxic_pollutant_laboratory',\n",
       " 'campus.building-central_cage_wash_facility',\n",
       " 'campus.building-chemistry',\n",
       " 'campus.building-chemistry_annex',\n",
       " 'campus.building-cole_a',\n",
       " 'campus.building-cole_b',\n",
       " 'campus.building-conference_center',\n",
       " 'campus.building-contained_research_facility',\n",
       " 'campus.building-cruess_hall',\n",
       " 'campus.building-dairy_cattle_feed',\n",
       " 'campus.building-dairy_cattle_shed',\n",
       " 'campus.building-dairy_tower',\n",
       " 'campus.building-dutton_hall',\n",
       " 'campus.building-earth_and_physical_sciences_building',\n",
       " 'campus.building-environmental_services_facility_headquarters',\n",
       " 'campus.building-equestrian_center_caretaker_trailer',\n",
       " 'campus.building-equestrian_center_covered_arena',\n",
       " 'campus.building-everson_hall',\n",
       " 'campus.building-facilities_electrical_annex',\n",
       " 'campus.building-fps_trinchero_building',\n",
       " 'campus.building-freeborn_hall',\n",
       " 'campus.building-gallagher_hall',\n",
       " 'campus.building-gateway_parking_structure',\n",
       " 'campus.building-genome_biomedical_sciences_facility',\n",
       " 'campus.building-geotechnical_modeling_facility',\n",
       " 'campus.building-ghausi_hall',\n",
       " 'campus.building-giedt_hall',\n",
       " 'campus.building-gourley_clinical_teaching_center',\n",
       " 'campus.building-growth_chamber_building_t_1',\n",
       " 'campus.building-growth_chamber_building_t_2',\n",
       " 'campus.building-haring_hall',\n",
       " 'campus.building-hart_hall',\n",
       " 'campus.building-heitman_staff_learning_center',\n",
       " 'campus.building-hickey_gym',\n",
       " 'campus.building-hickey_gym_pool',\n",
       " 'campus.building-hickey_pool',\n",
       " 'campus.building-hoagland_hall',\n",
       " 'campus.building-hopkins_services_complex_auxiliary_receiving',\n",
       " 'campus.building-hopkins_svcs_complex',\n",
       " 'campus.building-housing_administration',\n",
       " 'campus.building-hunt_parsons',\n",
       " 'campus.building-hutchison_child_development_center',\n",
       " 'campus.building-hutchison_hall',\n",
       " 'campus.building-hutchison_recreation_field_lights',\n",
       " 'campus.building-iet_communications_resources',\n",
       " 'campus.building-international_center',\n",
       " 'campus.building-jackson_sustainable_winery',\n",
       " 'campus.building-jungerman_hall',\n",
       " 'campus.building-kemper_hall',\n",
       " 'campus.building-kerr_hall',\n",
       " 'campus.building-king_hall',\n",
       " 'campus.building-leukemia_barn',\n",
       " 'campus.building-leukemia_lab',\n",
       " 'campus.building-life_sciences',\n",
       " 'campus.building-maddy_lab',\n",
       " 'campus.building-mann_laboratory',\n",
       " 'campus.building-mathematical_sciences_building',\n",
       " 'campus.building-medical_sciences_i_b',\n",
       " 'campus.building-medical_sciences_i_d',\n",
       " 'campus.building-memorial_union',\n",
       " 'campus.building-meyer_hall',\n",
       " 'campus.building-mrak_hall',\n",
       " 'campus.building-office_of_research_1850_research_park_drive',\n",
       " 'campus.building-olson_hall',\n",
       " 'campus.building-parsons_seed_certification_center',\n",
       " 'campus.building-pavilion_parking_structure',\n",
       " 'campus.building-pes_tennis_courts',\n",
       " 'campus.building-physical_sciences_engineering_library',\n",
       " 'campus.building-physics_building',\n",
       " 'campus.building-plant_environmental_sciences',\n",
       " 'campus.building-plant_reproductive_biology_facility',\n",
       " 'campus.building-primate_childhood_health_disease_facility',\n",
       " 'campus.building-primate_controlled_environment_facility_cef',\n",
       " 'campus.building-primate_quarantine',\n",
       " 'campus.building-primate_respiratory_disease_center',\n",
       " 'campus.building-primate_shop_facility',\n",
       " 'campus.building-primate_virology_immunology_laboratory',\n",
       " 'campus.building-pritchard_vmth',\n",
       " 'campus.building-quad_parking_structure',\n",
       " 'campus.building-rifle_range',\n",
       " 'campus.building-rmi_brewery_winery_and_food_pilot_facility',\n",
       " 'campus.building-rmi_north_south_sensory',\n",
       " 'campus.building-robbins_hall',\n",
       " 'campus.building-roessler_hall',\n",
       " 'campus.building-schaal_aquatic_center',\n",
       " 'campus.building-school_of_education_building',\n",
       " 'campus.building-sciences_lab_building',\n",
       " 'campus.building-segundo_dining_commons',\n",
       " 'campus.building-segundo_high_rises',\n",
       " 'campus.building-segundo_north',\n",
       " 'campus.building-segundo_regan',\n",
       " 'campus.building-segundo_services_center_market',\n",
       " 'campus.building-shields_library',\n",
       " 'campus.building-shrem_museum_of_art',\n",
       " 'campus.building-silo_bike_barn',\n",
       " 'campus.building-social_sciences_humanities',\n",
       " 'campus.building-sprocket_building',\n",
       " 'campus.building-sproul_hall',\n",
       " 'campus.building-storer_hall',\n",
       " 'campus.building-student_affairs_annex',\n",
       " 'campus.building-student_community_center',\n",
       " 'campus.building-student_health_wellness_center',\n",
       " 'campus.building-swine_teaching_and_research_facility',\n",
       " 'campus.building-taps_c_e',\n",
       " 'campus.building-temporary_building_144',\n",
       " 'campus.building-temporary_building_178',\n",
       " 'campus.building-temporary_building_184',\n",
       " 'campus.building-tercero_1',\n",
       " 'campus.building-tercero_2',\n",
       " 'campus.building-tercero_3',\n",
       " 'campus.building-tercero_4',\n",
       " 'campus.building-tercero_community_market',\n",
       " 'campus.building-the_barn',\n",
       " 'campus.building-thurman_laboratory',\n",
       " 'campus.building-translational_shared_research_facility',\n",
       " 'campus.building-transportation_and_parking_services',\n",
       " 'campus.building-tupper_hall',\n",
       " 'campus.building-uc_davis_health_stadium',\n",
       " 'campus.building-university_extension_building',\n",
       " 'campus.building-university_services_building',\n",
       " 'campus.building-valley_hall',\n",
       " 'campus.building-veihmeyer_hall',\n",
       " 'campus.building-vet_med_3_a_3_a_mpt',\n",
       " 'campus.building-vet_med_3_b',\n",
       " 'campus.building-vet_med_equine_athletic_performance_lab',\n",
       " 'campus.building-vet_med_lab_animal_a_beach_lab',\n",
       " 'campus.building-vet_med_large_animal_facility',\n",
       " 'campus.building-vet_med_student_services_and_administration_center',\n",
       " 'campus.building-veterinary_medicine_2',\n",
       " 'campus.building-vmth_surgical',\n",
       " 'campus.building-vmth_ward',\n",
       " 'campus.building-voorhies_hall',\n",
       " 'campus.building-walker_hall',\n",
       " 'campus.building-water_science_engineering_hydraulic_l_2',\n",
       " 'campus.building-watershed_science_facility',\n",
       " 'campus.building-wellman_hall',\n",
       " 'campus.building-western_human_nutrition_research_center_whnrc',\n",
       " 'campus.building-wickson_hall',\n",
       " 'campus.building-young_hall']"
      ]
     },
     "execution_count": 11,
     "metadata": {},
     "output_type": "execute_result"
    }
   ],
   "source": [
    "hub.asset_dataviews()"
   ]
  },
  {
   "cell_type": "markdown",
   "metadata": {
    "cell_id": "00023-2fc00ec0-833f-4073-99fc-268018972070",
    "deepnote_cell_type": "markdown"
   },
   "source": [
    "## List of Data Views exclusive to Academic Surge Building\n",
    "\n",
    "Empty filter (`filter=\"\"`) allows to see all dataviews for the asset instead of simply the default one"
   ]
  },
  {
   "cell_type": "code",
   "execution_count": 12,
   "metadata": {
    "cell_id": "00024-8cd17482-defd-465b-8258-fe0d8424b608",
    "deepnote_cell_type": "code",
    "deepnote_output_heights": [
     null,
     79
    ],
    "deepnote_to_be_reexecuted": false,
    "execution_millis": 6,
    "execution_start": 1644893218869,
    "source_hash": "aee221c5"
   },
   "outputs": [
    {
     "name": "stdout",
     "output_type": "stream",
     "text": [
      "Building Id: Academic Surge Building\n"
     ]
    },
    {
     "data": {
      "text/plain": [
       "['campus.building-academic_surge_building',\n",
       " 'campus.building-academic_surge_building-chilled_water',\n",
       " 'campus.building-academic_surge_building-electricity',\n",
       " 'campus.building-academic_surge_building-steam']"
      ]
     },
     "execution_count": 12,
     "metadata": {},
     "output_type": "execute_result"
    }
   ],
   "source": [
    "academic_id = buildings[\"Asset_Id\"][1]\n",
    "print(\"Building Id:\", academic_id)\n",
    "dvs_academic = hub.asset_dataviews(asset=academic_id, filter=\"\")\n",
    "dvs_academic"
   ]
  },
  {
   "cell_type": "markdown",
   "metadata": {
    "cell_id": "00025-275e1330-63c2-4638-aa9d-da51f949f835",
    "deepnote_cell_type": "markdown"
   },
   "source": [
    "<div class=\"alert alert-warning\">\n",
    "    <b>For the Campus Energy dataset, the default data view (e.g. <tt>campus.building-academic_surge_building</tt>) and Electricity data view (e.g. <tt>campus.building-academic_surge_building-electricity</tt>) are the same for each building. The reason is that all buildings have electricity data while while Steam and Chilled Water are optional. </b>\n",
    "</div>\n",
    "    \n",
    "**This [link](https://data.academic.osisoft.com/nbviewer/github/academic-hub/datasets/blob/master/Campus_Energy_Dataset_Doc.ipynb#1a.-Presence-of--electricity/chilled-water/steam-for-each-building) provides a table of available data per building.**\n",
    "    "
   ]
  },
  {
   "cell_type": "markdown",
   "metadata": {
    "cell_id": "00026-8757f54f-82d7-4ed8-9dcd-a7017853cc7a",
    "deepnote_cell_type": "markdown"
   },
   "source": [
    "## Get the OCS namespace associated to the dataset\n",
    "\n",
    "Each data set belongs to a namespace within the Academic Hub OCS account. Since dataset may move over time, the function below always return the active namespace for the given dataset. "
   ]
  },
  {
   "cell_type": "code",
   "execution_count": 13,
   "metadata": {
    "cell_id": "00027-5b2a0ccb-32a4-4706-81e3-1caa36abcf40",
    "deepnote_cell_type": "code",
    "deepnote_output_heights": [
     1
    ],
    "deepnote_to_be_reexecuted": false,
    "execution_millis": 4,
    "execution_start": 1644893218871,
    "source_hash": "7a29829c"
   },
   "outputs": [
    {
     "data": {
      "text/plain": [
       "'UC__Davis'"
      ]
     },
     "execution_count": 13,
     "metadata": {},
     "output_type": "execute_result"
    }
   ],
   "source": [
    "dataset = hub.current_dataset()\n",
    "namespace_id = hub.namespace_of(dataset)\n",
    "namespace_id"
   ]
  },
  {
   "cell_type": "markdown",
   "metadata": {
    "cell_id": "00028-d8c7911d-2299-46f8-be2d-ed280e056aab",
    "deepnote_cell_type": "markdown"
   },
   "source": [
    "## Get Data View structure\n",
    "\n",
    "With Stream Name, the column name under which stream data appears, its value type and engineering units if available. We display below the structure of the default data view. "
   ]
  },
  {
   "cell_type": "code",
   "execution_count": 14,
   "metadata": {
    "cell_id": "00029-e0e84623-89fd-45ec-81b9-8a8c765a4828",
    "deepnote_cell_type": "code",
    "deepnote_to_be_reexecuted": false,
    "execution_millis": 517,
    "execution_start": 1644893218872,
    "source_hash": "c5efb73",
    "tags": []
   },
   "outputs": [
    {
     "name": "stdout",
     "output_type": "stream",
     "text": [
      "campus.building-academic_surge_building\n",
      "               Asset_Id          Column_Name Stream_Type Stream_UOM                                      Stream_Name\n",
      "Academic Surge Building          AnnualUsage       Float       kBtu        UCD.AcademicSurge_Electricity_AnnualUsage\n",
      "Academic Surge Building          Demand_kBtu       Float       kBtu        UCD.AcademicSurge_Electricity_Demand_kBtu\n",
      "Academic Surge Building      Electricity_EUI       Float  kBtu/sqft                UCD.AcademicSurge_Electricity_EUI\n",
      "Academic Surge Building         MonthlyUsage       Float       kBtu       UCD.AcademicSurge_Electricity_MonthlyUsage\n",
      "Academic Surge Building       Rollover Check       Float                 UCD.AcademicSurge_Electricity_RolloverCheck\n",
      "Academic Surge Building Rollover Count Month       Float            UCD.AcademicSurge_Electricity_RolloverCountMonth\n",
      "Academic Surge Building  Rollover Count Year       Float             UCD.AcademicSurge_Electricity_RolloverCountYear\n"
     ]
    }
   ],
   "source": [
    "dataview_id = hub.asset_dataviews(asset=academic_id, filter=\"default\")[0]\n",
    "print(dataview_id)\n",
    "print(hub.dataview_definition(namespace_id, dataview_id).to_string(index=False))"
   ]
  },
  {
   "cell_type": "markdown",
   "metadata": {
    "cell_id": "00030-21a9f29c-b61c-4160-8ff3-9cb46547f704",
    "deepnote_cell_type": "markdown"
   },
   "source": [
    "## Getting data from a Data View\n",
    "\n",
    "Data View can return either interpolated data or stored data\n",
    "\n",
    "### Interpolated Data\n",
    "\n",
    "Get interpolated data between a start and end date, with the requested interpolation interval (format is HH:MM:SS)"
   ]
  },
  {
   "cell_type": "code",
   "execution_count": 15,
   "metadata": {
    "cell_id": "00031-edb0f5b3-8a2d-4c8b-a61f-185bdcabcdfc",
    "deepnote_cell_type": "code",
    "deepnote_output_heights": [
     null,
     383.4375
    ],
    "deepnote_to_be_reexecuted": false,
    "execution_millis": 2975,
    "execution_start": 1644893219436,
    "source_hash": "d8c1d1e6",
    "tags": []
   },
   "outputs": [
    {
     "name": "stdout",
     "output_type": "stream",
     "text": [
      "\n",
      "  ==> Finished 'dataview_interpolated_pd' in       1.9786 secs [ 753 rows/sec ]\n"
     ]
    },
    {
     "data": {
      "text/html": [
       "<div>\n",
       "<style scoped>\n",
       "    .dataframe tbody tr th:only-of-type {\n",
       "        vertical-align: middle;\n",
       "    }\n",
       "\n",
       "    .dataframe tbody tr th {\n",
       "        vertical-align: top;\n",
       "    }\n",
       "\n",
       "    .dataframe thead th {\n",
       "        text-align: right;\n",
       "    }\n",
       "</style>\n",
       "<table border=\"1\" class=\"dataframe\">\n",
       "  <thead>\n",
       "    <tr style=\"text-align: right;\">\n",
       "      <th></th>\n",
       "      <th>Timestamp</th>\n",
       "      <th>Asset_Id</th>\n",
       "      <th>MonthlyUsage</th>\n",
       "      <th>AnnualUsage</th>\n",
       "      <th>Demand_kBtu</th>\n",
       "      <th>Electricity_EUI</th>\n",
       "      <th>Rollover Check</th>\n",
       "      <th>Rollover Count Month</th>\n",
       "      <th>Rollover Count Year</th>\n",
       "    </tr>\n",
       "  </thead>\n",
       "  <tbody>\n",
       "    <tr>\n",
       "      <th>0</th>\n",
       "      <td>2018-01-01 00:00:00</td>\n",
       "      <td>Academic Surge Building</td>\n",
       "      <td>611748.94</td>\n",
       "      <td>7573665.5</td>\n",
       "      <td>760.19775</td>\n",
       "      <td>60.203968</td>\n",
       "      <td>0</td>\n",
       "      <td>0.0</td>\n",
       "      <td>0</td>\n",
       "    </tr>\n",
       "    <tr>\n",
       "      <th>1</th>\n",
       "      <td>2018-01-01 00:30:00</td>\n",
       "      <td>Academic Surge Building</td>\n",
       "      <td>612117.20</td>\n",
       "      <td>7573654.5</td>\n",
       "      <td>725.03925</td>\n",
       "      <td>60.203846</td>\n",
       "      <td>0</td>\n",
       "      <td>0.0</td>\n",
       "      <td>0</td>\n",
       "    </tr>\n",
       "    <tr>\n",
       "      <th>2</th>\n",
       "      <td>2018-01-01 01:00:00</td>\n",
       "      <td>Academic Surge Building</td>\n",
       "      <td>612485.50</td>\n",
       "      <td>7573643.5</td>\n",
       "      <td>830.64404</td>\n",
       "      <td>60.203724</td>\n",
       "      <td>0</td>\n",
       "      <td>0.0</td>\n",
       "      <td>0</td>\n",
       "    </tr>\n",
       "    <tr>\n",
       "      <th>3</th>\n",
       "      <td>2018-01-01 01:30:00</td>\n",
       "      <td>Academic Surge Building</td>\n",
       "      <td>612853.75</td>\n",
       "      <td>7573632.5</td>\n",
       "      <td>748.75460</td>\n",
       "      <td>60.203600</td>\n",
       "      <td>0</td>\n",
       "      <td>0.0</td>\n",
       "      <td>0</td>\n",
       "    </tr>\n",
       "    <tr>\n",
       "      <th>4</th>\n",
       "      <td>2018-01-01 02:00:00</td>\n",
       "      <td>Academic Surge Building</td>\n",
       "      <td>613222.00</td>\n",
       "      <td>7573622.0</td>\n",
       "      <td>787.10240</td>\n",
       "      <td>60.203480</td>\n",
       "      <td>0</td>\n",
       "      <td>0.0</td>\n",
       "      <td>0</td>\n",
       "    </tr>\n",
       "    <tr>\n",
       "      <th>...</th>\n",
       "      <td>...</td>\n",
       "      <td>...</td>\n",
       "      <td>...</td>\n",
       "      <td>...</td>\n",
       "      <td>...</td>\n",
       "      <td>...</td>\n",
       "      <td>...</td>\n",
       "      <td>...</td>\n",
       "      <td>...</td>\n",
       "    </tr>\n",
       "    <tr>\n",
       "      <th>1484</th>\n",
       "      <td>2018-01-31 22:00:00</td>\n",
       "      <td>Academic Surge Building</td>\n",
       "      <td>636483.44</td>\n",
       "      <td>7583340.0</td>\n",
       "      <td>1025.57020</td>\n",
       "      <td>60.274185</td>\n",
       "      <td>0</td>\n",
       "      <td>0.0</td>\n",
       "      <td>0</td>\n",
       "    </tr>\n",
       "    <tr>\n",
       "      <th>1485</th>\n",
       "      <td>2018-01-31 22:30:00</td>\n",
       "      <td>Academic Surge Building</td>\n",
       "      <td>636940.94</td>\n",
       "      <td>7583344.5</td>\n",
       "      <td>1053.76230</td>\n",
       "      <td>60.274240</td>\n",
       "      <td>0</td>\n",
       "      <td>0.0</td>\n",
       "      <td>0</td>\n",
       "    </tr>\n",
       "    <tr>\n",
       "      <th>1486</th>\n",
       "      <td>2018-01-31 23:00:00</td>\n",
       "      <td>Academic Surge Building</td>\n",
       "      <td>637398.50</td>\n",
       "      <td>7583348.5</td>\n",
       "      <td>1032.89450</td>\n",
       "      <td>60.274290</td>\n",
       "      <td>0</td>\n",
       "      <td>0.0</td>\n",
       "      <td>0</td>\n",
       "    </tr>\n",
       "    <tr>\n",
       "      <th>1487</th>\n",
       "      <td>2018-01-31 23:30:00</td>\n",
       "      <td>Academic Surge Building</td>\n",
       "      <td>637856.06</td>\n",
       "      <td>7583353.0</td>\n",
       "      <td>1074.98910</td>\n",
       "      <td>60.274338</td>\n",
       "      <td>0</td>\n",
       "      <td>0.0</td>\n",
       "      <td>0</td>\n",
       "    </tr>\n",
       "    <tr>\n",
       "      <th>1488</th>\n",
       "      <td>2018-02-01 00:00:00</td>\n",
       "      <td>Academic Surge Building</td>\n",
       "      <td>638313.56</td>\n",
       "      <td>7583357.0</td>\n",
       "      <td>1010.92800</td>\n",
       "      <td>60.274387</td>\n",
       "      <td>0</td>\n",
       "      <td>0.0</td>\n",
       "      <td>0</td>\n",
       "    </tr>\n",
       "  </tbody>\n",
       "</table>\n",
       "<p>1489 rows × 9 columns</p>\n",
       "</div>"
      ],
      "text/plain": [
       "               Timestamp                 Asset_Id  MonthlyUsage  AnnualUsage  \\\n",
       "0    2018-01-01 00:00:00  Academic Surge Building     611748.94    7573665.5   \n",
       "1    2018-01-01 00:30:00  Academic Surge Building     612117.20    7573654.5   \n",
       "2    2018-01-01 01:00:00  Academic Surge Building     612485.50    7573643.5   \n",
       "3    2018-01-01 01:30:00  Academic Surge Building     612853.75    7573632.5   \n",
       "4    2018-01-01 02:00:00  Academic Surge Building     613222.00    7573622.0   \n",
       "...                  ...                      ...           ...          ...   \n",
       "1484 2018-01-31 22:00:00  Academic Surge Building     636483.44    7583340.0   \n",
       "1485 2018-01-31 22:30:00  Academic Surge Building     636940.94    7583344.5   \n",
       "1486 2018-01-31 23:00:00  Academic Surge Building     637398.50    7583348.5   \n",
       "1487 2018-01-31 23:30:00  Academic Surge Building     637856.06    7583353.0   \n",
       "1488 2018-02-01 00:00:00  Academic Surge Building     638313.56    7583357.0   \n",
       "\n",
       "      Demand_kBtu  Electricity_EUI  Rollover Check  Rollover Count Month  \\\n",
       "0       760.19775        60.203968               0                   0.0   \n",
       "1       725.03925        60.203846               0                   0.0   \n",
       "2       830.64404        60.203724               0                   0.0   \n",
       "3       748.75460        60.203600               0                   0.0   \n",
       "4       787.10240        60.203480               0                   0.0   \n",
       "...           ...              ...             ...                   ...   \n",
       "1484   1025.57020        60.274185               0                   0.0   \n",
       "1485   1053.76230        60.274240               0                   0.0   \n",
       "1486   1032.89450        60.274290               0                   0.0   \n",
       "1487   1074.98910        60.274338               0                   0.0   \n",
       "1488   1010.92800        60.274387               0                   0.0   \n",
       "\n",
       "      Rollover Count Year  \n",
       "0                       0  \n",
       "1                       0  \n",
       "2                       0  \n",
       "3                       0  \n",
       "4                       0  \n",
       "...                   ...  \n",
       "1484                    0  \n",
       "1485                    0  \n",
       "1486                    0  \n",
       "1487                    0  \n",
       "1488                    0  \n",
       "\n",
       "[1489 rows x 9 columns]"
      ]
     },
     "execution_count": 15,
     "metadata": {},
     "output_type": "execute_result"
    }
   ],
   "source": [
    "# Use the first commented out line to access a full 3-year worth of data\n",
    "# df_fv32= hub.dataview_interpolated_pd(namespace_id, dataview_id, \"2017-01-19\", \"2020-01-19\", \"00:30:00\")\n",
    "#\n",
    "# This next line is for a single month of data\n",
    "df_acad_interpolated = hub.dataview_interpolated_pd(\n",
    "    namespace_id, dataview_id, \"2018-01-01\", \"2018-02-01\", \"00:30:00\"\n",
    ")\n",
    "df_acad_interpolated"
   ]
  },
  {
   "cell_type": "code",
   "execution_count": 16,
   "metadata": {
    "cell_id": "00032-b108db86-5cf1-4e43-82cb-30b302ec5edf",
    "deepnote_cell_type": "code",
    "deepnote_to_be_reexecuted": false,
    "execution_millis": 192,
    "execution_start": 1644893222223,
    "source_hash": "7317a7ad",
    "tags": []
   },
   "outputs": [
    {
     "name": "stdout",
     "output_type": "stream",
     "text": [
      "<class 'pandas.core.frame.DataFrame'>\n",
      "RangeIndex: 1489 entries, 0 to 1488\n",
      "Data columns (total 9 columns):\n",
      " #   Column                Non-Null Count  Dtype         \n",
      "---  ------                --------------  -----         \n",
      " 0   Timestamp             1489 non-null   datetime64[ns]\n",
      " 1   Asset_Id              1489 non-null   object        \n",
      " 2   MonthlyUsage          1489 non-null   float64       \n",
      " 3   AnnualUsage           1489 non-null   float64       \n",
      " 4   Demand_kBtu           1489 non-null   float64       \n",
      " 5   Electricity_EUI       1489 non-null   float64       \n",
      " 6   Rollover Check        1489 non-null   int64         \n",
      " 7   Rollover Count Month  1441 non-null   float64       \n",
      " 8   Rollover Count Year   1489 non-null   int64         \n",
      "dtypes: datetime64[ns](1), float64(5), int64(2), object(1)\n",
      "memory usage: 104.8+ KB\n"
     ]
    }
   ],
   "source": [
    "# Information about the dataframe - this is a Pandas operation \n",
    "df_acad_interpolated.info()"
   ]
  },
  {
   "cell_type": "markdown",
   "metadata": {
    "cell_id": "f36dfb0a-9bd7-43ce-99b8-7f854a410a43",
    "deepnote_cell_type": "markdown",
    "tags": []
   },
   "source": [
    "### Stored Data\n",
    "\n",
    "Get stored (recorded) data between a start and end date. The shape of the resulting data frame is narrow with the following 4 columns and one event per row:\n",
    "\n",
    "* Timestamp: of the stored event\n",
    "* Asset_Id: asset identifier \n",
    "* Field: one of the column name from the data view definition\n",
    "* Value: actual value of the event\n",
    "\n",
    "All the events (rows) of a given field are grouped together. The maximuum number of rows is 2,000,000 (2 millions). "
   ]
  },
  {
   "cell_type": "code",
   "execution_count": 17,
   "metadata": {
    "cell_id": "9e07940f-5264-44e3-8234-cffd6a55b7be",
    "deepnote_cell_type": "code",
    "deepnote_output_heights": [
     611,
     382.1875
    ],
    "deepnote_to_be_reexecuted": false,
    "execution_millis": 5134,
    "execution_start": 1644893222232,
    "source_hash": "61a8f92",
    "tags": []
   },
   "outputs": [
    {
     "name": "stdout",
     "output_type": "stream",
     "text": [
      "+\n",
      "  ==> Finished 'dataview_stored_pd' in             5.0589 secs [ 7.98K rows/sec ]\n"
     ]
    },
    {
     "data": {
      "text/html": [
       "<div>\n",
       "<style scoped>\n",
       "    .dataframe tbody tr th:only-of-type {\n",
       "        vertical-align: middle;\n",
       "    }\n",
       "\n",
       "    .dataframe tbody tr th {\n",
       "        vertical-align: top;\n",
       "    }\n",
       "\n",
       "    .dataframe thead th {\n",
       "        text-align: right;\n",
       "    }\n",
       "</style>\n",
       "<table border=\"1\" class=\"dataframe\">\n",
       "  <thead>\n",
       "    <tr style=\"text-align: right;\">\n",
       "      <th></th>\n",
       "      <th>Timestamp</th>\n",
       "      <th>Asset_Id</th>\n",
       "      <th>Field</th>\n",
       "      <th>Value</th>\n",
       "    </tr>\n",
       "  </thead>\n",
       "  <tbody>\n",
       "    <tr>\n",
       "      <th>0</th>\n",
       "      <td>2018-01-01 07:59:00+00:00</td>\n",
       "      <td>Academic Surge Building</td>\n",
       "      <td>MonthlyUsage</td>\n",
       "      <td>617629.0</td>\n",
       "    </tr>\n",
       "    <tr>\n",
       "      <th>1</th>\n",
       "      <td>2018-01-02 07:59:00+00:00</td>\n",
       "      <td>Academic Surge Building</td>\n",
       "      <td>MonthlyUsage</td>\n",
       "      <td>17883.0</td>\n",
       "    </tr>\n",
       "    <tr>\n",
       "      <th>2</th>\n",
       "      <td>2018-01-03 07:59:00+00:00</td>\n",
       "      <td>Academic Surge Building</td>\n",
       "      <td>MonthlyUsage</td>\n",
       "      <td>38028.0</td>\n",
       "    </tr>\n",
       "    <tr>\n",
       "      <th>3</th>\n",
       "      <td>2018-01-04 07:59:00+00:00</td>\n",
       "      <td>Academic Surge Building</td>\n",
       "      <td>MonthlyUsage</td>\n",
       "      <td>58468.0</td>\n",
       "    </tr>\n",
       "    <tr>\n",
       "      <th>4</th>\n",
       "      <td>2018-01-05 07:59:00+00:00</td>\n",
       "      <td>Academic Surge Building</td>\n",
       "      <td>MonthlyUsage</td>\n",
       "      <td>78843.0</td>\n",
       "    </tr>\n",
       "    <tr>\n",
       "      <th>...</th>\n",
       "      <td>...</td>\n",
       "      <td>...</td>\n",
       "      <td>...</td>\n",
       "      <td>...</td>\n",
       "    </tr>\n",
       "    <tr>\n",
       "      <th>15364</th>\n",
       "      <td>2018-01-27 08:00:00+00:00</td>\n",
       "      <td>Academic Surge Building</td>\n",
       "      <td>Rollover Count Year</td>\n",
       "      <td>0.0</td>\n",
       "    </tr>\n",
       "    <tr>\n",
       "      <th>15365</th>\n",
       "      <td>2018-01-28 08:00:00+00:00</td>\n",
       "      <td>Academic Surge Building</td>\n",
       "      <td>Rollover Count Year</td>\n",
       "      <td>0.0</td>\n",
       "    </tr>\n",
       "    <tr>\n",
       "      <th>15366</th>\n",
       "      <td>2018-01-29 08:00:00+00:00</td>\n",
       "      <td>Academic Surge Building</td>\n",
       "      <td>Rollover Count Year</td>\n",
       "      <td>0.0</td>\n",
       "    </tr>\n",
       "    <tr>\n",
       "      <th>15367</th>\n",
       "      <td>2018-01-30 08:00:00+00:00</td>\n",
       "      <td>Academic Surge Building</td>\n",
       "      <td>Rollover Count Year</td>\n",
       "      <td>0.0</td>\n",
       "    </tr>\n",
       "    <tr>\n",
       "      <th>15368</th>\n",
       "      <td>2018-01-31 08:00:00+00:00</td>\n",
       "      <td>Academic Surge Building</td>\n",
       "      <td>Rollover Count Year</td>\n",
       "      <td>0.0</td>\n",
       "    </tr>\n",
       "  </tbody>\n",
       "</table>\n",
       "<p>40369 rows × 4 columns</p>\n",
       "</div>"
      ],
      "text/plain": [
       "                      Timestamp                 Asset_Id                Field  \\\n",
       "0     2018-01-01 07:59:00+00:00  Academic Surge Building         MonthlyUsage   \n",
       "1     2018-01-02 07:59:00+00:00  Academic Surge Building         MonthlyUsage   \n",
       "2     2018-01-03 07:59:00+00:00  Academic Surge Building         MonthlyUsage   \n",
       "3     2018-01-04 07:59:00+00:00  Academic Surge Building         MonthlyUsage   \n",
       "4     2018-01-05 07:59:00+00:00  Academic Surge Building         MonthlyUsage   \n",
       "...                         ...                      ...                  ...   \n",
       "15364 2018-01-27 08:00:00+00:00  Academic Surge Building  Rollover Count Year   \n",
       "15365 2018-01-28 08:00:00+00:00  Academic Surge Building  Rollover Count Year   \n",
       "15366 2018-01-29 08:00:00+00:00  Academic Surge Building  Rollover Count Year   \n",
       "15367 2018-01-30 08:00:00+00:00  Academic Surge Building  Rollover Count Year   \n",
       "15368 2018-01-31 08:00:00+00:00  Academic Surge Building  Rollover Count Year   \n",
       "\n",
       "          Value  \n",
       "0      617629.0  \n",
       "1       17883.0  \n",
       "2       38028.0  \n",
       "3       58468.0  \n",
       "4       78843.0  \n",
       "...         ...  \n",
       "15364       0.0  \n",
       "15365       0.0  \n",
       "15366       0.0  \n",
       "15367       0.0  \n",
       "15368       0.0  \n",
       "\n",
       "[40369 rows x 4 columns]"
      ]
     },
     "execution_count": 17,
     "metadata": {},
     "output_type": "execute_result"
    }
   ],
   "source": [
    "# This next line is for a single month of data\n",
    "df_acad_stored = hub.dataview_stored_pd(\n",
    "    namespace_id, dataview_id, \"2018-01-01\", \"2018-02-01\"\n",
    ")\n",
    "df_acad_stored"
   ]
  },
  {
   "cell_type": "code",
   "execution_count": 18,
   "metadata": {
    "cell_id": "ec8c1a4a-3a7e-4ccc-ab09-58322b073845",
    "deepnote_cell_type": "code",
    "deepnote_to_be_reexecuted": false,
    "execution_millis": 4,
    "execution_start": 1644893227411,
    "source_hash": "44bcd0a",
    "tags": []
   },
   "outputs": [
    {
     "name": "stdout",
     "output_type": "stream",
     "text": [
      "<class 'pandas.core.frame.DataFrame'>\n",
      "Int64Index: 40369 entries, 0 to 15368\n",
      "Data columns (total 4 columns):\n",
      " #   Column     Non-Null Count  Dtype              \n",
      "---  ------     --------------  -----              \n",
      " 0   Timestamp  40369 non-null  datetime64[ns, UTC]\n",
      " 1   Asset_Id   40369 non-null  object             \n",
      " 2   Field      40369 non-null  object             \n",
      " 3   Value      40367 non-null  float64            \n",
      "dtypes: datetime64[ns, UTC](1), float64(1), object(2)\n",
      "memory usage: 1.5+ MB\n"
     ]
    }
   ],
   "source": [
    "df_acad_stored.info()"
   ]
  },
  {
   "cell_type": "markdown",
   "metadata": {
    "cell_id": "00033-66f97620-2e0c-42d8-a57a-f032539ed62d",
    "deepnote_cell_type": "markdown"
   },
   "source": [
    "## Asset metadata\n",
    "\n",
    "In some datasets like `Campus_Energy`, assets have metadata (static information) attached to them. This metadata comes in the form of a Python dictionary, i.e. a set of keys, each key with an associated value. The example below is representative of building metadata available with `Campus_Energy`. "
   ]
  },
  {
   "cell_type": "code",
   "execution_count": 19,
   "metadata": {
    "cell_id": "00034-2b744b81-de46-4409-978d-eacdab7189bb",
    "deepnote_cell_type": "code",
    "deepnote_output_heights": [
     289.8125
    ],
    "deepnote_to_be_reexecuted": false,
    "execution_millis": 3,
    "execution_start": 1644893227412,
    "source_hash": "9f59da37",
    "tags": []
   },
   "outputs": [
    {
     "data": {
      "text/plain": [
       "{'BuildingName': 'AcademicSurge',\n",
       " 'CAAN': 4632,\n",
       " 'Construction Date': 19920501,\n",
       " 'Display Name': 'Academic Surge Building',\n",
       " 'Latitude': 38.53530193195,\n",
       " 'Longitude': -121.752910499,\n",
       " 'Primary Usage (Type)': 'OFF - Academic / Administrative Office',\n",
       " 'Total Maintained Gross Sq. Ft.': 127426,\n",
       " 'chilledwater.Annual Cost': 712,\n",
       " 'chilledwater.tonh Rate': 0.1493,\n",
       " 'electricity.Annual Cost': 143910,\n",
       " 'electricity.kWh Rate': 0.0687,\n",
       " 'steam.Annual Cost': 13562,\n",
       " 'steam.klb Rate': 7.2552,\n",
       " 'Asset_Id': 'Academic Surge Building'}"
      ]
     },
     "execution_count": 19,
     "metadata": {},
     "output_type": "execute_result"
    }
   ],
   "source": [
    "hub.asset_metadata(academic_id)"
   ]
  },
  {
   "cell_type": "markdown",
   "metadata": {
    "cell_id": "00035-6c9d35ae-c66d-49fc-b91e-db24787d851f",
    "deepnote_cell_type": "markdown"
   },
   "source": [
    "## Metadata for all assets\n",
    "\n",
    "It sometimes useful to get metadata of all assets into a single Pandas dataframe to select assets according to some criteria, for example Primary Usage.  "
   ]
  },
  {
   "cell_type": "code",
   "execution_count": 20,
   "metadata": {
    "cell_id": "00036-7e8b4870-8480-4033-87c7-23d8f7f93017",
    "deepnote_cell_type": "code",
    "deepnote_output_heights": [
     383.4375
    ],
    "deepnote_to_be_reexecuted": false,
    "execution_millis": 10,
    "execution_start": 1644893227455,
    "source_hash": "ecff151d"
   },
   "outputs": [
    {
     "data": {
      "text/html": [
       "<div>\n",
       "<style scoped>\n",
       "    .dataframe tbody tr th:only-of-type {\n",
       "        vertical-align: middle;\n",
       "    }\n",
       "\n",
       "    .dataframe tbody tr th {\n",
       "        vertical-align: top;\n",
       "    }\n",
       "\n",
       "    .dataframe thead th {\n",
       "        text-align: right;\n",
       "    }\n",
       "</style>\n",
       "<table border=\"1\" class=\"dataframe\">\n",
       "  <thead>\n",
       "    <tr style=\"text-align: right;\">\n",
       "      <th></th>\n",
       "      <th>BuildingName</th>\n",
       "      <th>CAAN</th>\n",
       "      <th>Construction Date</th>\n",
       "      <th>Display Name</th>\n",
       "      <th>Latitude</th>\n",
       "      <th>Longitude</th>\n",
       "      <th>Primary Usage (Type)</th>\n",
       "      <th>Total Maintained Gross Sq. Ft.</th>\n",
       "      <th>chilledwater.Annual Cost</th>\n",
       "      <th>chilledwater.tonh Rate</th>\n",
       "      <th>electricity.Annual Cost</th>\n",
       "      <th>electricity.kWh Rate</th>\n",
       "      <th>steam.Annual Cost</th>\n",
       "      <th>steam.klb Rate</th>\n",
       "      <th>Asset_Id</th>\n",
       "      <th>Primary Usage (SF % of Total)</th>\n",
       "      <th>Building Name</th>\n",
       "      <th>Sq Ft.</th>\n",
       "    </tr>\n",
       "  </thead>\n",
       "  <tbody>\n",
       "    <tr>\n",
       "      <th>0</th>\n",
       "      <td>ARCPavilion</td>\n",
       "      <td>4444</td>\n",
       "      <td>19770301.0</td>\n",
       "      <td>ARC Pavilion</td>\n",
       "      <td>38.541812</td>\n",
       "      <td>-121.759624</td>\n",
       "      <td>REC - Athletics &amp; Recreation</td>\n",
       "      <td>171940.0</td>\n",
       "      <td>557.0</td>\n",
       "      <td>0.1493</td>\n",
       "      <td>51155</td>\n",
       "      <td>0.0687</td>\n",
       "      <td>1500.0</td>\n",
       "      <td>7.2552</td>\n",
       "      <td>ARC Pavilion</td>\n",
       "      <td>NaN</td>\n",
       "      <td>NaN</td>\n",
       "      <td>NaN</td>\n",
       "    </tr>\n",
       "    <tr>\n",
       "      <th>1</th>\n",
       "      <td>AcademicSurge</td>\n",
       "      <td>4632</td>\n",
       "      <td>19920501.0</td>\n",
       "      <td>Academic Surge Building</td>\n",
       "      <td>38.535302</td>\n",
       "      <td>-121.752910</td>\n",
       "      <td>OFF - Academic / Administrative Office</td>\n",
       "      <td>127426.0</td>\n",
       "      <td>712.0</td>\n",
       "      <td>0.1493</td>\n",
       "      <td>143910</td>\n",
       "      <td>0.0687</td>\n",
       "      <td>13562.0</td>\n",
       "      <td>7.2552</td>\n",
       "      <td>Academic Surge Building</td>\n",
       "      <td>NaN</td>\n",
       "      <td>NaN</td>\n",
       "      <td>NaN</td>\n",
       "    </tr>\n",
       "    <tr>\n",
       "      <th>2</th>\n",
       "      <td>ARC</td>\n",
       "      <td>4799</td>\n",
       "      <td>20020415.0</td>\n",
       "      <td>Activities and Recreation Center</td>\n",
       "      <td>38.542897</td>\n",
       "      <td>-121.759644</td>\n",
       "      <td>REC - Athletics &amp; Recreation</td>\n",
       "      <td>158120.0</td>\n",
       "      <td>55977.0</td>\n",
       "      <td>0.1493</td>\n",
       "      <td>97822</td>\n",
       "      <td>0.0687</td>\n",
       "      <td>25234.0</td>\n",
       "      <td>7.2552</td>\n",
       "      <td>Activities and Recreation Center</td>\n",
       "      <td>NaN</td>\n",
       "      <td>NaN</td>\n",
       "      <td>NaN</td>\n",
       "    </tr>\n",
       "    <tr>\n",
       "      <th>3</th>\n",
       "      <td>AMRL</td>\n",
       "      <td>4853</td>\n",
       "      <td>20080731.0</td>\n",
       "      <td>Advanced Materials Research Laboratory</td>\n",
       "      <td>38.532286</td>\n",
       "      <td>-121.758484</td>\n",
       "      <td>LAB - Lab / Research</td>\n",
       "      <td>7560.0</td>\n",
       "      <td>NaN</td>\n",
       "      <td>NaN</td>\n",
       "      <td>9567</td>\n",
       "      <td>0.0687</td>\n",
       "      <td>NaN</td>\n",
       "      <td>NaN</td>\n",
       "      <td>Advanced Materials Research Laboratory</td>\n",
       "      <td>NaN</td>\n",
       "      <td>NaN</td>\n",
       "      <td>NaN</td>\n",
       "    </tr>\n",
       "    <tr>\n",
       "      <th>4</th>\n",
       "      <td>ATIRC</td>\n",
       "      <td>4879</td>\n",
       "      <td>20080801.0</td>\n",
       "      <td>Advanced Transportation Infrastructure Researc...</td>\n",
       "      <td>38.534596</td>\n",
       "      <td>-121.794319</td>\n",
       "      <td>LAB - Lab / Research</td>\n",
       "      <td>18955.0</td>\n",
       "      <td>NaN</td>\n",
       "      <td>NaN</td>\n",
       "      <td>29061</td>\n",
       "      <td>0.0687</td>\n",
       "      <td>NaN</td>\n",
       "      <td>NaN</td>\n",
       "      <td>Advanced Transportation Infrastructure Researc...</td>\n",
       "      <td>NaN</td>\n",
       "      <td>NaN</td>\n",
       "      <td>NaN</td>\n",
       "    </tr>\n",
       "    <tr>\n",
       "      <th>...</th>\n",
       "      <td>...</td>\n",
       "      <td>...</td>\n",
       "      <td>...</td>\n",
       "      <td>...</td>\n",
       "      <td>...</td>\n",
       "      <td>...</td>\n",
       "      <td>...</td>\n",
       "      <td>...</td>\n",
       "      <td>...</td>\n",
       "      <td>...</td>\n",
       "      <td>...</td>\n",
       "      <td>...</td>\n",
       "      <td>...</td>\n",
       "      <td>...</td>\n",
       "      <td>...</td>\n",
       "      <td>...</td>\n",
       "      <td>...</td>\n",
       "      <td>...</td>\n",
       "    </tr>\n",
       "    <tr>\n",
       "      <th>161</th>\n",
       "      <td>WatershedResearch</td>\n",
       "      <td>4833</td>\n",
       "      <td>20051024.0</td>\n",
       "      <td>Watershed Science Facility</td>\n",
       "      <td>38.534788</td>\n",
       "      <td>-121.752625</td>\n",
       "      <td>LAB - Lab / Research</td>\n",
       "      <td>18391.0</td>\n",
       "      <td>6847.0</td>\n",
       "      <td>0.1493</td>\n",
       "      <td>41650</td>\n",
       "      <td>0.0687</td>\n",
       "      <td>3452.0</td>\n",
       "      <td>7.2552</td>\n",
       "      <td>Watershed Science Facility</td>\n",
       "      <td>NaN</td>\n",
       "      <td>NaN</td>\n",
       "      <td>NaN</td>\n",
       "    </tr>\n",
       "    <tr>\n",
       "      <th>162</th>\n",
       "      <td>Wellman</td>\n",
       "      <td>4050</td>\n",
       "      <td>0.0</td>\n",
       "      <td>0</td>\n",
       "      <td>38.541337</td>\n",
       "      <td>-121.751393</td>\n",
       "      <td>0</td>\n",
       "      <td>0.0</td>\n",
       "      <td>32992.0</td>\n",
       "      <td>0.1493</td>\n",
       "      <td>11147</td>\n",
       "      <td>0.0687</td>\n",
       "      <td>159444.0</td>\n",
       "      <td>7.2552</td>\n",
       "      <td>Wellman Hall</td>\n",
       "      <td>NaN</td>\n",
       "      <td>NaN</td>\n",
       "      <td>NaN</td>\n",
       "    </tr>\n",
       "    <tr>\n",
       "      <th>163</th>\n",
       "      <td>WHNRC</td>\n",
       "      <td>4843</td>\n",
       "      <td>0.0</td>\n",
       "      <td>Western Human Nutrition Research Center (WHNRC)</td>\n",
       "      <td>38.535025</td>\n",
       "      <td>-121.766218</td>\n",
       "      <td>LAB - Lab / Research</td>\n",
       "      <td>49941.0</td>\n",
       "      <td>52087.0</td>\n",
       "      <td>0.1493</td>\n",
       "      <td>80918</td>\n",
       "      <td>0.0687</td>\n",
       "      <td>23547.0</td>\n",
       "      <td>7.2552</td>\n",
       "      <td>Western Human Nutrition Research Center (WHNRC)</td>\n",
       "      <td>NaN</td>\n",
       "      <td>NaN</td>\n",
       "      <td>NaN</td>\n",
       "    </tr>\n",
       "    <tr>\n",
       "      <th>164</th>\n",
       "      <td>Wickson</td>\n",
       "      <td>3351</td>\n",
       "      <td>19590501.0</td>\n",
       "      <td>Wickson Hall</td>\n",
       "      <td>38.542042</td>\n",
       "      <td>-121.751590</td>\n",
       "      <td>CLS - Classroom</td>\n",
       "      <td>112937.0</td>\n",
       "      <td>62342.0</td>\n",
       "      <td>0.1493</td>\n",
       "      <td>167646</td>\n",
       "      <td>0.0687</td>\n",
       "      <td>67190.0</td>\n",
       "      <td>7.2552</td>\n",
       "      <td>Wickson Hall</td>\n",
       "      <td>NaN</td>\n",
       "      <td>NaN</td>\n",
       "      <td>NaN</td>\n",
       "    </tr>\n",
       "    <tr>\n",
       "      <th>165</th>\n",
       "      <td>Young</td>\n",
       "      <td>3266</td>\n",
       "      <td>19400501.0</td>\n",
       "      <td>Young Hall</td>\n",
       "      <td>38.542394</td>\n",
       "      <td>-121.747732</td>\n",
       "      <td>CLS - Classroom</td>\n",
       "      <td>90567.0</td>\n",
       "      <td>35053.0</td>\n",
       "      <td>0.1493</td>\n",
       "      <td>58592</td>\n",
       "      <td>0.0687</td>\n",
       "      <td>57209.0</td>\n",
       "      <td>7.2552</td>\n",
       "      <td>Young Hall</td>\n",
       "      <td>NaN</td>\n",
       "      <td>NaN</td>\n",
       "      <td>NaN</td>\n",
       "    </tr>\n",
       "  </tbody>\n",
       "</table>\n",
       "<p>166 rows × 18 columns</p>\n",
       "</div>"
      ],
      "text/plain": [
       "          BuildingName  CAAN  Construction Date  \\\n",
       "0          ARCPavilion  4444         19770301.0   \n",
       "1        AcademicSurge  4632         19920501.0   \n",
       "2                  ARC  4799         20020415.0   \n",
       "3                 AMRL  4853         20080731.0   \n",
       "4                ATIRC  4879         20080801.0   \n",
       "..                 ...   ...                ...   \n",
       "161  WatershedResearch  4833         20051024.0   \n",
       "162            Wellman  4050                0.0   \n",
       "163              WHNRC  4843                0.0   \n",
       "164            Wickson  3351         19590501.0   \n",
       "165              Young  3266         19400501.0   \n",
       "\n",
       "                                          Display Name   Latitude   Longitude  \\\n",
       "0                                         ARC Pavilion  38.541812 -121.759624   \n",
       "1                              Academic Surge Building  38.535302 -121.752910   \n",
       "2                     Activities and Recreation Center  38.542897 -121.759644   \n",
       "3               Advanced Materials Research Laboratory  38.532286 -121.758484   \n",
       "4    Advanced Transportation Infrastructure Researc...  38.534596 -121.794319   \n",
       "..                                                 ...        ...         ...   \n",
       "161                         Watershed Science Facility  38.534788 -121.752625   \n",
       "162                                                  0  38.541337 -121.751393   \n",
       "163    Western Human Nutrition Research Center (WHNRC)  38.535025 -121.766218   \n",
       "164                                       Wickson Hall  38.542042 -121.751590   \n",
       "165                                         Young Hall  38.542394 -121.747732   \n",
       "\n",
       "                       Primary Usage (Type)  Total Maintained Gross Sq. Ft.  \\\n",
       "0              REC - Athletics & Recreation                        171940.0   \n",
       "1    OFF - Academic / Administrative Office                        127426.0   \n",
       "2              REC - Athletics & Recreation                        158120.0   \n",
       "3                      LAB - Lab / Research                          7560.0   \n",
       "4                      LAB - Lab / Research                         18955.0   \n",
       "..                                      ...                             ...   \n",
       "161                    LAB - Lab / Research                         18391.0   \n",
       "162                                       0                             0.0   \n",
       "163                    LAB - Lab / Research                         49941.0   \n",
       "164                         CLS - Classroom                        112937.0   \n",
       "165                         CLS - Classroom                         90567.0   \n",
       "\n",
       "     chilledwater.Annual Cost  chilledwater.tonh Rate  \\\n",
       "0                       557.0                  0.1493   \n",
       "1                       712.0                  0.1493   \n",
       "2                     55977.0                  0.1493   \n",
       "3                         NaN                     NaN   \n",
       "4                         NaN                     NaN   \n",
       "..                        ...                     ...   \n",
       "161                    6847.0                  0.1493   \n",
       "162                   32992.0                  0.1493   \n",
       "163                   52087.0                  0.1493   \n",
       "164                   62342.0                  0.1493   \n",
       "165                   35053.0                  0.1493   \n",
       "\n",
       "     electricity.Annual Cost  electricity.kWh Rate  steam.Annual Cost  \\\n",
       "0                      51155                0.0687             1500.0   \n",
       "1                     143910                0.0687            13562.0   \n",
       "2                      97822                0.0687            25234.0   \n",
       "3                       9567                0.0687                NaN   \n",
       "4                      29061                0.0687                NaN   \n",
       "..                       ...                   ...                ...   \n",
       "161                    41650                0.0687             3452.0   \n",
       "162                    11147                0.0687           159444.0   \n",
       "163                    80918                0.0687            23547.0   \n",
       "164                   167646                0.0687            67190.0   \n",
       "165                    58592                0.0687            57209.0   \n",
       "\n",
       "     steam.klb Rate                                           Asset_Id  \\\n",
       "0            7.2552                                       ARC Pavilion   \n",
       "1            7.2552                            Academic Surge Building   \n",
       "2            7.2552                   Activities and Recreation Center   \n",
       "3               NaN             Advanced Materials Research Laboratory   \n",
       "4               NaN  Advanced Transportation Infrastructure Researc...   \n",
       "..              ...                                                ...   \n",
       "161          7.2552                         Watershed Science Facility   \n",
       "162          7.2552                                       Wellman Hall   \n",
       "163          7.2552    Western Human Nutrition Research Center (WHNRC)   \n",
       "164          7.2552                                       Wickson Hall   \n",
       "165          7.2552                                         Young Hall   \n",
       "\n",
       "     Primary Usage (SF % of Total) Building Name Sq Ft.  \n",
       "0                              NaN           NaN    NaN  \n",
       "1                              NaN           NaN    NaN  \n",
       "2                              NaN           NaN    NaN  \n",
       "3                              NaN           NaN    NaN  \n",
       "4                              NaN           NaN    NaN  \n",
       "..                             ...           ...    ...  \n",
       "161                            NaN           NaN    NaN  \n",
       "162                            NaN           NaN    NaN  \n",
       "163                            NaN           NaN    NaN  \n",
       "164                            NaN           NaN    NaN  \n",
       "165                            NaN           NaN    NaN  \n",
       "\n",
       "[166 rows x 18 columns]"
      ]
     },
     "execution_count": 20,
     "metadata": {},
     "output_type": "execute_result"
    }
   ],
   "source": [
    "hub.all_assets_metadata()"
   ]
  },
  {
   "cell_type": "code",
   "execution_count": null,
   "metadata": {
    "cell_id": "00037-5a1b1787-50af-4cc1-8f91-c1e1cf643cbf",
    "deepnote_cell_type": "code",
    "deepnote_to_be_reexecuted": false,
    "execution_millis": 0,
    "execution_start": 1644893227467,
    "source_hash": "b623e53d"
   },
   "outputs": [],
   "source": []
  },
  {
   "cell_type": "markdown",
   "metadata": {
    "created_in_deepnote_cell": true,
    "deepnote_cell_type": "markdown",
    "tags": []
   },
   "source": [
    "<a style='text-decoration:none;line-height:16px;display:flex;color:#5B5B62;padding:10px;justify-content:end;' href='https://deepnote.com?utm_source=created-in-deepnote-cell&projectId=f1a24daf-02e8-473d-ac7d-4f95d28af1b1' target=\"_blank\">\n",
    "<img alt='Created in deepnote.com' style='display:inline;max-height:16px;margin:0px;margin-right:7.5px;' src='data:image/svg+xml;base64,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' > </img>\n",
    "Created in <span style='font-weight:600;margin-left:4px;'>Deepnote</span></a>"
   ]
  },
  {
   "cell_type": "code",
   "execution_count": null,
   "metadata": {},
   "outputs": [],
   "source": []
  }
 ],
 "metadata": {
  "deepnote": {},
  "deepnote_execution_queue": [],
  "deepnote_notebook_id": "248bff49-28c2-4dc1-8e63-4cf7bd2466d3",
  "kernelspec": {
   "display_name": "Python 3 (ipykernel)",
   "language": "python",
   "name": "python3"
  },
  "language_info": {
   "codemirror_mode": {
    "name": "ipython",
    "version": 3
   },
   "file_extension": ".py",
   "mimetype": "text/x-python",
   "name": "python",
   "nbconvert_exporter": "python",
   "pygments_lexer": "ipython3",
   "version": "3.8.12"
  },
  "toc": {
   "base_numbering": 1,
   "nav_menu": {},
   "number_sections": true,
   "sideBar": true,
   "skip_h1_title": false,
   "title_cell": "Table of Contents",
   "title_sidebar": "Contents",
   "toc_cell": false,
   "toc_position": {},
   "toc_section_display": true,
   "toc_window_display": false
  }
 },
 "nbformat": 4,
 "nbformat_minor": 4
}
