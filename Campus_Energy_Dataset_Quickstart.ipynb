{
 "cells": [
  {
   "cell_type": "markdown",
   "source": "# Campus Energy Dataset Quick Start\n\nVersion 1.1\n\nThe Campus Energy Dataset is an Academic Hub dataset hosted by the OSIsoft Cloud Service (OCS, https://www.osisoft.com/solutions/cloud/vision/), a cloud-native real-time data infrastructure used to perform enterprise-wide analytics using tools and languages of the user's choice. \n\n<div class=\"alert alert-info\">\n<b>For documentation about the Campus Energy dataset itself, please go to <a href=\"https://data.academic.osisoft.com/nbviewer/github/academic-hub/campus_energy/blob/main/Campus_Energy_Dataset_Doc.ipynb\">https://data.academic.osisoft.com/nbviewer/github/academic-hub/campus_energy/blob/main/Campus_Energy_Dataset_Doc.ipynb</a></b>\n</div>\n\n**Raw operational data has specific characteristics making it difficult to deal with directly**, among them:\n\n* variable data collection frequencies\n* bad values (system error codes)\n* data gaps \n\n\n**But data science projects using operational data needs to be:**\n\n* **Time-aligned** to deal with the characteritics above in consistent way according to the data type (e.g. interpolation for float values, repeat last good value for categorical data, etc)\n* **Context aware** so that the data can be understandable, across as many real-world assets that you need it for\n* **Shaped and filtered** to ensure you have the data you need, in the form you need it\n* **Stored values** are also available when interpolated (time-aligned) values are not desirable\n\n**The OCS solutions for application-ready data are Data Views:**\n\n![](https://academichub.blob.core.windows.net/images/piworld-dse-dataview-p2.png)\n\n**Each Academic Hub datasets comes endowed with a set of asset-centric data views.** \n\nThe goal of Academic Hub Python library is to provide a very generic and consistent way to access:\n\n* the list of existing datasets\n* for a given dataset:\n  * the list of its assets\n  * the OCS namespace where the dataset is hosted\n* for a given asset, the list of data views it belongs to\n\n<div class=\"alert alert-info\">\n<b>The rest of this notebook is a working example of the functionality listed above for the Campus Energy dataset</b>\n</div>\n",
   "metadata": {
    "cell_id": "7d81aa86-ff64-4cff-8350-f146a266d0a3",
    "deepnote_cell_type": "markdown"
   }
  },
  {
   "cell_type": "markdown",
   "source": "## Install Academic Hub Python library ",
   "metadata": {
    "cell_id": "00001-cd974cdd-d388-45e3-bfa7-918292638bf3",
    "deepnote_cell_type": "markdown"
   }
  },
  {
   "cell_type": "code",
   "metadata": {
    "tags": [],
    "cell_id": "00002-19071778-e674-4fb8-b9ab-ab6bbccbcbe5",
    "deepnote_to_be_reexecuted": false,
    "source_hash": "7e768612",
    "execution_start": 1644893208036,
    "execution_millis": 2965,
    "deepnote_cell_type": "code"
   },
   "source": "!pip install ocs-academic-hub==0.99.42",
   "execution_count": 1,
   "outputs": [
    {
     "name": "stdout",
     "text": "Requirement already satisfied: ocs-academic-hub==0.99.42 in /root/venv/lib/python3.7/site-packages (0.99.42)\nRequirement already satisfied: numpy in /shared-libs/python3.7/py/lib/python3.7/site-packages (from ocs-academic-hub==0.99.42) (1.19.5)\nRequirement already satisfied: typeguard>=2.4.1 in /root/venv/lib/python3.7/site-packages (from ocs-academic-hub==0.99.42) (2.13.3)\nRequirement already satisfied: gql==2.0.0 in /root/venv/lib/python3.7/site-packages (from ocs-academic-hub==0.99.42) (2.0.0)\nRequirement already satisfied: ocs-sample-library-hub>=0.1.19 in /root/venv/lib/python3.7/site-packages (from ocs-academic-hub==0.99.42) (0.1.20)\nRequirement already satisfied: python-dateutil>=2.8.0 in /shared-libs/python3.7/py-core/lib/python3.7/site-packages (from ocs-academic-hub==0.99.42) (2.8.2)\nRequirement already satisfied: backoff in /root/venv/lib/python3.7/site-packages (from ocs-academic-hub==0.99.42) (1.11.1)\nRequirement already satisfied: importlib-metadata in /shared-libs/python3.7/py-core/lib/python3.7/site-packages (from ocs-academic-hub==0.99.42) (4.11.0)\nRequirement already satisfied: pandas>=0.24.2 in /shared-libs/python3.7/py/lib/python3.7/site-packages (from ocs-academic-hub==0.99.42) (1.2.5)\nRequirement already satisfied: markdown in /shared-libs/python3.7/py/lib/python3.7/site-packages (from ocs-academic-hub==0.99.42) (3.3.6)\nRequirement already satisfied: ipywidgets in /root/venv/lib/python3.7/site-packages (from ocs-academic-hub==0.99.42) (7.6.5)\nRequirement already satisfied: requests>=2.26 in /shared-libs/python3.7/py/lib/python3.7/site-packages (from ocs-academic-hub==0.99.42) (2.27.1)\nRequirement already satisfied: six>=1.10.0 in /shared-libs/python3.7/py-core/lib/python3.7/site-packages (from gql==2.0.0->ocs-academic-hub==0.99.42) (1.16.0)\nRequirement already satisfied: promise<3,>=2.3 in /root/venv/lib/python3.7/site-packages (from gql==2.0.0->ocs-academic-hub==0.99.42) (2.3)\nRequirement already satisfied: graphql-core<3,>=2.3.2 in /root/venv/lib/python3.7/site-packages (from gql==2.0.0->ocs-academic-hub==0.99.42) (2.3.2)\nRequirement already satisfied: typing-extensions>=3.6.4; python_version < \"3.8\" in /shared-libs/python3.7/py-core/lib/python3.7/site-packages (from importlib-metadata->ocs-academic-hub==0.99.42) (4.1.1)\nRequirement already satisfied: zipp>=0.5 in /shared-libs/python3.7/py-core/lib/python3.7/site-packages (from importlib-metadata->ocs-academic-hub==0.99.42) (3.7.0)\nRequirement already satisfied: pytz>=2017.3 in /shared-libs/python3.7/py/lib/python3.7/site-packages (from pandas>=0.24.2->ocs-academic-hub==0.99.42) (2021.3)\nRequirement already satisfied: widgetsnbextension~=3.5.0 in /root/venv/lib/python3.7/site-packages (from ipywidgets->ocs-academic-hub==0.99.42) (3.5.2)\nRequirement already satisfied: nbformat>=4.2.0 in /shared-libs/python3.7/py-core/lib/python3.7/site-packages (from ipywidgets->ocs-academic-hub==0.99.42) (5.1.3)\nRequirement already satisfied: traitlets>=4.3.1 in /shared-libs/python3.7/py-core/lib/python3.7/site-packages (from ipywidgets->ocs-academic-hub==0.99.42) (4.3.3)\nRequirement already satisfied: ipython-genutils~=0.2.0 in /shared-libs/python3.7/py-core/lib/python3.7/site-packages (from ipywidgets->ocs-academic-hub==0.99.42) (0.2.0)\nRequirement already satisfied: ipykernel>=4.5.1 in /shared-libs/python3.7/py-core/lib/python3.7/site-packages (from ipywidgets->ocs-academic-hub==0.99.42) (5.5.5)\nRequirement already satisfied: ipython>=4.0.0; python_version >= \"3.3\" in /shared-libs/python3.7/py-core/lib/python3.7/site-packages (from ipywidgets->ocs-academic-hub==0.99.42) (7.31.1)\nRequirement already satisfied: jupyterlab-widgets>=1.0.0; python_version >= \"3.6\" in /root/venv/lib/python3.7/site-packages (from ipywidgets->ocs-academic-hub==0.99.42) (1.0.2)\nRequirement already satisfied: charset-normalizer~=2.0.0; python_version >= \"3\" in /shared-libs/python3.7/py-core/lib/python3.7/site-packages (from requests>=2.26->ocs-academic-hub==0.99.42) (2.0.12)\nRequirement already satisfied: certifi>=2017.4.17 in /shared-libs/python3.7/py/lib/python3.7/site-packages (from requests>=2.26->ocs-academic-hub==0.99.42) (2021.10.8)\nRequirement already satisfied: urllib3<1.27,>=1.21.1 in /shared-libs/python3.7/py/lib/python3.7/site-packages (from requests>=2.26->ocs-academic-hub==0.99.42) (1.26.8)\nRequirement already satisfied: idna<4,>=2.5; python_version >= \"3\" in /shared-libs/python3.7/py-core/lib/python3.7/site-packages (from requests>=2.26->ocs-academic-hub==0.99.42) (3.3)\nRequirement already satisfied: rx<2,>=1.6 in /root/venv/lib/python3.7/site-packages (from graphql-core<3,>=2.3.2->gql==2.0.0->ocs-academic-hub==0.99.42) (1.6.1)\nRequirement already satisfied: notebook>=4.4.1 in /shared-libs/python3.7/py-core/lib/python3.7/site-packages (from widgetsnbextension~=3.5.0->ipywidgets->ocs-academic-hub==0.99.42) (6.3.0)\nRequirement already satisfied: jupyter-core in /shared-libs/python3.7/py-core/lib/python3.7/site-packages (from nbformat>=4.2.0->ipywidgets->ocs-academic-hub==0.99.42) (4.7.1)\nRequirement already satisfied: jsonschema!=2.5.0,>=2.4 in /shared-libs/python3.7/py-core/lib/python3.7/site-packages (from nbformat>=4.2.0->ipywidgets->ocs-academic-hub==0.99.42) (3.2.0)\nRequirement already satisfied: decorator in /shared-libs/python3.7/py-core/lib/python3.7/site-packages (from traitlets>=4.3.1->ipywidgets->ocs-academic-hub==0.99.42) (5.1.1)\nRequirement already satisfied: jupyter-client in /shared-libs/python3.7/py-core/lib/python3.7/site-packages (from ipykernel>=4.5.1->ipywidgets->ocs-academic-hub==0.99.42) (6.1.12)\nRequirement already satisfied: tornado>=4.2 in /shared-libs/python3.7/py-core/lib/python3.7/site-packages (from ipykernel>=4.5.1->ipywidgets->ocs-academic-hub==0.99.42) (6.1)\nRequirement already satisfied: setuptools>=18.5 in /root/venv/lib/python3.7/site-packages (from ipython>=4.0.0; python_version >= \"3.3\"->ipywidgets->ocs-academic-hub==0.99.42) (47.1.0)\nRequirement already satisfied: pygments in /shared-libs/python3.7/py-core/lib/python3.7/site-packages (from ipython>=4.0.0; python_version >= \"3.3\"->ipywidgets->ocs-academic-hub==0.99.42) (2.11.2)\nRequirement already satisfied: matplotlib-inline in /shared-libs/python3.7/py-core/lib/python3.7/site-packages (from ipython>=4.0.0; python_version >= \"3.3\"->ipywidgets->ocs-academic-hub==0.99.42) (0.1.3)\nRequirement already satisfied: backcall in /shared-libs/python3.7/py-core/lib/python3.7/site-packages (from ipython>=4.0.0; python_version >= \"3.3\"->ipywidgets->ocs-academic-hub==0.99.42) (0.2.0)\nRequirement already satisfied: jedi>=0.16 in /shared-libs/python3.7/py-core/lib/python3.7/site-packages (from ipython>=4.0.0; python_version >= \"3.3\"->ipywidgets->ocs-academic-hub==0.99.42) (0.17.2)\nRequirement already satisfied: pickleshare in /shared-libs/python3.7/py-core/lib/python3.7/site-packages (from ipython>=4.0.0; python_version >= \"3.3\"->ipywidgets->ocs-academic-hub==0.99.42) (0.7.5)\nRequirement already satisfied: pexpect>4.3; sys_platform != \"win32\" in /shared-libs/python3.7/py-core/lib/python3.7/site-packages (from ipython>=4.0.0; python_version >= \"3.3\"->ipywidgets->ocs-academic-hub==0.99.42) (4.8.0)\nRequirement already satisfied: prompt-toolkit!=3.0.0,!=3.0.1,<3.1.0,>=2.0.0 in /shared-libs/python3.7/py-core/lib/python3.7/site-packages (from ipython>=4.0.0; python_version >= \"3.3\"->ipywidgets->ocs-academic-hub==0.99.42) (3.0.28)\nRequirement already satisfied: nbconvert==6.0.7 in /shared-libs/python3.7/py-core/lib/python3.7/site-packages (from notebook>=4.4.1->widgetsnbextension~=3.5.0->ipywidgets->ocs-academic-hub==0.99.42) (6.0.7)\nRequirement already satisfied: jinja2 in /shared-libs/python3.7/py-core/lib/python3.7/site-packages (from notebook>=4.4.1->widgetsnbextension~=3.5.0->ipywidgets->ocs-academic-hub==0.99.42) (3.0.3)\nRequirement already satisfied: prometheus-client in /shared-libs/python3.7/py-core/lib/python3.7/site-packages (from notebook>=4.4.1->widgetsnbextension~=3.5.0->ipywidgets->ocs-academic-hub==0.99.42) (0.13.1)\nRequirement already satisfied: pyzmq>=17 in /shared-libs/python3.7/py-core/lib/python3.7/site-packages (from notebook>=4.4.1->widgetsnbextension~=3.5.0->ipywidgets->ocs-academic-hub==0.99.42) (22.3.0)\nRequirement already satisfied: terminado>=0.8.3 in /shared-libs/python3.7/py-core/lib/python3.7/site-packages (from notebook>=4.4.1->widgetsnbextension~=3.5.0->ipywidgets->ocs-academic-hub==0.99.42) (0.13.1)\nRequirement already satisfied: Send2Trash>=1.5.0 in /shared-libs/python3.7/py-core/lib/python3.7/site-packages (from notebook>=4.4.1->widgetsnbextension~=3.5.0->ipywidgets->ocs-academic-hub==0.99.42) (1.8.0)\nRequirement already satisfied: argon2-cffi in /shared-libs/python3.7/py-core/lib/python3.7/site-packages (from notebook>=4.4.1->widgetsnbextension~=3.5.0->ipywidgets->ocs-academic-hub==0.99.42) (21.3.0)\nRequirement already satisfied: pyrsistent>=0.14.0 in /shared-libs/python3.7/py-core/lib/python3.7/site-packages (from jsonschema!=2.5.0,>=2.4->nbformat>=4.2.0->ipywidgets->ocs-academic-hub==0.99.42) (0.18.1)\nRequirement already satisfied: attrs>=17.4.0 in /shared-libs/python3.7/py-core/lib/python3.7/site-packages (from jsonschema!=2.5.0,>=2.4->nbformat>=4.2.0->ipywidgets->ocs-academic-hub==0.99.42) (21.4.0)\nRequirement already satisfied: parso<0.8.0,>=0.7.0 in /shared-libs/python3.7/py-core/lib/python3.7/site-packages (from jedi>=0.16->ipython>=4.0.0; python_version >= \"3.3\"->ipywidgets->ocs-academic-hub==0.99.42) (0.7.1)\nRequirement already satisfied: ptyprocess>=0.5 in /shared-libs/python3.7/py-core/lib/python3.7/site-packages (from pexpect>4.3; sys_platform != \"win32\"->ipython>=4.0.0; python_version >= \"3.3\"->ipywidgets->ocs-academic-hub==0.99.42) (0.7.0)\nRequirement already satisfied: wcwidth in /shared-libs/python3.7/py-core/lib/python3.7/site-packages (from prompt-toolkit!=3.0.0,!=3.0.1,<3.1.0,>=2.0.0->ipython>=4.0.0; python_version >= \"3.3\"->ipywidgets->ocs-academic-hub==0.99.42) (0.2.5)\nRequirement already satisfied: entrypoints>=0.2.2 in /shared-libs/python3.7/py-core/lib/python3.7/site-packages (from nbconvert==6.0.7->notebook>=4.4.1->widgetsnbextension~=3.5.0->ipywidgets->ocs-academic-hub==0.99.42) (0.4)\nRequirement already satisfied: mistune<2,>=0.8.1 in /shared-libs/python3.7/py-core/lib/python3.7/site-packages (from nbconvert==6.0.7->notebook>=4.4.1->widgetsnbextension~=3.5.0->ipywidgets->ocs-academic-hub==0.99.42) (0.8.4)\nRequirement already satisfied: defusedxml in /shared-libs/python3.7/py-core/lib/python3.7/site-packages (from nbconvert==6.0.7->notebook>=4.4.1->widgetsnbextension~=3.5.0->ipywidgets->ocs-academic-hub==0.99.42) (0.7.1)\nRequirement already satisfied: nbclient<0.6.0,>=0.5.0 in /shared-libs/python3.7/py-core/lib/python3.7/site-packages (from nbconvert==6.0.7->notebook>=4.4.1->widgetsnbextension~=3.5.0->ipywidgets->ocs-academic-hub==0.99.42) (0.5.10)\nRequirement already satisfied: testpath in /shared-libs/python3.7/py-core/lib/python3.7/site-packages (from nbconvert==6.0.7->notebook>=4.4.1->widgetsnbextension~=3.5.0->ipywidgets->ocs-academic-hub==0.99.42) (0.5.0)\nRequirement already satisfied: bleach in /shared-libs/python3.7/py-core/lib/python3.7/site-packages (from nbconvert==6.0.7->notebook>=4.4.1->widgetsnbextension~=3.5.0->ipywidgets->ocs-academic-hub==0.99.42) (4.1.0)\nRequirement already satisfied: pandocfilters>=1.4.1 in /shared-libs/python3.7/py-core/lib/python3.7/site-packages (from nbconvert==6.0.7->notebook>=4.4.1->widgetsnbextension~=3.5.0->ipywidgets->ocs-academic-hub==0.99.42) (1.5.0)\nRequirement already satisfied: jupyterlab-pygments in /shared-libs/python3.7/py-core/lib/python3.7/site-packages (from nbconvert==6.0.7->notebook>=4.4.1->widgetsnbextension~=3.5.0->ipywidgets->ocs-academic-hub==0.99.42) (0.1.2)\nRequirement already satisfied: MarkupSafe>=2.0 in /shared-libs/python3.7/py-core/lib/python3.7/site-packages (from jinja2->notebook>=4.4.1->widgetsnbextension~=3.5.0->ipywidgets->ocs-academic-hub==0.99.42) (2.0.1)\nRequirement already satisfied: argon2-cffi-bindings in /shared-libs/python3.7/py-core/lib/python3.7/site-packages (from argon2-cffi->notebook>=4.4.1->widgetsnbextension~=3.5.0->ipywidgets->ocs-academic-hub==0.99.42) (21.2.0)\nRequirement already satisfied: nest-asyncio in /shared-libs/python3.7/py-core/lib/python3.7/site-packages (from nbclient<0.6.0,>=0.5.0->nbconvert==6.0.7->notebook>=4.4.1->widgetsnbextension~=3.5.0->ipywidgets->ocs-academic-hub==0.99.42) (1.5.4)\nRequirement already satisfied: webencodings in /shared-libs/python3.7/py-core/lib/python3.7/site-packages (from bleach->nbconvert==6.0.7->notebook>=4.4.1->widgetsnbextension~=3.5.0->ipywidgets->ocs-academic-hub==0.99.42) (0.5.1)\nRequirement already satisfied: packaging in /shared-libs/python3.7/py-core/lib/python3.7/site-packages (from bleach->nbconvert==6.0.7->notebook>=4.4.1->widgetsnbextension~=3.5.0->ipywidgets->ocs-academic-hub==0.99.42) (21.3)\nRequirement already satisfied: cffi>=1.0.1 in /shared-libs/python3.7/py-core/lib/python3.7/site-packages (from argon2-cffi-bindings->argon2-cffi->notebook>=4.4.1->widgetsnbextension~=3.5.0->ipywidgets->ocs-academic-hub==0.99.42) (1.15.0)\nRequirement already satisfied: pyparsing!=3.0.5,>=2.0.2 in /shared-libs/python3.7/py-core/lib/python3.7/site-packages (from packaging->bleach->nbconvert==6.0.7->notebook>=4.4.1->widgetsnbextension~=3.5.0->ipywidgets->ocs-academic-hub==0.99.42) (3.0.7)\nRequirement already satisfied: pycparser in /shared-libs/python3.7/py-core/lib/python3.7/site-packages (from cffi>=1.0.1->argon2-cffi-bindings->argon2-cffi->notebook>=4.4.1->widgetsnbextension~=3.5.0->ipywidgets->ocs-academic-hub==0.99.42) (2.21)\n\u001b[33mWARNING: You are using pip version 20.1.1; however, version 22.0.3 is available.\nYou should consider upgrading via the '/root/venv/bin/python -m pip install --upgrade pip' command.\u001b[0m\n",
     "output_type": "stream"
    }
   ]
  },
  {
   "cell_type": "markdown",
   "source": "### [Optional] Use the `pip uninstall` only in case of library issues",
   "metadata": {
    "cell_id": "00003-81422d10-376b-4238-91f9-1ca1239bc177",
    "deepnote_cell_type": "markdown"
   }
  },
  {
   "cell_type": "code",
   "metadata": {
    "tags": [],
    "cell_id": "00004-e05e8541-aa0c-4623-b54d-3a078a4dd403",
    "deepnote_to_be_reexecuted": false,
    "source_hash": "93345d6b",
    "execution_start": 1644893211010,
    "execution_millis": 0,
    "deepnote_cell_type": "code"
   },
   "source": "# It's sometimes necessary to uninstall previous versions, uncomment and run the following line. \n# Then restart kernel and reinstall with previous cell\n# !pip uninstall -y ocs-academic-hub ocs-sample-library-preview",
   "execution_count": 2,
   "outputs": []
  },
  {
   "cell_type": "markdown",
   "source": "### Import required module and hub_login",
   "metadata": {
    "cell_id": "00005-f1b66064-6fd1-4a69-a12f-5d86f1d53af0",
    "deepnote_cell_type": "markdown"
   }
  },
  {
   "cell_type": "code",
   "metadata": {
    "cell_id": "00006-8e1401e9-dae8-4337-9da1-4ae8e7b73c4b",
    "deepnote_to_be_reexecuted": false,
    "source_hash": "45648655",
    "execution_start": 1644893211011,
    "execution_millis": 371,
    "deepnote_cell_type": "code"
   },
   "source": "from ocs_academic_hub.datahub import hub_login",
   "execution_count": 3,
   "outputs": []
  },
  {
   "cell_type": "markdown",
   "source": "### Login to Academic Hub by running the next cell\n\n**Execute the cell below and follow the indicated steps to log in (an AVEVA banner would show up)** ",
   "metadata": {
    "cell_id": "00007-b6573224-0f43-4319-ab2e-d93ecc222048",
    "deepnote_cell_type": "markdown"
   }
  },
  {
   "cell_type": "code",
   "metadata": {
    "tags": [],
    "cell_id": "00008-f5b42fe6-4a28-4c35-b526-466a031a4989",
    "deepnote_to_be_reexecuted": false,
    "source_hash": "a90597b9",
    "execution_start": 1644893211385,
    "execution_millis": 4864,
    "deepnote_output_heights": [
     2
    ],
    "deepnote_cell_type": "code"
   },
   "source": "widget, hub = hub_login()\nwidget",
   "execution_count": 4,
   "outputs": [
    {
     "data": {
      "text/plain": "<IPython.core.display.Javascript object>",
      "application/javascript": "\n    let t = JSON.stringify(localStorage.getItem(\"hub_jwt\") || '{\"access_token\": \"none\"}', null, 4);\n    const options = {\n        method: 'POST',\n        body: JSON.stringify(t),\n        headers: {\n            'Content-Type': 'application/json',\n            'Authorization': 'Custom 43b1f54a-95ee-4370-90a7-3e43ca333836'\n        },\n        // mode: 'no-cors'\n    }; \n    fetch('https://data.academic.osisoft.com/auth/previous_token', options) \n    .then(function (response) {\n        return response.text();\n    })\n    .catch(function (error) {\n        console.log(\"Error: \" + error);\n    });\n    "
     },
     "metadata": {},
     "output_type": "display_data"
    },
    {
     "data": {
      "text/plain": "VBox(children=(Text(value='OK, you can proceed +@#', description='Login status:', disabled=True, placeholder='…",
      "application/vnd.jupyter.widget-view+json": {
       "version_major": 2,
       "version_minor": 0,
       "model_id": "ec05c4fe3c1947368fefc198d9ae05a9"
      }
     },
     "metadata": {},
     "output_type": "display_data"
    }
   ]
  },
  {
   "cell_type": "markdown",
   "source": "## Refresh datasets information\n\nOver time existing datasets are updated and new ones are added. The cell below makes sure you have the latest version of the production datasets. \n\nNote: after execution of this method, a file named `hub_datasets.json` will be created in the same directory as this notebook. The data in this file supersedes the one built-in with the `ocs_academic_hub` module. To get back to the built-in datasets information, move/rename/delete `hub_datasets.json`. ",
   "metadata": {
    "cell_id": "00009-1d1813c0-c675-44d2-b5f2-dd86ce27edfb",
    "deepnote_cell_type": "markdown"
   }
  },
  {
   "cell_type": "code",
   "metadata": {
    "tags": [],
    "cell_id": "00010-779c34c1-1059-4204-b772-1d28c177110c",
    "deepnote_to_be_reexecuted": false,
    "source_hash": "34a4a259",
    "execution_start": 1644893216303,
    "execution_millis": 2130,
    "deepnote_cell_type": "code"
   },
   "source": "hub.refresh_datasets()",
   "execution_count": 5,
   "outputs": []
  },
  {
   "cell_type": "markdown",
   "source": "## Get list of published hub datasets\n",
   "metadata": {
    "cell_id": "00011-b4ccde62-e681-46a1-bcad-44022c3f0a70",
    "deepnote_cell_type": "markdown"
   }
  },
  {
   "cell_type": "code",
   "metadata": {
    "cell_id": "00012-2fb4d6fb-5d22-4cc7-a9c7-2d33ef263c1b",
    "deepnote_output_heights": [
     1
    ],
    "deepnote_to_be_reexecuted": false,
    "source_hash": "83f8b25d",
    "execution_start": 1644893218437,
    "execution_millis": 5,
    "deepnote_cell_type": "code"
   },
   "source": "hub.datasets()",
   "execution_count": 6,
   "outputs": [
    {
     "output_type": "execute_result",
     "execution_count": 6,
     "data": {
      "text/plain": "['Brewery',\n 'Campus_Energy',\n 'Classroom_Data',\n 'MIT',\n 'Pilot_Plant',\n 'USC_Well_Data',\n 'Wind_Farms']"
     },
     "metadata": {}
    }
   ]
  },
  {
   "cell_type": "markdown",
   "source": "## Display current active dataset\n\nThe default dataset is Brewery. Only one dataset can be active. ",
   "metadata": {
    "cell_id": "00013-1f0db6c4-9d9b-4c47-b7fd-823ae6be419f",
    "deepnote_cell_type": "markdown"
   }
  },
  {
   "cell_type": "code",
   "metadata": {
    "cell_id": "00014-8eb2c1a6-394a-44a2-a69d-0e72858db746",
    "deepnote_output_heights": [
     1
    ],
    "deepnote_to_be_reexecuted": false,
    "source_hash": "5cd9c7fc",
    "execution_start": 1644893218443,
    "execution_millis": 5,
    "deepnote_cell_type": "code"
   },
   "source": "hub.current_dataset()",
   "execution_count": 7,
   "outputs": [
    {
     "output_type": "execute_result",
     "execution_count": 7,
     "data": {
      "text/plain": "'Brewery'"
     },
     "metadata": {}
    }
   ]
  },
  {
   "cell_type": "markdown",
   "source": "## Set Campus Energy as the current dataset",
   "metadata": {
    "cell_id": "00015-db7a51ed-7732-4f43-8cba-5fae2df3f8f7",
    "deepnote_cell_type": "markdown"
   }
  },
  {
   "cell_type": "code",
   "metadata": {
    "cell_id": "00016-0ff0079f-281a-4eec-98b9-217ab47d7551",
    "deepnote_to_be_reexecuted": false,
    "source_hash": "30fc9fbf",
    "execution_start": 1644893218454,
    "execution_millis": 5,
    "deepnote_cell_type": "code"
   },
   "source": "hub.set_dataset(\"Campus_Energy\")",
   "execution_count": 8,
   "outputs": []
  },
  {
   "cell_type": "markdown",
   "source": "## Verify that Campus Energy is active",
   "metadata": {
    "cell_id": "00017-86e08b0d-0d58-4efa-a184-241a4e67b509",
    "deepnote_cell_type": "markdown"
   }
  },
  {
   "cell_type": "code",
   "metadata": {
    "cell_id": "00018-7668514a-4001-47b2-a24d-28d8464968c2",
    "deepnote_output_heights": [
     1
    ],
    "deepnote_to_be_reexecuted": false,
    "source_hash": "5cd9c7fc",
    "execution_start": 1644893218473,
    "execution_millis": 35,
    "deepnote_cell_type": "code"
   },
   "source": "hub.current_dataset()",
   "execution_count": 9,
   "outputs": [
    {
     "output_type": "execute_result",
     "execution_count": 9,
     "data": {
      "text/plain": "'Campus_Energy'"
     },
     "metadata": {}
    }
   ]
  },
  {
   "cell_type": "markdown",
   "source": "## Get list of assets with Data Views\n\nReturned into the form of a pandas dataframe, with column `Asset_Id` and `Description`. Each asset has a unique `Asset_Id` as its identity. \n\nThe cell below with `print` and `.to_string()` allows to see the whole dataframe content. \n\nNote that the *Academic Surge Building* is having index 1 (first column). We'll use this information in a few cells.   ",
   "metadata": {
    "cell_id": "00019-5be115ae-44a7-4f6f-86ce-6ce176d50589",
    "deepnote_cell_type": "markdown"
   }
  },
  {
   "cell_type": "code",
   "metadata": {
    "tags": [],
    "cell_id": "00020-1b78e626-a1b4-4df2-8450-7c07b8a6b383",
    "deepnote_to_be_reexecuted": false,
    "source_hash": "9a1218a4",
    "execution_start": 1644893218508,
    "execution_millis": 301,
    "deepnote_cell_type": "code"
   },
   "source": "buildings = hub.assets()\nprint(buildings.to_string())",
   "execution_count": 10,
   "outputs": [
    {
     "name": "stdout",
     "text": "                                                       Asset_Id                             Description\n0                                                  ARC Pavilion                                Building\n1                                       Academic Surge Building                                Building\n2                              Activities and Recreation Center                                Building\n3                        Advanced Materials Research Laboratory                                Building\n4        Advanced Transportation Infrastructure Research Center                                Building\n5                                     Agronomy Field Laboratory                                Building\n6                                               Animal Building                                Building\n7                                    Animal Resource Service J1                                Building\n8                                    Animal Resource Service M3                                Building\n9                                    Animal Resource Service N1                                Building\n10                                         Ann E. Pitzer Center                            Recital Hall\n11                                    Antique Mechanics Trailer                                Building\n12                 Aquatic Biology & Environmental Science Bldg                                Building\n13                                           Art Building Annex                                Building\n14                                     Art, Music, Wright Halls                                Building\n15                                              Asmundson Annex                                Building\n16                                               Asmundson Hall                                Building\n17                                                  Bainer Hall                                Building\n18                                            Bowley Head House                                Building\n19                                                  Briggs Hall                                Building\n20                                              California Hall                                Building\n21                                           Campus Data Center                                Building\n22                                  Cellular Biology Laboratory                                Building\n23                           Center for Companion Animal Health                                Building\n24                              Center for Comparative Medicine                                Building\n25            Center for Health & Environment Clinical Medicine                                Building\n26          Center for Health & Environment Office & Laboratory                                Building\n27   Center for Health & Environment Toxic Pollutant Laboratory                                Building\n28                                   Central Cage Wash Facility                                Building\n29                                                    Chemistry                                Building\n30                                              Chemistry Annex                                Building\n31                                                       Cole A                                Building\n32                                                       Cole B                                Building\n33                                            Conference Center                                Building\n34                                  Contained Research Facility                                Building\n35                                                  Cruess Hall                                Building\n36                                            Dairy Cattle Feed                                Building\n37                                            Dairy Cattle Shed                                Building\n38                                                  Dairy Tower                                Building\n39                                                  Dutton Hall                                Building\n40                         Earth and Physical Sciences Building                                Building\n41                 Environmental Services Facility Headquarters                                Building\n42                          Equestrian Center Caretaker Trailer                                Building\n43                              Equestrian Center Covered Arena                                Building\n44                                                 Everson Hall                                Building\n45                                       FPS Trinchero Building                                Building\n46                                  Facilities Electrical Annex                                Building\n47                                                Freeborn Hall                                Building\n48                                               Gallagher Hall                                 Complex\n49                                    Gateway Parking Structure                                Building\n50                        Genome & Biomedical Sciences Facility                                Building\n51                               Geotechnical Modeling Facility                                Building\n52                                                  Ghausi Hall                                Building\n53                                                   Giedt Hall                                Building\n54                             Gourley Clinical Teaching Center                                Building\n55                                   Growth Chamber Building T1                                Building\n56                                   Growth Chamber Building T2                                Building\n57                                                  Haring Hall                                Building\n58                                                    Hart Hall                                Building\n59                                Heitman Staff Learning Center                                Building\n60                                                   Hickey Gym                                Building\n61                                             Hickey Gym, Pool                                 Complex\n62                                                  Hickey Pool                                Building\n63                                                Hoagland Hall                                Building\n64                 Hopkins Services Complex Auxiliary Receiving                                Building\n65                                         Hopkins Svcs Complex                                 Complex\n66                                       Housing Administration                                Building\n67                                                Hunt, Parsons                                 Complex\n68                           Hutchison Child Development Center                                Building\n69                                               Hutchison Hall                                Building\n70                            Hutchison Recreation Field Lights                                Building\n71                                 IET Communications Resources                                Building\n72                                         International Center                                Building\n73                                   Jackson Sustainable Winery                                Building\n74                                               Jungerman Hall                                Building\n75                                                  Kemper Hall                                Building\n76                                                    Kerr Hall                                Building\n77                                                    King Hall                                Building\n78                                                Leukemia Barn                                Building\n79                                                 Leukemia Lab                                Building\n80                                                Life Sciences                                Building\n81                                                    Maddy Lab                                   EqACL\n82                                              Mann Laboratory                                Building\n83                               Mathematical Sciences Building                                Building\n84                                         Medical Sciences I B                                Building\n85                                         Medical Sciences I D                                Building\n86                                               Memorial Union                                Building\n87                                                   Meyer Hall                                Building\n88                                                    Mrak Hall                                Building\n89                Office of Research (1850 Research Park Drive)                                Building\n90                                                   Olson Hall                                Building\n91                                            PES Tennis Courts                                Building\n92                            Parsons Seed Certification Center                                Building\n93                                   Pavilion Parking Structure   Formerly West Entry Parking Structure\n94                      Physical Sciences & Engineering Library                                Building\n95                                             Physics Building                                Building\n96                               Plant & Environmental Sciences                                Building\n97                          Plant Reproductive Biology Facility                                Building\n98                  Primate Childhood Health & Disease Facility                                Building\n99                Primate Controlled Environment Facility (CEF)                                Building\n100                                          Primate Quarantine                                Building\n101                          Primate Respiratory Disease Center                                Building\n102                                       Primate Shop Facility                                Building\n103                    Primate Virology & Immunology Laboratory                                Building\n104                                              Pritchard VMTH                                 Complex\n105                                      Quad Parking Structure  formerly North Entry Parking Structure\n106                RMI Brewery, Winery, and Food Pilot Facility                                Building\n107                                   RMI North, South, Sensory           RMI North, Sount, and Sensory\n108                                                 Rifle Range                                Building\n109                                                Robbins Hall                                        \n110                                               Roessler Hall                                Building\n111                                       Schaal Aquatic Center                                Building\n112                                School of Education Building                                Building\n113                                       Sciences Lab Building                Tag includes Sci Lec 123\n114                                      Segundo Dining Commons                                Building\n115                                          Segundo High Rises                                 Complex\n116                                               Segundo North                                 Complex\n117                                               Segundo Regan                                 Complex\n118                             Segundo Services Center, Market                                 Complex\n119                                             Shields Library                                Building\n120                                         Shrem Museum of Art                                Building\n121                                              Silo Bike Barn                                Building\n122                                Social Sciences & Humanities                                Building\n123                                           Sprocket Building                                Building\n124                                                 Sproul Hall                                Building\n125                                                 Storer Hall                                Building\n126                                       Student Affairs Annex                                Building\n127                                    Student Community Center                                Building\n128                            Student Health & Wellness Center                                Building\n129                        Swine Teaching and Research Facility                                Building\n130                                                    TAPS C&E                                Building\n131                                      Temporary Building 144                                Building\n132                                      Temporary Building 178                                Building\n133                                      Temporary Building 184                                Building\n134                                                   Tercero 1                                 Complex\n135                                                   Tercero 2                                 Complex\n136                                                   Tercero 3                                 Complex\n137                                                   Tercero 4                                 Complex\n138                                   Tercero Community, Market                                 Complex\n139                                                    The Barn                                Building\n140                                          Thurman Laboratory                         CAHFS Container\n141                      Translational Shared Research Facility                                Building\n142                         Transportation and Parking Services                                Building\n143                                                 Tupper Hall                                Building\n144                                     UC Davis Health Stadium                                 Complex\n145                               University Extension Building                                Building\n146                                University Services Building                                Building\n147                                               VMTH Surgical                                Building\n148                                                   VMTH Ward                                Building\n149                                                 Valley Hall                             Valley Hall\n150                                              Veihmeyer Hall                                Building\n151                                          Vet Med 3A, 3A-MPT                                 Complex\n152                                                  Vet Med 3B                                Building\n153                     Vet Med Equine Athletic Performance Lab                                Building\n154                              Vet Med Lab Animal A Beach Lab                                Building\n155                               Vet Med Large Animal Facility                                Building\n156          Vet Med Student Services and Administration Center                                Building\n157                                       Veterinary Medicine 2                                Building\n158                                               Voorhies Hall                                Building\n159                                                 Walker Hall                                Building\n160                    Water Science & Engineering Hydraulic L2                                Building\n161                                  Watershed Science Facility              Watershed Science Facility\n162                                                Wellman Hall                                Building\n163             Western Human Nutrition Research Center (WHNRC)                                Building\n164                                                Wickson Hall                                Building\n165                                                  Young Hall                                Building\n",
     "output_type": "stream"
    }
   ]
  },
  {
   "cell_type": "markdown",
   "source": "## List of all Data Views\n\nThose are all single-asset default (with all data available for the asset) Data Views",
   "metadata": {
    "cell_id": "00021-38bc31a0-9e06-41c2-986b-f3c87b98f347",
    "deepnote_cell_type": "markdown"
   }
  },
  {
   "cell_type": "code",
   "metadata": {
    "cell_id": "00022-7150e606-fb73-4325-bdc8-537768e85c7c",
    "deepnote_output_heights": [
     611
    ],
    "deepnote_to_be_reexecuted": false,
    "source_hash": "32433344",
    "execution_start": 1644893218820,
    "execution_millis": 4,
    "deepnote_cell_type": "code"
   },
   "source": "hub.asset_dataviews()",
   "execution_count": 11,
   "outputs": [
    {
     "output_type": "execute_result",
     "execution_count": 11,
     "data": {
      "text/plain": "['campus.building-academic_surge_building',\n 'campus.building-activities_and_recreation_center',\n 'campus.building-advanced_materials_research_laboratory',\n 'campus.building-advanced_transportation_infrastructure_research_center',\n 'campus.building-agronomy_field_laboratory',\n 'campus.building-animal_building',\n 'campus.building-animal_resource_service_j_1',\n 'campus.building-animal_resource_service_m_3',\n 'campus.building-animal_resource_service_n_1',\n 'campus.building-ann_e_pitzer_center',\n 'campus.building-antique_mechanics_trailer',\n 'campus.building-aquatic_biology_environmental_science_bldg',\n 'campus.building-arc_pavilion',\n 'campus.building-art_building_annex',\n 'campus.building-art_music_wright_halls',\n 'campus.building-asmundson_annex',\n 'campus.building-asmundson_hall',\n 'campus.building-bainer_hall',\n 'campus.building-bowley_head_house',\n 'campus.building-briggs_hall',\n 'campus.building-california_hall',\n 'campus.building-campus_data_center',\n 'campus.building-cellular_biology_laboratory',\n 'campus.building-center_for_companion_animal_health',\n 'campus.building-center_for_comparative_medicine',\n 'campus.building-center_for_health_environment_clinical_medicine',\n 'campus.building-center_for_health_environment_office_laboratory',\n 'campus.building-center_for_health_environment_toxic_pollutant_laboratory',\n 'campus.building-central_cage_wash_facility',\n 'campus.building-chemistry',\n 'campus.building-chemistry_annex',\n 'campus.building-cole_a',\n 'campus.building-cole_b',\n 'campus.building-conference_center',\n 'campus.building-contained_research_facility',\n 'campus.building-cruess_hall',\n 'campus.building-dairy_cattle_feed',\n 'campus.building-dairy_cattle_shed',\n 'campus.building-dairy_tower',\n 'campus.building-dutton_hall',\n 'campus.building-earth_and_physical_sciences_building',\n 'campus.building-environmental_services_facility_headquarters',\n 'campus.building-equestrian_center_caretaker_trailer',\n 'campus.building-equestrian_center_covered_arena',\n 'campus.building-everson_hall',\n 'campus.building-facilities_electrical_annex',\n 'campus.building-fps_trinchero_building',\n 'campus.building-freeborn_hall',\n 'campus.building-gallagher_hall',\n 'campus.building-gateway_parking_structure',\n 'campus.building-genome_biomedical_sciences_facility',\n 'campus.building-geotechnical_modeling_facility',\n 'campus.building-ghausi_hall',\n 'campus.building-giedt_hall',\n 'campus.building-gourley_clinical_teaching_center',\n 'campus.building-growth_chamber_building_t_1',\n 'campus.building-growth_chamber_building_t_2',\n 'campus.building-haring_hall',\n 'campus.building-hart_hall',\n 'campus.building-heitman_staff_learning_center',\n 'campus.building-hickey_gym',\n 'campus.building-hickey_gym_pool',\n 'campus.building-hickey_pool',\n 'campus.building-hoagland_hall',\n 'campus.building-hopkins_services_complex_auxiliary_receiving',\n 'campus.building-hopkins_svcs_complex',\n 'campus.building-housing_administration',\n 'campus.building-hunt_parsons',\n 'campus.building-hutchison_child_development_center',\n 'campus.building-hutchison_hall',\n 'campus.building-hutchison_recreation_field_lights',\n 'campus.building-iet_communications_resources',\n 'campus.building-international_center',\n 'campus.building-jackson_sustainable_winery',\n 'campus.building-jungerman_hall',\n 'campus.building-kemper_hall',\n 'campus.building-kerr_hall',\n 'campus.building-king_hall',\n 'campus.building-leukemia_barn',\n 'campus.building-leukemia_lab',\n 'campus.building-life_sciences',\n 'campus.building-maddy_lab',\n 'campus.building-mann_laboratory',\n 'campus.building-mathematical_sciences_building',\n 'campus.building-medical_sciences_i_b',\n 'campus.building-medical_sciences_i_d',\n 'campus.building-memorial_union',\n 'campus.building-meyer_hall',\n 'campus.building-mrak_hall',\n 'campus.building-office_of_research_1850_research_park_drive',\n 'campus.building-olson_hall',\n 'campus.building-parsons_seed_certification_center',\n 'campus.building-pavilion_parking_structure',\n 'campus.building-pes_tennis_courts',\n 'campus.building-physical_sciences_engineering_library',\n 'campus.building-physics_building',\n 'campus.building-plant_environmental_sciences',\n 'campus.building-plant_reproductive_biology_facility',\n 'campus.building-primate_childhood_health_disease_facility',\n 'campus.building-primate_controlled_environment_facility_cef',\n 'campus.building-primate_quarantine',\n 'campus.building-primate_respiratory_disease_center',\n 'campus.building-primate_shop_facility',\n 'campus.building-primate_virology_immunology_laboratory',\n 'campus.building-pritchard_vmth',\n 'campus.building-quad_parking_structure',\n 'campus.building-rifle_range',\n 'campus.building-rmi_brewery_winery_and_food_pilot_facility',\n 'campus.building-rmi_north_south_sensory',\n 'campus.building-robbins_hall',\n 'campus.building-roessler_hall',\n 'campus.building-schaal_aquatic_center',\n 'campus.building-school_of_education_building',\n 'campus.building-sciences_lab_building',\n 'campus.building-segundo_dining_commons',\n 'campus.building-segundo_high_rises',\n 'campus.building-segundo_north',\n 'campus.building-segundo_regan',\n 'campus.building-segundo_services_center_market',\n 'campus.building-shields_library',\n 'campus.building-shrem_museum_of_art',\n 'campus.building-silo_bike_barn',\n 'campus.building-social_sciences_humanities',\n 'campus.building-sprocket_building',\n 'campus.building-sproul_hall',\n 'campus.building-storer_hall',\n 'campus.building-student_affairs_annex',\n 'campus.building-student_community_center',\n 'campus.building-student_health_wellness_center',\n 'campus.building-swine_teaching_and_research_facility',\n 'campus.building-taps_c_e',\n 'campus.building-temporary_building_144',\n 'campus.building-temporary_building_178',\n 'campus.building-temporary_building_184',\n 'campus.building-tercero_1',\n 'campus.building-tercero_2',\n 'campus.building-tercero_3',\n 'campus.building-tercero_4',\n 'campus.building-tercero_community_market',\n 'campus.building-the_barn',\n 'campus.building-thurman_laboratory',\n 'campus.building-translational_shared_research_facility',\n 'campus.building-transportation_and_parking_services',\n 'campus.building-tupper_hall',\n 'campus.building-uc_davis_health_stadium',\n 'campus.building-university_extension_building',\n 'campus.building-university_services_building',\n 'campus.building-valley_hall',\n 'campus.building-veihmeyer_hall',\n 'campus.building-vet_med_3_a_3_a_mpt',\n 'campus.building-vet_med_3_b',\n 'campus.building-vet_med_equine_athletic_performance_lab',\n 'campus.building-vet_med_lab_animal_a_beach_lab',\n 'campus.building-vet_med_large_animal_facility',\n 'campus.building-vet_med_student_services_and_administration_center',\n 'campus.building-veterinary_medicine_2',\n 'campus.building-vmth_surgical',\n 'campus.building-vmth_ward',\n 'campus.building-voorhies_hall',\n 'campus.building-walker_hall',\n 'campus.building-water_science_engineering_hydraulic_l_2',\n 'campus.building-watershed_science_facility',\n 'campus.building-wellman_hall',\n 'campus.building-western_human_nutrition_research_center_whnrc',\n 'campus.building-wickson_hall',\n 'campus.building-young_hall']"
     },
     "metadata": {}
    }
   ]
  },
  {
   "cell_type": "markdown",
   "source": "## List of Data Views exclusive to Academic Surge Building\n\nEmpty filter (`filter=\"\"`) allows to see all dataviews for the asset instead of simply the default one",
   "metadata": {
    "cell_id": "00023-2fc00ec0-833f-4073-99fc-268018972070",
    "deepnote_cell_type": "markdown"
   }
  },
  {
   "cell_type": "code",
   "metadata": {
    "cell_id": "00024-8cd17482-defd-465b-8258-fe0d8424b608",
    "deepnote_output_heights": [
     null,
     79
    ],
    "deepnote_to_be_reexecuted": false,
    "source_hash": "aee221c5",
    "execution_start": 1644893218869,
    "execution_millis": 6,
    "deepnote_cell_type": "code"
   },
   "source": "academic_id = buildings[\"Asset_Id\"][1]\nprint(\"Building Id:\", academic_id)\ndvs_academic = hub.asset_dataviews(asset=academic_id, filter=\"\")\ndvs_academic",
   "execution_count": 12,
   "outputs": [
    {
     "name": "stdout",
     "text": "Building Id: Academic Surge Building\n",
     "output_type": "stream"
    },
    {
     "output_type": "execute_result",
     "execution_count": 12,
     "data": {
      "text/plain": "['campus.building-academic_surge_building',\n 'campus.building-academic_surge_building-chilled_water',\n 'campus.building-academic_surge_building-electricity',\n 'campus.building-academic_surge_building-steam']"
     },
     "metadata": {}
    }
   ]
  },
  {
   "cell_type": "markdown",
   "source": "<div class=\"alert alert-warning\">\n    <b>For the Campus Energy dataset, the default data view (e.g. <tt>campus.building-academic_surge_building</tt>) and Electricity data view (e.g. <tt>campus.building-academic_surge_building-electricity</tt>) are the same for each building. The reason is that all buildings have electricity data while while Steam and Chilled Water are optional. </b>\n</div>\n    \n**This [link](https://data.academic.osisoft.com/nbviewer/github/academic-hub/datasets/blob/master/Campus_Energy_Dataset_Doc.ipynb#1a.-Presence-of--electricity/chilled-water/steam-for-each-building) provides a table of available data per building.**\n    ",
   "metadata": {
    "cell_id": "00025-275e1330-63c2-4638-aa9d-da51f949f835",
    "deepnote_cell_type": "markdown"
   }
  },
  {
   "cell_type": "markdown",
   "source": "## Get the OCS namespace associated to the dataset\n\nEach data set belongs to a namespace within the Academic Hub OCS account. Since dataset may move over time, the function below always return the active namespace for the given dataset. ",
   "metadata": {
    "cell_id": "00026-8757f54f-82d7-4ed8-9dcd-a7017853cc7a",
    "deepnote_cell_type": "markdown"
   }
  },
  {
   "cell_type": "code",
   "metadata": {
    "cell_id": "00027-5b2a0ccb-32a4-4706-81e3-1caa36abcf40",
    "deepnote_output_heights": [
     1
    ],
    "deepnote_to_be_reexecuted": false,
    "source_hash": "7a29829c",
    "execution_start": 1644893218871,
    "execution_millis": 4,
    "deepnote_cell_type": "code"
   },
   "source": "dataset = hub.current_dataset()\nnamespace_id = hub.namespace_of(dataset)\nnamespace_id",
   "execution_count": 13,
   "outputs": [
    {
     "output_type": "execute_result",
     "execution_count": 13,
     "data": {
      "text/plain": "'UC__Davis'"
     },
     "metadata": {}
    }
   ]
  },
  {
   "cell_type": "markdown",
   "source": "## Get Data View structure\n\nWith Stream Name, the column name under which stream data appears, its value type and engineering units if available. We display below the structure of the default data view. ",
   "metadata": {
    "cell_id": "00028-d8c7911d-2299-46f8-be2d-ed280e056aab",
    "deepnote_cell_type": "markdown"
   }
  },
  {
   "cell_type": "code",
   "metadata": {
    "tags": [],
    "cell_id": "00029-e0e84623-89fd-45ec-81b9-8a8c765a4828",
    "deepnote_to_be_reexecuted": false,
    "source_hash": "c5efb73",
    "execution_start": 1644893218872,
    "execution_millis": 517,
    "deepnote_cell_type": "code"
   },
   "source": "dataview_id = hub.asset_dataviews(asset=academic_id, filter=\"default\")[0]\nprint(dataview_id)\nprint(hub.dataview_definition(namespace_id, dataview_id).to_string(index=False))",
   "execution_count": 14,
   "outputs": [
    {
     "name": "stdout",
     "text": "campus.building-academic_surge_building\n               Asset_Id          Column_Name Stream_Type Stream_UOM                                      Stream_Name\nAcademic Surge Building          AnnualUsage       Float       kBtu        UCD.AcademicSurge_Electricity_AnnualUsage\nAcademic Surge Building          Demand_kBtu       Float       kBtu        UCD.AcademicSurge_Electricity_Demand_kBtu\nAcademic Surge Building      Electricity_EUI       Float  kBtu/sqft                UCD.AcademicSurge_Electricity_EUI\nAcademic Surge Building         MonthlyUsage       Float       kBtu       UCD.AcademicSurge_Electricity_MonthlyUsage\nAcademic Surge Building       Rollover Check       Float                 UCD.AcademicSurge_Electricity_RolloverCheck\nAcademic Surge Building Rollover Count Month       Float            UCD.AcademicSurge_Electricity_RolloverCountMonth\nAcademic Surge Building  Rollover Count Year       Float             UCD.AcademicSurge_Electricity_RolloverCountYear\n",
     "output_type": "stream"
    }
   ]
  },
  {
   "cell_type": "markdown",
   "source": "## Getting data from a Data View\n\nData View can return either interpolated data or stored data\n\n### Interpolated Data\n\nGet interpolated data between a start and end date, with the requested interpolation interval (format is HH:MM:SS)",
   "metadata": {
    "cell_id": "00030-21a9f29c-b61c-4160-8ff3-9cb46547f704",
    "deepnote_cell_type": "markdown"
   }
  },
  {
   "cell_type": "code",
   "metadata": {
    "tags": [],
    "cell_id": "00031-edb0f5b3-8a2d-4c8b-a61f-185bdcabcdfc",
    "deepnote_output_heights": [
     null,
     383.4375
    ],
    "deepnote_to_be_reexecuted": false,
    "source_hash": "d8c1d1e6",
    "execution_start": 1644893219436,
    "execution_millis": 2975,
    "deepnote_cell_type": "code"
   },
   "source": "# Use the first commented out line to access a full 3-year worth of data\n# df_fv32= hub.dataview_interpolated_pd(namespace_id, dataview_id, \"2017-01-19\", \"2020-01-19\", \"00:30:00\")\n#\n# This next line is for a single month of data\ndf_acad_interpolated = hub.dataview_interpolated_pd(\n    namespace_id, dataview_id, \"2018-01-01\", \"2018-02-01\", \"00:30:00\"\n)\ndf_acad_interpolated",
   "execution_count": 15,
   "outputs": [
    {
     "name": "stdout",
     "text": "\n  ==> Finished 'dataview_interpolated_pd' in       2.7755 secs [ 536 rows/sec ]\n",
     "output_type": "stream"
    },
    {
     "output_type": "execute_result",
     "execution_count": 15,
     "data": {
      "application/vnd.deepnote.dataframe.v3+json": {
       "column_count": 9,
       "row_count": 1489,
       "columns": [
        {
         "name": "Timestamp",
         "dtype": "datetime64[ns]",
         "stats": {
          "unique_count": 1489,
          "nan_count": 0,
          "min": "2018-01-01 00:00:00",
          "max": "2018-02-01 00:00:00",
          "histogram": [
           {
            "bin_start": 1514764800000000000,
            "bin_end": 1515032640000000000,
            "count": 149
           },
           {
            "bin_start": 1515032640000000000,
            "bin_end": 1515300480000000000,
            "count": 149
           },
           {
            "bin_start": 1515300480000000000,
            "bin_end": 1515568320000000000,
            "count": 149
           },
           {
            "bin_start": 1515568320000000000,
            "bin_end": 1515836160000000000,
            "count": 149
           },
           {
            "bin_start": 1515836160000000000,
            "bin_end": 1516104000000000000,
            "count": 148
           },
           {
            "bin_start": 1516104000000000000,
            "bin_end": 1516371840000000000,
            "count": 149
           },
           {
            "bin_start": 1516371840000000000,
            "bin_end": 1516639680000000000,
            "count": 149
           },
           {
            "bin_start": 1516639680000000000,
            "bin_end": 1516907520000000000,
            "count": 149
           },
           {
            "bin_start": 1516907520000000000,
            "bin_end": 1517175360000000000,
            "count": 149
           },
           {
            "bin_start": 1517175360000000000,
            "bin_end": 1517443200000000000,
            "count": 149
           }
          ]
         }
        },
        {
         "name": "Asset_Id",
         "dtype": "object",
         "stats": {
          "unique_count": 1,
          "nan_count": 0,
          "categories": [
           {
            "name": "Academic Surge Building",
            "count": 1489
           }
          ]
         }
        },
        {
         "name": "MonthlyUsage",
         "dtype": "float64",
         "stats": {
          "unique_count": 1489,
          "nan_count": 0,
          "min": "17896.99",
          "max": "638313.56",
          "histogram": [
           {
            "bin_start": 17896.99,
            "bin_end": 79938.64700000001,
            "count": 151
           },
           {
            "bin_start": 79938.64700000001,
            "bin_end": 141980.304,
            "count": 153
           },
           {
            "bin_start": 141980.304,
            "bin_end": 204021.961,
            "count": 139
           },
           {
            "bin_start": 204021.961,
            "bin_end": 266063.618,
            "count": 147
           },
           {
            "bin_start": 266063.618,
            "bin_end": 328105.275,
            "count": 157
           },
           {
            "bin_start": 328105.275,
            "bin_end": 390146.93200000003,
            "count": 142
           },
           {
            "bin_start": 390146.93200000003,
            "bin_end": 452188.58900000004,
            "count": 150
           },
           {
            "bin_start": 452188.58900000004,
            "bin_end": 514230.24600000004,
            "count": 142
           },
           {
            "bin_start": 514230.24600000004,
            "bin_end": 576271.903,
            "count": 150
           },
           {
            "bin_start": 576271.903,
            "bin_end": 638313.56,
            "count": 158
           }
          ]
         }
        },
        {
         "name": "AnnualUsage",
         "dtype": "float64",
         "stats": {
          "unique_count": 1427,
          "nan_count": 0,
          "min": "7573354.0",
          "max": "7583357.0",
          "histogram": [
           {
            "bin_start": 7573354,
            "bin_end": 7574354.3,
            "count": 93
           },
           {
            "bin_start": 7574354.3,
            "bin_end": 7575354.6,
            "count": 143
           },
           {
            "bin_start": 7575354.6,
            "bin_end": 7576354.9,
            "count": 132
           },
           {
            "bin_start": 7576354.9,
            "bin_end": 7577355.2,
            "count": 24
           },
           {
            "bin_start": 7577355.2,
            "bin_end": 7578355.5,
            "count": 47
           },
           {
            "bin_start": 7578355.5,
            "bin_end": 7579355.8,
            "count": 99
           },
           {
            "bin_start": 7579355.8,
            "bin_end": 7580356.1,
            "count": 172
           },
           {
            "bin_start": 7580356.1,
            "bin_end": 7581356.4,
            "count": 185
           },
           {
            "bin_start": 7581356.4,
            "bin_end": 7582356.7,
            "count": 305
           },
           {
            "bin_start": 7582356.7,
            "bin_end": 7583357,
            "count": 289
           }
          ]
         }
        },
        {
         "name": "Demand_kBtu",
         "dtype": "float64",
         "stats": {
          "unique_count": 1486,
          "nan_count": 0,
          "min": "699.4491",
          "max": "1181.8112",
          "histogram": [
           {
            "bin_start": 699.4491,
            "bin_end": 747.6853100000001,
            "count": 155
           },
           {
            "bin_start": 747.6853100000001,
            "bin_end": 795.9215200000001,
            "count": 322
           },
           {
            "bin_start": 795.9215200000001,
            "bin_end": 844.1577300000001,
            "count": 240
           },
           {
            "bin_start": 844.1577300000001,
            "bin_end": 892.39394,
            "count": 233
           },
           {
            "bin_start": 892.39394,
            "bin_end": 940.6301500000001,
            "count": 167
           },
           {
            "bin_start": 940.6301500000001,
            "bin_end": 988.8663600000001,
            "count": 129
           },
           {
            "bin_start": 988.8663600000001,
            "bin_end": 1037.10257,
            "count": 134
           },
           {
            "bin_start": 1037.10257,
            "bin_end": 1085.33878,
            "count": 90
           },
           {
            "bin_start": 1085.33878,
            "bin_end": 1133.57499,
            "count": 16
           },
           {
            "bin_start": 1133.57499,
            "bin_end": 1181.8112,
            "count": 3
           }
          ]
         }
        },
        {
         "name": "Electricity_EUI",
         "dtype": "float64",
         "stats": {
          "unique_count": 1428,
          "nan_count": 0,
          "min": "60.196766",
          "max": "60.27448",
          "histogram": [
           {
            "bin_start": 60.196766,
            "bin_end": 60.2045374,
            "count": 141
           },
           {
            "bin_start": 60.2045374,
            "bin_end": 60.212308799999995,
            "count": 141
           },
           {
            "bin_start": 60.212308799999995,
            "bin_end": 60.2200802,
            "count": 132
           },
           {
            "bin_start": 60.2200802,
            "bin_end": 60.227851599999994,
            "count": 24
           },
           {
            "bin_start": 60.227851599999994,
            "bin_end": 60.235623,
            "count": 37
           },
           {
            "bin_start": 60.235623,
            "bin_end": 60.2433944,
            "count": 99
           },
           {
            "bin_start": 60.2433944,
            "bin_end": 60.251165799999995,
            "count": 159
           },
           {
            "bin_start": 60.251165799999995,
            "bin_end": 60.2589372,
            "count": 152
           },
           {
            "bin_start": 60.2589372,
            "bin_end": 60.266708599999994,
            "count": 311
           },
           {
            "bin_start": 60.266708599999994,
            "bin_end": 60.27448,
            "count": 293
           }
          ]
         }
        },
        {
         "name": "Rollover Check",
         "dtype": "int64",
         "stats": {
          "unique_count": 1,
          "nan_count": 0,
          "min": "0",
          "max": "0",
          "histogram": [
           {
            "bin_start": -0.5,
            "bin_end": -0.4,
            "count": 0
           },
           {
            "bin_start": -0.4,
            "bin_end": -0.3,
            "count": 0
           },
           {
            "bin_start": -0.3,
            "bin_end": -0.19999999999999996,
            "count": 0
           },
           {
            "bin_start": -0.19999999999999996,
            "bin_end": -0.09999999999999998,
            "count": 0
           },
           {
            "bin_start": -0.09999999999999998,
            "bin_end": 0,
            "count": 0
           },
           {
            "bin_start": 0,
            "bin_end": 0.10000000000000009,
            "count": 1489
           },
           {
            "bin_start": 0.10000000000000009,
            "bin_end": 0.20000000000000007,
            "count": 0
           },
           {
            "bin_start": 0.20000000000000007,
            "bin_end": 0.30000000000000004,
            "count": 0
           },
           {
            "bin_start": 0.30000000000000004,
            "bin_end": 0.4,
            "count": 0
           },
           {
            "bin_start": 0.4,
            "bin_end": 0.5,
            "count": 0
           }
          ]
         }
        },
        {
         "name": "Rollover Count Month",
         "dtype": "float64",
         "stats": {
          "unique_count": 1,
          "nan_count": 48,
          "min": "0.0",
          "max": "0.0",
          "histogram": [
           {
            "bin_start": -0.5,
            "bin_end": -0.4,
            "count": 0
           },
           {
            "bin_start": -0.4,
            "bin_end": -0.3,
            "count": 0
           },
           {
            "bin_start": -0.3,
            "bin_end": -0.19999999999999996,
            "count": 0
           },
           {
            "bin_start": -0.19999999999999996,
            "bin_end": -0.09999999999999998,
            "count": 0
           },
           {
            "bin_start": -0.09999999999999998,
            "bin_end": 0,
            "count": 0
           },
           {
            "bin_start": 0,
            "bin_end": 0.10000000000000009,
            "count": 1441
           },
           {
            "bin_start": 0.10000000000000009,
            "bin_end": 0.20000000000000007,
            "count": 0
           },
           {
            "bin_start": 0.20000000000000007,
            "bin_end": 0.30000000000000004,
            "count": 0
           },
           {
            "bin_start": 0.30000000000000004,
            "bin_end": 0.4,
            "count": 0
           },
           {
            "bin_start": 0.4,
            "bin_end": 0.5,
            "count": 0
           }
          ]
         }
        },
        {
         "name": "Rollover Count Year",
         "dtype": "int64",
         "stats": {
          "unique_count": 1,
          "nan_count": 0,
          "min": "0",
          "max": "0",
          "histogram": [
           {
            "bin_start": -0.5,
            "bin_end": -0.4,
            "count": 0
           },
           {
            "bin_start": -0.4,
            "bin_end": -0.3,
            "count": 0
           },
           {
            "bin_start": -0.3,
            "bin_end": -0.19999999999999996,
            "count": 0
           },
           {
            "bin_start": -0.19999999999999996,
            "bin_end": -0.09999999999999998,
            "count": 0
           },
           {
            "bin_start": -0.09999999999999998,
            "bin_end": 0,
            "count": 0
           },
           {
            "bin_start": 0,
            "bin_end": 0.10000000000000009,
            "count": 1489
           },
           {
            "bin_start": 0.10000000000000009,
            "bin_end": 0.20000000000000007,
            "count": 0
           },
           {
            "bin_start": 0.20000000000000007,
            "bin_end": 0.30000000000000004,
            "count": 0
           },
           {
            "bin_start": 0.30000000000000004,
            "bin_end": 0.4,
            "count": 0
           },
           {
            "bin_start": 0.4,
            "bin_end": 0.5,
            "count": 0
           }
          ]
         }
        },
        {
         "name": "_deepnote_index_column",
         "dtype": "int64"
        }
       ],
       "rows": [
        {
         "Timestamp": "2018-01-01T00:00:00.000000",
         "Asset_Id": "Academic Surge Building",
         "MonthlyUsage": 611748.94,
         "AnnualUsage": 7573665.5,
         "Demand_kBtu": 760.19775,
         "Electricity_EUI": 60.203968,
         "Rollover Check": 0,
         "Rollover Count Month": 0,
         "Rollover Count Year": 0,
         "_deepnote_index_column": 0
        },
        {
         "Timestamp": "2018-01-01T00:30:00.000000",
         "Asset_Id": "Academic Surge Building",
         "MonthlyUsage": 612117.2,
         "AnnualUsage": 7573654.5,
         "Demand_kBtu": 725.03925,
         "Electricity_EUI": 60.203846,
         "Rollover Check": 0,
         "Rollover Count Month": 0,
         "Rollover Count Year": 0,
         "_deepnote_index_column": 1
        },
        {
         "Timestamp": "2018-01-01T01:00:00.000000",
         "Asset_Id": "Academic Surge Building",
         "MonthlyUsage": 612485.5,
         "AnnualUsage": 7573643.5,
         "Demand_kBtu": 830.64404,
         "Electricity_EUI": 60.203724,
         "Rollover Check": 0,
         "Rollover Count Month": 0,
         "Rollover Count Year": 0,
         "_deepnote_index_column": 2
        },
        {
         "Timestamp": "2018-01-01T01:30:00.000000",
         "Asset_Id": "Academic Surge Building",
         "MonthlyUsage": 612853.75,
         "AnnualUsage": 7573632.5,
         "Demand_kBtu": 748.7546,
         "Electricity_EUI": 60.2036,
         "Rollover Check": 0,
         "Rollover Count Month": 0,
         "Rollover Count Year": 0,
         "_deepnote_index_column": 3
        },
        {
         "Timestamp": "2018-01-01T02:00:00.000000",
         "Asset_Id": "Academic Surge Building",
         "MonthlyUsage": 613222,
         "AnnualUsage": 7573622,
         "Demand_kBtu": 787.1024,
         "Electricity_EUI": 60.20348,
         "Rollover Check": 0,
         "Rollover Count Month": 0,
         "Rollover Count Year": 0,
         "_deepnote_index_column": 4
        },
        {
         "Timestamp": "2018-01-01T02:30:00.000000",
         "Asset_Id": "Academic Surge Building",
         "MonthlyUsage": 613590.3,
         "AnnualUsage": 7573611,
         "Demand_kBtu": 745.1715,
         "Electricity_EUI": 60.20336,
         "Rollover Check": 0,
         "Rollover Count Month": 0,
         "Rollover Count Year": 0,
         "_deepnote_index_column": 5
        },
        {
         "Timestamp": "2018-01-01T03:00:00.000000",
         "Asset_Id": "Academic Surge Building",
         "MonthlyUsage": 613958.56,
         "AnnualUsage": 7573600,
         "Demand_kBtu": 765.1302,
         "Electricity_EUI": 60.20324,
         "Rollover Check": 0,
         "Rollover Count Month": 0,
         "Rollover Count Year": 0,
         "_deepnote_index_column": 6
        },
        {
         "Timestamp": "2018-01-01T03:30:00.000000",
         "Asset_Id": "Academic Surge Building",
         "MonthlyUsage": 614326.8,
         "AnnualUsage": 7573589,
         "Demand_kBtu": 823.654,
         "Electricity_EUI": 60.203117,
         "Rollover Check": 0,
         "Rollover Count Month": 0,
         "Rollover Count Year": 0,
         "_deepnote_index_column": 7
        },
        {
         "Timestamp": "2018-01-01T04:00:00.000000",
         "Asset_Id": "Academic Surge Building",
         "MonthlyUsage": 614695.1,
         "AnnualUsage": 7573578,
         "Demand_kBtu": 722.5616,
         "Electricity_EUI": 60.202995,
         "Rollover Check": 0,
         "Rollover Count Month": 0,
         "Rollover Count Year": 0,
         "_deepnote_index_column": 8
        },
        {
         "Timestamp": "2018-01-01T04:30:00.000000",
         "Asset_Id": "Academic Surge Building",
         "MonthlyUsage": 615063.4,
         "AnnualUsage": 7573567,
         "Demand_kBtu": 715.20374,
         "Electricity_EUI": 60.202873,
         "Rollover Check": 0,
         "Rollover Count Month": 0,
         "Rollover Count Year": 0,
         "_deepnote_index_column": 9
        }
       ]
      },
      "text/plain": "               Timestamp                 Asset_Id  MonthlyUsage  AnnualUsage  \\\n0    2018-01-01 00:00:00  Academic Surge Building     611748.94    7573665.5   \n1    2018-01-01 00:30:00  Academic Surge Building     612117.20    7573654.5   \n2    2018-01-01 01:00:00  Academic Surge Building     612485.50    7573643.5   \n3    2018-01-01 01:30:00  Academic Surge Building     612853.75    7573632.5   \n4    2018-01-01 02:00:00  Academic Surge Building     613222.00    7573622.0   \n...                  ...                      ...           ...          ...   \n1484 2018-01-31 22:00:00  Academic Surge Building     636483.44    7583340.0   \n1485 2018-01-31 22:30:00  Academic Surge Building     636940.94    7583344.5   \n1486 2018-01-31 23:00:00  Academic Surge Building     637398.50    7583348.5   \n1487 2018-01-31 23:30:00  Academic Surge Building     637856.06    7583353.0   \n1488 2018-02-01 00:00:00  Academic Surge Building     638313.56    7583357.0   \n\n      Demand_kBtu  Electricity_EUI  Rollover Check  Rollover Count Month  \\\n0       760.19775        60.203968               0                   0.0   \n1       725.03925        60.203846               0                   0.0   \n2       830.64404        60.203724               0                   0.0   \n3       748.75460        60.203600               0                   0.0   \n4       787.10240        60.203480               0                   0.0   \n...           ...              ...             ...                   ...   \n1484   1025.57020        60.274185               0                   0.0   \n1485   1053.76230        60.274240               0                   0.0   \n1486   1032.89450        60.274290               0                   0.0   \n1487   1074.98910        60.274338               0                   0.0   \n1488   1010.92800        60.274387               0                   0.0   \n\n      Rollover Count Year  \n0                       0  \n1                       0  \n2                       0  \n3                       0  \n4                       0  \n...                   ...  \n1484                    0  \n1485                    0  \n1486                    0  \n1487                    0  \n1488                    0  \n\n[1489 rows x 9 columns]",
      "text/html": "<div>\n<style scoped>\n    .dataframe tbody tr th:only-of-type {\n        vertical-align: middle;\n    }\n\n    .dataframe tbody tr th {\n        vertical-align: top;\n    }\n\n    .dataframe thead th {\n        text-align: right;\n    }\n</style>\n<table border=\"1\" class=\"dataframe\">\n  <thead>\n    <tr style=\"text-align: right;\">\n      <th></th>\n      <th>Timestamp</th>\n      <th>Asset_Id</th>\n      <th>MonthlyUsage</th>\n      <th>AnnualUsage</th>\n      <th>Demand_kBtu</th>\n      <th>Electricity_EUI</th>\n      <th>Rollover Check</th>\n      <th>Rollover Count Month</th>\n      <th>Rollover Count Year</th>\n    </tr>\n  </thead>\n  <tbody>\n    <tr>\n      <th>0</th>\n      <td>2018-01-01 00:00:00</td>\n      <td>Academic Surge Building</td>\n      <td>611748.94</td>\n      <td>7573665.5</td>\n      <td>760.19775</td>\n      <td>60.203968</td>\n      <td>0</td>\n      <td>0.0</td>\n      <td>0</td>\n    </tr>\n    <tr>\n      <th>1</th>\n      <td>2018-01-01 00:30:00</td>\n      <td>Academic Surge Building</td>\n      <td>612117.20</td>\n      <td>7573654.5</td>\n      <td>725.03925</td>\n      <td>60.203846</td>\n      <td>0</td>\n      <td>0.0</td>\n      <td>0</td>\n    </tr>\n    <tr>\n      <th>2</th>\n      <td>2018-01-01 01:00:00</td>\n      <td>Academic Surge Building</td>\n      <td>612485.50</td>\n      <td>7573643.5</td>\n      <td>830.64404</td>\n      <td>60.203724</td>\n      <td>0</td>\n      <td>0.0</td>\n      <td>0</td>\n    </tr>\n    <tr>\n      <th>3</th>\n      <td>2018-01-01 01:30:00</td>\n      <td>Academic Surge Building</td>\n      <td>612853.75</td>\n      <td>7573632.5</td>\n      <td>748.75460</td>\n      <td>60.203600</td>\n      <td>0</td>\n      <td>0.0</td>\n      <td>0</td>\n    </tr>\n    <tr>\n      <th>4</th>\n      <td>2018-01-01 02:00:00</td>\n      <td>Academic Surge Building</td>\n      <td>613222.00</td>\n      <td>7573622.0</td>\n      <td>787.10240</td>\n      <td>60.203480</td>\n      <td>0</td>\n      <td>0.0</td>\n      <td>0</td>\n    </tr>\n    <tr>\n      <th>...</th>\n      <td>...</td>\n      <td>...</td>\n      <td>...</td>\n      <td>...</td>\n      <td>...</td>\n      <td>...</td>\n      <td>...</td>\n      <td>...</td>\n      <td>...</td>\n    </tr>\n    <tr>\n      <th>1484</th>\n      <td>2018-01-31 22:00:00</td>\n      <td>Academic Surge Building</td>\n      <td>636483.44</td>\n      <td>7583340.0</td>\n      <td>1025.57020</td>\n      <td>60.274185</td>\n      <td>0</td>\n      <td>0.0</td>\n      <td>0</td>\n    </tr>\n    <tr>\n      <th>1485</th>\n      <td>2018-01-31 22:30:00</td>\n      <td>Academic Surge Building</td>\n      <td>636940.94</td>\n      <td>7583344.5</td>\n      <td>1053.76230</td>\n      <td>60.274240</td>\n      <td>0</td>\n      <td>0.0</td>\n      <td>0</td>\n    </tr>\n    <tr>\n      <th>1486</th>\n      <td>2018-01-31 23:00:00</td>\n      <td>Academic Surge Building</td>\n      <td>637398.50</td>\n      <td>7583348.5</td>\n      <td>1032.89450</td>\n      <td>60.274290</td>\n      <td>0</td>\n      <td>0.0</td>\n      <td>0</td>\n    </tr>\n    <tr>\n      <th>1487</th>\n      <td>2018-01-31 23:30:00</td>\n      <td>Academic Surge Building</td>\n      <td>637856.06</td>\n      <td>7583353.0</td>\n      <td>1074.98910</td>\n      <td>60.274338</td>\n      <td>0</td>\n      <td>0.0</td>\n      <td>0</td>\n    </tr>\n    <tr>\n      <th>1488</th>\n      <td>2018-02-01 00:00:00</td>\n      <td>Academic Surge Building</td>\n      <td>638313.56</td>\n      <td>7583357.0</td>\n      <td>1010.92800</td>\n      <td>60.274387</td>\n      <td>0</td>\n      <td>0.0</td>\n      <td>0</td>\n    </tr>\n  </tbody>\n</table>\n<p>1489 rows × 9 columns</p>\n</div>"
     },
     "metadata": {}
    }
   ]
  },
  {
   "cell_type": "code",
   "metadata": {
    "tags": [],
    "cell_id": "00032-b108db86-5cf1-4e43-82cb-30b302ec5edf",
    "deepnote_to_be_reexecuted": false,
    "source_hash": "7317a7ad",
    "execution_start": 1644893222223,
    "execution_millis": 192,
    "deepnote_cell_type": "code"
   },
   "source": "# Information about the dataframe - this is a Pandas operation \ndf_acad_interpolated.info()",
   "execution_count": 16,
   "outputs": [
    {
     "name": "stdout",
     "text": "<class 'pandas.core.frame.DataFrame'>\nRangeIndex: 1489 entries, 0 to 1488\nData columns (total 9 columns):\n #   Column                Non-Null Count  Dtype         \n---  ------                --------------  -----         \n 0   Timestamp             1489 non-null   datetime64[ns]\n 1   Asset_Id              1489 non-null   object        \n 2   MonthlyUsage          1489 non-null   float64       \n 3   AnnualUsage           1489 non-null   float64       \n 4   Demand_kBtu           1489 non-null   float64       \n 5   Electricity_EUI       1489 non-null   float64       \n 6   Rollover Check        1489 non-null   int64         \n 7   Rollover Count Month  1441 non-null   float64       \n 8   Rollover Count Year   1489 non-null   int64         \ndtypes: datetime64[ns](1), float64(5), int64(2), object(1)\nmemory usage: 104.8+ KB\n",
     "output_type": "stream"
    }
   ]
  },
  {
   "cell_type": "markdown",
   "source": "### Stored Data\n\nGet stored (recorded) data between a start and end date. The shape of the resulting data frame is narrow with the following 4 columns and one event per row:\n\n* Timestamp: of the stored event\n* Asset_Id: asset identifier \n* Field: one of the column name from the data view definition\n* Value: actual value of the event\n\nAll the events (rows) of a given field are grouped together. The maximuum number of rows is 2,000,000 (2 millions). ",
   "metadata": {
    "cell_id": "f36dfb0a-9bd7-43ce-99b8-7f854a410a43",
    "tags": [],
    "deepnote_cell_type": "markdown"
   }
  },
  {
   "cell_type": "code",
   "source": "# This next line is for a single month of data\ndf_acad_stored = hub.dataview_stored_pd(\n    namespace_id, dataview_id, \"2018-01-01\", \"2018-02-01\"\n)\ndf_acad_stored",
   "metadata": {
    "cell_id": "9e07940f-5264-44e3-8234-cffd6a55b7be",
    "tags": [],
    "deepnote_to_be_reexecuted": false,
    "source_hash": "61a8f92",
    "execution_start": 1644893222232,
    "execution_millis": 5134,
    "deepnote_output_heights": [
     611,
     382.1875
    ],
    "deepnote_cell_type": "code"
   },
   "outputs": [
    {
     "name": "stdout",
     "text": "+\n  ==> Finished 'dataview_stored_pd' in             4.9750 secs [ 8.11K rows/sec ]\n",
     "output_type": "stream"
    },
    {
     "output_type": "execute_result",
     "execution_count": 17,
     "data": {
      "application/vnd.deepnote.dataframe.v3+json": {
       "column_count": 4,
       "row_count": 40369,
       "columns": [
        {
         "name": "Timestamp",
         "dtype": "datetime64[ns, UTC]",
         "stats": {
          "unique_count": 40186,
          "nan_count": 0,
          "min": "2018-01-01 00:00:00+00:00",
          "max": "2018-01-31 23:59:00+00:00",
          "histogram": [
           {
            "bin_start": 1514764800000000000,
            "bin_end": 1515032634000000000,
            "count": 3971
           },
           {
            "bin_start": 1515032634000000000,
            "bin_end": 1515300468000000000,
            "count": 3966
           },
           {
            "bin_start": 1515300468000000000,
            "bin_end": 1515568302000000000,
            "count": 3960
           },
           {
            "bin_start": 1515568302000000000,
            "bin_end": 1515836136000000000,
            "count": 4114
           },
           {
            "bin_start": 1515836136000000000,
            "bin_end": 1516103970000000000,
            "count": 3983
           },
           {
            "bin_start": 1516103970000000000,
            "bin_end": 1516371804000000000,
            "count": 4104
           },
           {
            "bin_start": 1516371804000000000,
            "bin_end": 1516639638000000000,
            "count": 4007
           },
           {
            "bin_start": 1516639638000000000,
            "bin_end": 1516907472000000000,
            "count": 4111
           },
           {
            "bin_start": 1516907472000000000,
            "bin_end": 1517175306000000000,
            "count": 4075
           },
           {
            "bin_start": 1517175306000000000,
            "bin_end": 1517443140000000000,
            "count": 4078
           }
          ]
         }
        },
        {
         "name": "Asset_Id",
         "dtype": "object",
         "stats": {
          "unique_count": 1,
          "nan_count": 0,
          "categories": [
           {
            "name": "Academic Surge Building",
            "count": 40369
           }
          ]
         }
        },
        {
         "name": "Field",
         "dtype": "object"
        },
        {
         "name": "Value",
         "dtype": "float64"
        },
        {
         "name": "_deepnote_index_column",
         "dtype": "int64"
        }
       ],
       "rows": [
        {
         "Timestamp": "2018-01-01T07:59:00.000000",
         "Asset_Id": "Academic Surge Building",
         "Field": "MonthlyUsage",
         "Value": 617629,
         "_deepnote_index_column": 0
        },
        {
         "Timestamp": "2018-01-02T07:59:00.000000",
         "Asset_Id": "Academic Surge Building",
         "Field": "MonthlyUsage",
         "Value": 17883,
         "_deepnote_index_column": 1
        },
        {
         "Timestamp": "2018-01-03T07:59:00.000000",
         "Asset_Id": "Academic Surge Building",
         "Field": "MonthlyUsage",
         "Value": 38028,
         "_deepnote_index_column": 2
        },
        {
         "Timestamp": "2018-01-04T07:59:00.000000",
         "Asset_Id": "Academic Surge Building",
         "Field": "MonthlyUsage",
         "Value": 58468,
         "_deepnote_index_column": 3
        },
        {
         "Timestamp": "2018-01-05T07:59:00.000000",
         "Asset_Id": "Academic Surge Building",
         "Field": "MonthlyUsage",
         "Value": 78843,
         "_deepnote_index_column": 4
        },
        {
         "Timestamp": "2018-01-06T07:59:00.000000",
         "Asset_Id": "Academic Surge Building",
         "Field": "MonthlyUsage",
         "Value": 99730,
         "_deepnote_index_column": 5
        },
        {
         "Timestamp": "2018-01-07T07:59:00.000000",
         "Asset_Id": "Academic Surge Building",
         "Field": "MonthlyUsage",
         "Value": 119694,
         "_deepnote_index_column": 6
        },
        {
         "Timestamp": "2018-01-08T07:59:00.000000",
         "Asset_Id": "Academic Surge Building",
         "Field": "MonthlyUsage",
         "Value": 139264,
         "_deepnote_index_column": 7
        },
        {
         "Timestamp": "2018-01-09T07:59:00.000000",
         "Asset_Id": "Academic Surge Building",
         "Field": "MonthlyUsage",
         "Value": 160558,
         "_deepnote_index_column": 8
        },
        {
         "Timestamp": "2018-01-10T07:59:00.000000",
         "Asset_Id": "Academic Surge Building",
         "Field": "MonthlyUsage",
         "Value": 183060,
         "_deepnote_index_column": 9
        }
       ]
      },
      "text/plain": "                      Timestamp                 Asset_Id                Field  \\\n0     2018-01-01 07:59:00+00:00  Academic Surge Building         MonthlyUsage   \n1     2018-01-02 07:59:00+00:00  Academic Surge Building         MonthlyUsage   \n2     2018-01-03 07:59:00+00:00  Academic Surge Building         MonthlyUsage   \n3     2018-01-04 07:59:00+00:00  Academic Surge Building         MonthlyUsage   \n4     2018-01-05 07:59:00+00:00  Academic Surge Building         MonthlyUsage   \n...                         ...                      ...                  ...   \n15364 2018-01-27 08:00:00+00:00  Academic Surge Building  Rollover Count Year   \n15365 2018-01-28 08:00:00+00:00  Academic Surge Building  Rollover Count Year   \n15366 2018-01-29 08:00:00+00:00  Academic Surge Building  Rollover Count Year   \n15367 2018-01-30 08:00:00+00:00  Academic Surge Building  Rollover Count Year   \n15368 2018-01-31 08:00:00+00:00  Academic Surge Building  Rollover Count Year   \n\n          Value  \n0      617629.0  \n1       17883.0  \n2       38028.0  \n3       58468.0  \n4       78843.0  \n...         ...  \n15364       0.0  \n15365       0.0  \n15366       0.0  \n15367       0.0  \n15368       0.0  \n\n[40369 rows x 4 columns]",
      "text/html": "<div>\n<style scoped>\n    .dataframe tbody tr th:only-of-type {\n        vertical-align: middle;\n    }\n\n    .dataframe tbody tr th {\n        vertical-align: top;\n    }\n\n    .dataframe thead th {\n        text-align: right;\n    }\n</style>\n<table border=\"1\" class=\"dataframe\">\n  <thead>\n    <tr style=\"text-align: right;\">\n      <th></th>\n      <th>Timestamp</th>\n      <th>Asset_Id</th>\n      <th>Field</th>\n      <th>Value</th>\n    </tr>\n  </thead>\n  <tbody>\n    <tr>\n      <th>0</th>\n      <td>2018-01-01 07:59:00+00:00</td>\n      <td>Academic Surge Building</td>\n      <td>MonthlyUsage</td>\n      <td>617629.0</td>\n    </tr>\n    <tr>\n      <th>1</th>\n      <td>2018-01-02 07:59:00+00:00</td>\n      <td>Academic Surge Building</td>\n      <td>MonthlyUsage</td>\n      <td>17883.0</td>\n    </tr>\n    <tr>\n      <th>2</th>\n      <td>2018-01-03 07:59:00+00:00</td>\n      <td>Academic Surge Building</td>\n      <td>MonthlyUsage</td>\n      <td>38028.0</td>\n    </tr>\n    <tr>\n      <th>3</th>\n      <td>2018-01-04 07:59:00+00:00</td>\n      <td>Academic Surge Building</td>\n      <td>MonthlyUsage</td>\n      <td>58468.0</td>\n    </tr>\n    <tr>\n      <th>4</th>\n      <td>2018-01-05 07:59:00+00:00</td>\n      <td>Academic Surge Building</td>\n      <td>MonthlyUsage</td>\n      <td>78843.0</td>\n    </tr>\n    <tr>\n      <th>...</th>\n      <td>...</td>\n      <td>...</td>\n      <td>...</td>\n      <td>...</td>\n    </tr>\n    <tr>\n      <th>15364</th>\n      <td>2018-01-27 08:00:00+00:00</td>\n      <td>Academic Surge Building</td>\n      <td>Rollover Count Year</td>\n      <td>0.0</td>\n    </tr>\n    <tr>\n      <th>15365</th>\n      <td>2018-01-28 08:00:00+00:00</td>\n      <td>Academic Surge Building</td>\n      <td>Rollover Count Year</td>\n      <td>0.0</td>\n    </tr>\n    <tr>\n      <th>15366</th>\n      <td>2018-01-29 08:00:00+00:00</td>\n      <td>Academic Surge Building</td>\n      <td>Rollover Count Year</td>\n      <td>0.0</td>\n    </tr>\n    <tr>\n      <th>15367</th>\n      <td>2018-01-30 08:00:00+00:00</td>\n      <td>Academic Surge Building</td>\n      <td>Rollover Count Year</td>\n      <td>0.0</td>\n    </tr>\n    <tr>\n      <th>15368</th>\n      <td>2018-01-31 08:00:00+00:00</td>\n      <td>Academic Surge Building</td>\n      <td>Rollover Count Year</td>\n      <td>0.0</td>\n    </tr>\n  </tbody>\n</table>\n<p>40369 rows × 4 columns</p>\n</div>"
     },
     "metadata": {}
    }
   ],
   "execution_count": 17
  },
  {
   "cell_type": "code",
   "source": "df_acad_stored.info()",
   "metadata": {
    "cell_id": "ec8c1a4a-3a7e-4ccc-ab09-58322b073845",
    "tags": [],
    "deepnote_to_be_reexecuted": false,
    "source_hash": "44bcd0a",
    "execution_start": 1644893227411,
    "execution_millis": 4,
    "deepnote_cell_type": "code"
   },
   "outputs": [
    {
     "name": "stdout",
     "text": "<class 'pandas.core.frame.DataFrame'>\nInt64Index: 40369 entries, 0 to 15368\nData columns (total 4 columns):\n #   Column     Non-Null Count  Dtype              \n---  ------     --------------  -----              \n 0   Timestamp  40369 non-null  datetime64[ns, UTC]\n 1   Asset_Id   40369 non-null  object             \n 2   Field      40369 non-null  object             \n 3   Value      40367 non-null  float64            \ndtypes: datetime64[ns, UTC](1), float64(1), object(2)\nmemory usage: 1.5+ MB\n",
     "output_type": "stream"
    }
   ],
   "execution_count": 18
  },
  {
   "cell_type": "markdown",
   "source": "## Asset metadata\n\nIn some datasets like `Campus_Energy`, assets have metadata (static information) attached to them. This metadata comes in the form of a Python dictionary, i.e. a set of keys, each key with an associated value. The example below is representative of building metadata available with `Campus_Energy`. ",
   "metadata": {
    "cell_id": "00033-66f97620-2e0c-42d8-a57a-f032539ed62d",
    "deepnote_cell_type": "markdown"
   }
  },
  {
   "cell_type": "code",
   "metadata": {
    "tags": [],
    "cell_id": "00034-2b744b81-de46-4409-978d-eacdab7189bb",
    "deepnote_output_heights": [
     289.8125
    ],
    "deepnote_to_be_reexecuted": false,
    "source_hash": "9f59da37",
    "execution_start": 1644893227412,
    "execution_millis": 3,
    "deepnote_cell_type": "code"
   },
   "source": "hub.asset_metadata(academic_id)",
   "execution_count": 19,
   "outputs": [
    {
     "output_type": "execute_result",
     "execution_count": 19,
     "data": {
      "text/plain": "{'BuildingName': 'AcademicSurge',\n 'CAAN': 4632,\n 'Construction Date': 19920501,\n 'Display Name': 'Academic Surge Building',\n 'Latitude': 38.53530193195,\n 'Longitude': -121.752910499,\n 'Primary Usage (Type)': 'OFF - Academic / Administrative Office',\n 'Total Maintained Gross Sq. Ft.': 127426,\n 'chilledwater.Annual Cost': 712,\n 'chilledwater.tonh Rate': 0.1493,\n 'electricity.Annual Cost': 143910,\n 'electricity.kWh Rate': 0.0687,\n 'steam.Annual Cost': 13562,\n 'steam.klb Rate': 7.2552,\n 'Asset_Id': 'Academic Surge Building'}"
     },
     "metadata": {}
    }
   ]
  },
  {
   "cell_type": "markdown",
   "source": "## Metadata for all assets\n\nIt sometimes useful to get metadata of all assets into a single Pandas dataframe to select assets according to some criteria, for example Primary Usage.  ",
   "metadata": {
    "cell_id": "00035-6c9d35ae-c66d-49fc-b91e-db24787d851f",
    "deepnote_cell_type": "markdown"
   }
  },
  {
   "cell_type": "code",
   "metadata": {
    "cell_id": "00036-7e8b4870-8480-4033-87c7-23d8f7f93017",
    "deepnote_output_heights": [
     383.4375
    ],
    "deepnote_to_be_reexecuted": false,
    "source_hash": "ecff151d",
    "execution_start": 1644893227455,
    "execution_millis": 10,
    "deepnote_cell_type": "code"
   },
   "source": "hub.all_assets_metadata()",
   "execution_count": 20,
   "outputs": [
    {
     "output_type": "execute_result",
     "execution_count": 20,
     "data": {
      "application/vnd.deepnote.dataframe.v3+json": {
       "column_count": 18,
       "row_count": 166,
       "columns": [
        {
         "name": "BuildingName",
         "dtype": "object",
         "stats": {
          "unique_count": 165,
          "nan_count": 1,
          "categories": [
           {
            "name": "ARCPavilion",
            "count": 1
           },
           {
            "name": "164 others",
            "count": 164
           },
           {
            "name": "Missing",
            "count": 1
           }
          ]
         }
        },
        {
         "name": "CAAN",
         "dtype": "object",
         "stats": {
          "unique_count": 141,
          "nan_count": 16,
          "categories": [
           {
            "name": "0",
            "count": 9
           },
           {
            "name": "140 others",
            "count": 141
           },
           {
            "name": "Missing",
            "count": 16
           }
          ]
         }
        },
        {
         "name": "Construction Date",
         "dtype": "float64",
         "stats": {
          "unique_count": 102,
          "nan_count": 17,
          "min": "0.0",
          "max": "20190107.0",
          "histogram": [
           {
            "bin_start": 0,
            "bin_end": 2019010.7,
            "count": 15
           },
           {
            "bin_start": 2019010.7,
            "bin_end": 4038021.4,
            "count": 0
           },
           {
            "bin_start": 4038021.4,
            "bin_end": 6057032.1,
            "count": 0
           },
           {
            "bin_start": 6057032.1,
            "bin_end": 8076042.8,
            "count": 0
           },
           {
            "bin_start": 8076042.8,
            "bin_end": 10095053.5,
            "count": 0
           },
           {
            "bin_start": 10095053.5,
            "bin_end": 12114064.2,
            "count": 0
           },
           {
            "bin_start": 12114064.2,
            "bin_end": 14133074.9,
            "count": 0
           },
           {
            "bin_start": 14133074.9,
            "bin_end": 16152085.6,
            "count": 0
           },
           {
            "bin_start": 16152085.6,
            "bin_end": 18171096.3,
            "count": 0
           },
           {
            "bin_start": 18171096.3,
            "bin_end": 20190107,
            "count": 134
           }
          ]
         }
        },
        {
         "name": "Display Name",
         "dtype": "object",
         "stats": {
          "unique_count": 137,
          "nan_count": 17,
          "categories": [
           {
            "name": "0",
            "count": 13
           },
           {
            "name": "136 others",
            "count": 136
           },
           {
            "name": "Missing",
            "count": 17
           }
          ]
         }
        },
        {
         "name": "Latitude",
         "dtype": "float64",
         "stats": {
          "unique_count": 139,
          "nan_count": 17,
          "min": "0.0",
          "max": "38.54564403809",
          "histogram": [
           {
            "bin_start": 0,
            "bin_end": 3.8545644038090003,
            "count": 11
           },
           {
            "bin_start": 3.8545644038090003,
            "bin_end": 7.709128807618001,
            "count": 0
           },
           {
            "bin_start": 7.709128807618001,
            "bin_end": 11.563693211427001,
            "count": 0
           },
           {
            "bin_start": 11.563693211427001,
            "bin_end": 15.418257615236001,
            "count": 0
           },
           {
            "bin_start": 15.418257615236001,
            "bin_end": 19.272822019045,
            "count": 0
           },
           {
            "bin_start": 19.272822019045,
            "bin_end": 23.127386422854002,
            "count": 0
           },
           {
            "bin_start": 23.127386422854002,
            "bin_end": 26.981950826663002,
            "count": 0
           },
           {
            "bin_start": 26.981950826663002,
            "bin_end": 30.836515230472003,
            "count": 0
           },
           {
            "bin_start": 30.836515230472003,
            "bin_end": 34.691079634281,
            "count": 0
           },
           {
            "bin_start": 34.691079634281,
            "bin_end": 38.54564403809,
            "count": 138
           }
          ]
         }
        },
        {
         "name": "Longitude",
         "dtype": "float64",
         "stats": {
          "unique_count": 139,
          "nan_count": 17,
          "min": "-121.808205715",
          "max": "0.0",
          "histogram": [
           {
            "bin_start": -121.808205715,
            "bin_end": -109.62738514349999,
            "count": 138
           },
           {
            "bin_start": -109.62738514349999,
            "bin_end": -97.446564572,
            "count": 0
           },
           {
            "bin_start": -97.446564572,
            "bin_end": -85.2657440005,
            "count": 0
           },
           {
            "bin_start": -85.2657440005,
            "bin_end": -73.084923429,
            "count": 0
           },
           {
            "bin_start": -73.084923429,
            "bin_end": -60.9041028575,
            "count": 0
           },
           {
            "bin_start": -60.9041028575,
            "bin_end": -48.723282286,
            "count": 0
           },
           {
            "bin_start": -48.723282286,
            "bin_end": -36.54246171449999,
            "count": 0
           },
           {
            "bin_start": -36.54246171449999,
            "bin_end": -24.361641143,
            "count": 0
           },
           {
            "bin_start": -24.361641143,
            "bin_end": -12.180820571500007,
            "count": 0
           },
           {
            "bin_start": -12.180820571500007,
            "bin_end": 0,
            "count": 11
           }
          ]
         }
        },
        {
         "name": "Primary Usage (Type)",
         "dtype": "object",
         "stats": {
          "unique_count": 18,
          "nan_count": 17,
          "categories": [
           {
            "name": "LAB - Lab / Research",
            "count": 57
           },
           {
            "name": "17 others",
            "count": 92
           },
           {
            "name": "Missing",
            "count": 17
           }
          ]
         }
        },
        {
         "name": "Total Maintained Gross Sq. Ft.",
         "dtype": "float64",
         "stats": {
          "unique_count": 135,
          "nan_count": 17,
          "min": "0.0",
          "max": "410015.0",
          "histogram": [
           {
            "bin_start": 0,
            "bin_end": 41001.5,
            "count": 98
           },
           {
            "bin_start": 41001.5,
            "bin_end": 82003,
            "count": 23
           },
           {
            "bin_start": 82003,
            "bin_end": 123004.5,
            "count": 10
           },
           {
            "bin_start": 123004.5,
            "bin_end": 164006,
            "count": 10
           },
           {
            "bin_start": 164006,
            "bin_end": 205007.5,
            "count": 4
           },
           {
            "bin_start": 205007.5,
            "bin_end": 246009,
            "count": 3
           },
           {
            "bin_start": 246009,
            "bin_end": 287010.5,
            "count": 0
           },
           {
            "bin_start": 287010.5,
            "bin_end": 328012,
            "count": 0
           },
           {
            "bin_start": 328012,
            "bin_end": 369013.5,
            "count": 0
           },
           {
            "bin_start": 369013.5,
            "bin_end": 410015,
            "count": 1
           }
          ]
         }
        },
        {
         "name": "chilledwater.Annual Cost",
         "dtype": "float64",
         "stats": {
          "unique_count": 76,
          "nan_count": 86,
          "min": "0.0",
          "max": "313142.0",
          "histogram": [
           {
            "bin_start": 0,
            "bin_end": 31314.2,
            "count": 46
           },
           {
            "bin_start": 31314.2,
            "bin_end": 62628.4,
            "count": 17
           },
           {
            "bin_start": 62628.4,
            "bin_end": 93942.6,
            "count": 6
           },
           {
            "bin_start": 93942.6,
            "bin_end": 125256.8,
            "count": 5
           },
           {
            "bin_start": 125256.8,
            "bin_end": 156571,
            "count": 1
           },
           {
            "bin_start": 156571,
            "bin_end": 187885.2,
            "count": 1
           },
           {
            "bin_start": 187885.2,
            "bin_end": 219199.4,
            "count": 2
           },
           {
            "bin_start": 219199.4,
            "bin_end": 250513.6,
            "count": 0
           },
           {
            "bin_start": 250513.6,
            "bin_end": 281827.8,
            "count": 0
           },
           {
            "bin_start": 281827.8,
            "bin_end": 313142,
            "count": 2
           }
          ]
         }
        },
        {
         "name": "chilledwater.tonh Rate",
         "dtype": "float64",
         "stats": {
          "unique_count": 1,
          "nan_count": 88,
          "min": "0.1493",
          "max": "0.1493",
          "histogram": [
           {
            "bin_start": -0.3507,
            "bin_end": -0.25070000000000003,
            "count": 0
           },
           {
            "bin_start": -0.25070000000000003,
            "bin_end": -0.1507,
            "count": 0
           },
           {
            "bin_start": -0.1507,
            "bin_end": -0.05069999999999997,
            "count": 0
           },
           {
            "bin_start": -0.05069999999999997,
            "bin_end": 0.04930000000000001,
            "count": 0
           },
           {
            "bin_start": 0.04930000000000001,
            "bin_end": 0.1493,
            "count": 0
           },
           {
            "bin_start": 0.1493,
            "bin_end": 0.24930000000000008,
            "count": 78
           },
           {
            "bin_start": 0.24930000000000008,
            "bin_end": 0.34930000000000005,
            "count": 0
           },
           {
            "bin_start": 0.34930000000000005,
            "bin_end": 0.44930000000000003,
            "count": 0
           },
           {
            "bin_start": 0.44930000000000003,
            "bin_end": 0.5493,
            "count": 0
           },
           {
            "bin_start": 0.5493,
            "bin_end": 0.6493,
            "count": 0
           }
          ]
         }
        },
        {
         "name": "electricity.Annual Cost",
         "dtype": "int64",
         "stats": {
          "unique_count": 152,
          "nan_count": 0,
          "min": "0",
          "max": "530709",
          "histogram": [
           {
            "bin_start": 0,
            "bin_end": 53070.9,
            "count": 110
           },
           {
            "bin_start": 53070.9,
            "bin_end": 106141.8,
            "count": 30
           },
           {
            "bin_start": 106141.8,
            "bin_end": 159212.7,
            "count": 7
           },
           {
            "bin_start": 159212.7,
            "bin_end": 212283.6,
            "count": 10
           },
           {
            "bin_start": 212283.6,
            "bin_end": 265354.5,
            "count": 2
           },
           {
            "bin_start": 265354.5,
            "bin_end": 318425.4,
            "count": 1
           },
           {
            "bin_start": 318425.4,
            "bin_end": 371496.3,
            "count": 2
           },
           {
            "bin_start": 371496.3,
            "bin_end": 424567.2,
            "count": 1
           },
           {
            "bin_start": 424567.2,
            "bin_end": 477638.10000000003,
            "count": 0
           },
           {
            "bin_start": 477638.10000000003,
            "bin_end": 530709,
            "count": 3
           }
          ]
         }
        },
        {
         "name": "electricity.kWh Rate",
         "dtype": "float64",
         "stats": {
          "unique_count": 1,
          "nan_count": 0,
          "min": "0.0687",
          "max": "0.0687",
          "histogram": [
           {
            "bin_start": -0.4313,
            "bin_end": -0.33130000000000004,
            "count": 0
           },
           {
            "bin_start": -0.33130000000000004,
            "bin_end": -0.2313,
            "count": 0
           },
           {
            "bin_start": -0.2313,
            "bin_end": -0.13129999999999997,
            "count": 0
           },
           {
            "bin_start": -0.13129999999999997,
            "bin_end": -0.031299999999999994,
            "count": 0
           },
           {
            "bin_start": -0.031299999999999994,
            "bin_end": 0.06869999999999998,
            "count": 0
           },
           {
            "bin_start": 0.06869999999999998,
            "bin_end": 0.16870000000000007,
            "count": 166
           },
           {
            "bin_start": 0.16870000000000007,
            "bin_end": 0.26870000000000005,
            "count": 0
           },
           {
            "bin_start": 0.26870000000000005,
            "bin_end": 0.3687,
            "count": 0
           },
           {
            "bin_start": 0.3687,
            "bin_end": 0.4687,
            "count": 0
           },
           {
            "bin_start": 0.4687,
            "bin_end": 0.5687,
            "count": 0
           }
          ]
         }
        },
        {
         "name": "steam.Annual Cost",
         "dtype": "float64",
         "stats": {
          "unique_count": 79,
          "nan_count": 86,
          "min": "0.0",
          "max": "288991.0",
          "histogram": [
           {
            "bin_start": 0,
            "bin_end": 28899.1,
            "count": 44
           },
           {
            "bin_start": 28899.1,
            "bin_end": 57798.2,
            "count": 12
           },
           {
            "bin_start": 57798.2,
            "bin_end": 86697.29999999999,
            "count": 9
           },
           {
            "bin_start": 86697.29999999999,
            "bin_end": 115596.4,
            "count": 8
           },
           {
            "bin_start": 115596.4,
            "bin_end": 144495.5,
            "count": 1
           },
           {
            "bin_start": 144495.5,
            "bin_end": 173394.59999999998,
            "count": 3
           },
           {
            "bin_start": 173394.59999999998,
            "bin_end": 202293.69999999998,
            "count": 0
           },
           {
            "bin_start": 202293.69999999998,
            "bin_end": 231192.8,
            "count": 1
           },
           {
            "bin_start": 231192.8,
            "bin_end": 260091.9,
            "count": 1
           },
           {
            "bin_start": 260091.9,
            "bin_end": 288991,
            "count": 1
           }
          ]
         }
        },
        {
         "name": "steam.klb Rate",
         "dtype": "float64",
         "stats": {
          "unique_count": 1,
          "nan_count": 88,
          "min": "7.2552",
          "max": "7.2552",
          "histogram": [
           {
            "bin_start": 6.7552,
            "bin_end": 6.8552,
            "count": 0
           },
           {
            "bin_start": 6.8552,
            "bin_end": 6.9552000000000005,
            "count": 0
           },
           {
            "bin_start": 6.9552000000000005,
            "bin_end": 7.0552,
            "count": 0
           },
           {
            "bin_start": 7.0552,
            "bin_end": 7.155200000000001,
            "count": 0
           },
           {
            "bin_start": 7.155200000000001,
            "bin_end": 7.2552,
            "count": 0
           },
           {
            "bin_start": 7.2552,
            "bin_end": 7.3552,
            "count": 78
           },
           {
            "bin_start": 7.3552,
            "bin_end": 7.4552000000000005,
            "count": 0
           },
           {
            "bin_start": 7.4552000000000005,
            "bin_end": 7.5552,
            "count": 0
           },
           {
            "bin_start": 7.5552,
            "bin_end": 7.655200000000001,
            "count": 0
           },
           {
            "bin_start": 7.655200000000001,
            "bin_end": 7.7552,
            "count": 0
           }
          ]
         }
        },
        {
         "name": "Asset_Id",
         "dtype": "object",
         "stats": {
          "unique_count": 166,
          "nan_count": 0,
          "categories": [
           {
            "name": "ARC Pavilion",
            "count": 1
           },
           {
            "name": "Academic Surge Building",
            "count": 1
           },
           {
            "name": "164 others",
            "count": 164
           }
          ]
         }
        },
        {
         "name": "Primary Usage (SF % of Total)",
         "dtype": "float64",
         "stats": {
          "unique_count": 1,
          "nan_count": 162,
          "min": "0.0",
          "max": "0.0",
          "histogram": [
           {
            "bin_start": -0.5,
            "bin_end": -0.4,
            "count": 0
           },
           {
            "bin_start": -0.4,
            "bin_end": -0.3,
            "count": 0
           },
           {
            "bin_start": -0.3,
            "bin_end": -0.19999999999999996,
            "count": 0
           },
           {
            "bin_start": -0.19999999999999996,
            "bin_end": -0.09999999999999998,
            "count": 0
           },
           {
            "bin_start": -0.09999999999999998,
            "bin_end": 0,
            "count": 0
           },
           {
            "bin_start": 0,
            "bin_end": 0.10000000000000009,
            "count": 4
           },
           {
            "bin_start": 0.10000000000000009,
            "bin_end": 0.20000000000000007,
            "count": 0
           },
           {
            "bin_start": 0.20000000000000007,
            "bin_end": 0.30000000000000004,
            "count": 0
           },
           {
            "bin_start": 0.30000000000000004,
            "bin_end": 0.4,
            "count": 0
           },
           {
            "bin_start": 0.4,
            "bin_end": 0.5,
            "count": 0
           }
          ]
         }
        },
        {
         "name": "Building Name",
         "dtype": "object",
         "stats": {
          "unique_count": 1,
          "nan_count": 165,
          "categories": [
           {
            "name": "Robbins",
            "count": 1
           },
           {
            "name": "Missing",
            "count": 165
           }
          ]
         }
        },
        {
         "name": "Sq Ft.",
         "dtype": "object",
         "stats": {
          "unique_count": 1,
          "nan_count": 165,
          "categories": [
           {
            "name": "98,012",
            "count": 1
           },
           {
            "name": "Missing",
            "count": 165
           }
          ]
         }
        },
        {
         "name": "_deepnote_index_column",
         "dtype": "int64"
        }
       ],
       "rows": [
        {
         "BuildingName": "ARCPavilion",
         "CAAN": "4444",
         "Construction Date": 19770301,
         "Display Name": "ARC Pavilion",
         "Latitude": 38.54181213318,
         "Longitude": -121.75962444,
         "Primary Usage (Type)": "REC - Athletics & Recreation",
         "Total Maintained Gross Sq. Ft.": 171940,
         "chilledwater.Annual Cost": 557,
         "chilledwater.tonh Rate": 0.1493,
         "electricity.Annual Cost": 51155,
         "electricity.kWh Rate": 0.0687,
         "steam.Annual Cost": 1500,
         "steam.klb Rate": 7.2552,
         "Asset_Id": "ARC Pavilion",
         "Primary Usage (SF % of Total)": "nan",
         "Building Name": "nan",
         "Sq Ft.": "nan",
         "_deepnote_index_column": 0
        },
        {
         "BuildingName": "AcademicSurge",
         "CAAN": "4632",
         "Construction Date": 19920501,
         "Display Name": "Academic Surge Building",
         "Latitude": 38.53530193195,
         "Longitude": -121.752910499,
         "Primary Usage (Type)": "OFF - Academic / Administrative Office",
         "Total Maintained Gross Sq. Ft.": 127426,
         "chilledwater.Annual Cost": 712,
         "chilledwater.tonh Rate": 0.1493,
         "electricity.Annual Cost": 143910,
         "electricity.kWh Rate": 0.0687,
         "steam.Annual Cost": 13562,
         "steam.klb Rate": 7.2552,
         "Asset_Id": "Academic Surge Building",
         "Primary Usage (SF % of Total)": "nan",
         "Building Name": "nan",
         "Sq Ft.": "nan",
         "_deepnote_index_column": 1
        },
        {
         "BuildingName": "ARC",
         "CAAN": "4799",
         "Construction Date": 20020415,
         "Display Name": "Activities and Recreation Center",
         "Latitude": 38.5428969596,
         "Longitude": -121.759644393,
         "Primary Usage (Type)": "REC - Athletics & Recreation",
         "Total Maintained Gross Sq. Ft.": 158120,
         "chilledwater.Annual Cost": 55977,
         "chilledwater.tonh Rate": 0.1493,
         "electricity.Annual Cost": 97822,
         "electricity.kWh Rate": 0.0687,
         "steam.Annual Cost": 25234,
         "steam.klb Rate": 7.2552,
         "Asset_Id": "Activities and Recreation Center",
         "Primary Usage (SF % of Total)": "nan",
         "Building Name": "nan",
         "Sq Ft.": "nan",
         "_deepnote_index_column": 2
        },
        {
         "BuildingName": "AMRL",
         "CAAN": "4853",
         "Construction Date": 20080731,
         "Display Name": "Advanced Materials Research Laboratory",
         "Latitude": 38.53228552921,
         "Longitude": -121.758483823,
         "Primary Usage (Type)": "LAB - Lab / Research",
         "Total Maintained Gross Sq. Ft.": 7560,
         "chilledwater.Annual Cost": "nan",
         "chilledwater.tonh Rate": "nan",
         "electricity.Annual Cost": 9567,
         "electricity.kWh Rate": 0.0687,
         "steam.Annual Cost": "nan",
         "steam.klb Rate": "nan",
         "Asset_Id": "Advanced Materials Research Laboratory",
         "Primary Usage (SF % of Total)": "nan",
         "Building Name": "nan",
         "Sq Ft.": "nan",
         "_deepnote_index_column": 3
        },
        {
         "BuildingName": "ATIRC",
         "CAAN": "4879",
         "Construction Date": 20080801,
         "Display Name": "Advanced Transportation Infrastructure Research Center",
         "Latitude": 38.53459649347,
         "Longitude": -121.794318598,
         "Primary Usage (Type)": "LAB - Lab / Research",
         "Total Maintained Gross Sq. Ft.": 18955,
         "chilledwater.Annual Cost": "nan",
         "chilledwater.tonh Rate": "nan",
         "electricity.Annual Cost": 29061,
         "electricity.kWh Rate": 0.0687,
         "steam.Annual Cost": "nan",
         "steam.klb Rate": "nan",
         "Asset_Id": "Advanced Transportation Infrastructure Research Center",
         "Primary Usage (SF % of Total)": "nan",
         "Building Name": "nan",
         "Sq Ft.": "nan",
         "_deepnote_index_column": 4
        },
        {
         "BuildingName": "Agronomy.FL",
         "CAAN": "4192",
         "Construction Date": 19680401,
         "Display Name": "Agronomy Field Laboratory",
         "Latitude": 38.53907215741,
         "Longitude": -121.779656372,
         "Primary Usage (Type)": "LAB - Lab / Research",
         "Total Maintained Gross Sq. Ft.": 7950,
         "chilledwater.Annual Cost": "nan",
         "chilledwater.tonh Rate": "nan",
         "electricity.Annual Cost": 13330,
         "electricity.kWh Rate": 0.0687,
         "steam.Annual Cost": "nan",
         "steam.klb Rate": "nan",
         "Asset_Id": "Agronomy Field Laboratory",
         "Primary Usage (SF % of Total)": "nan",
         "Building Name": "nan",
         "Sq Ft.": "nan",
         "_deepnote_index_column": 5
        },
        {
         "BuildingName": "Animal.Bldg",
         "CAAN": "4241",
         "Construction Date": 19680501,
         "Display Name": "Animal Building",
         "Latitude": 38.54007029764,
         "Longitude": -121.753781538,
         "Primary Usage (Type)": "LAB - Lab / Research",
         "Total Maintained Gross Sq. Ft.": 3761,
         "chilledwater.Annual Cost": "nan",
         "chilledwater.tonh Rate": "nan",
         "electricity.Annual Cost": 3601,
         "electricity.kWh Rate": 0.0687,
         "steam.Annual Cost": "nan",
         "steam.klb Rate": "nan",
         "Asset_Id": "Animal Building",
         "Primary Usage (SF % of Total)": "nan",
         "Building Name": "nan",
         "Sq Ft.": "nan",
         "_deepnote_index_column": 6
        },
        {
         "BuildingName": "ARS.J1",
         "CAAN": "3840",
         "Construction Date": 19660501,
         "Display Name": "Animal Resource Service J1",
         "Latitude": 38.52763755139,
         "Longitude": -121.756346655,
         "Primary Usage (Type)": "LAB - Lab / Research",
         "Total Maintained Gross Sq. Ft.": 23789,
         "chilledwater.Annual Cost": "nan",
         "chilledwater.tonh Rate": "nan",
         "electricity.Annual Cost": 26112,
         "electricity.kWh Rate": 0.0687,
         "steam.Annual Cost": "nan",
         "steam.klb Rate": "nan",
         "Asset_Id": "Animal Resource Service J1",
         "Primary Usage (SF % of Total)": "nan",
         "Building Name": "nan",
         "Sq Ft.": "nan",
         "_deepnote_index_column": 7
        },
        {
         "BuildingName": "ARS_M3",
         "CAAN": "4329",
         "Construction Date": 19710501,
         "Display Name": "Animal Resource Service M3",
         "Latitude": 38.52662079801,
         "Longitude": -121.756221449,
         "Primary Usage (Type)": "LAB - Lab / Research",
         "Total Maintained Gross Sq. Ft.": 6442,
         "chilledwater.Annual Cost": "nan",
         "chilledwater.tonh Rate": "nan",
         "electricity.Annual Cost": 4304,
         "electricity.kWh Rate": 0.0687,
         "steam.Annual Cost": "nan",
         "steam.klb Rate": "nan",
         "Asset_Id": "Animal Resource Service M3",
         "Primary Usage (SF % of Total)": "nan",
         "Building Name": "nan",
         "Sq Ft.": "nan",
         "_deepnote_index_column": 8
        },
        {
         "BuildingName": "ARS_N1",
         "CAAN": "4335",
         "Construction Date": 19710501,
         "Display Name": "Animal Resource Service N1",
         "Latitude": 38.52586801014,
         "Longitude": -121.755314158,
         "Primary Usage (Type)": "LAB - Lab / Research",
         "Total Maintained Gross Sq. Ft.": 7446,
         "chilledwater.Annual Cost": "nan",
         "chilledwater.tonh Rate": "nan",
         "electricity.Annual Cost": 0,
         "electricity.kWh Rate": 0.0687,
         "steam.Annual Cost": "nan",
         "steam.klb Rate": "nan",
         "Asset_Id": "Animal Resource Service N1",
         "Primary Usage (SF % of Total)": "nan",
         "Building Name": "nan",
         "Sq Ft.": "nan",
         "_deepnote_index_column": 9
        }
       ]
      },
      "text/plain": "          BuildingName  CAAN  Construction Date  \\\n0          ARCPavilion  4444         19770301.0   \n1        AcademicSurge  4632         19920501.0   \n2                  ARC  4799         20020415.0   \n3                 AMRL  4853         20080731.0   \n4                ATIRC  4879         20080801.0   \n..                 ...   ...                ...   \n161  WatershedResearch  4833         20051024.0   \n162            Wellman  4050                0.0   \n163              WHNRC  4843                0.0   \n164            Wickson  3351         19590501.0   \n165              Young  3266         19400501.0   \n\n                                          Display Name   Latitude   Longitude  \\\n0                                         ARC Pavilion  38.541812 -121.759624   \n1                              Academic Surge Building  38.535302 -121.752910   \n2                     Activities and Recreation Center  38.542897 -121.759644   \n3               Advanced Materials Research Laboratory  38.532286 -121.758484   \n4    Advanced Transportation Infrastructure Researc...  38.534596 -121.794319   \n..                                                 ...        ...         ...   \n161                         Watershed Science Facility  38.534788 -121.752625   \n162                                                  0  38.541337 -121.751393   \n163    Western Human Nutrition Research Center (WHNRC)  38.535025 -121.766218   \n164                                       Wickson Hall  38.542042 -121.751590   \n165                                         Young Hall  38.542394 -121.747732   \n\n                       Primary Usage (Type)  Total Maintained Gross Sq. Ft.  \\\n0              REC - Athletics & Recreation                        171940.0   \n1    OFF - Academic / Administrative Office                        127426.0   \n2              REC - Athletics & Recreation                        158120.0   \n3                      LAB - Lab / Research                          7560.0   \n4                      LAB - Lab / Research                         18955.0   \n..                                      ...                             ...   \n161                    LAB - Lab / Research                         18391.0   \n162                                       0                             0.0   \n163                    LAB - Lab / Research                         49941.0   \n164                         CLS - Classroom                        112937.0   \n165                         CLS - Classroom                         90567.0   \n\n     chilledwater.Annual Cost  chilledwater.tonh Rate  \\\n0                       557.0                  0.1493   \n1                       712.0                  0.1493   \n2                     55977.0                  0.1493   \n3                         NaN                     NaN   \n4                         NaN                     NaN   \n..                        ...                     ...   \n161                    6847.0                  0.1493   \n162                   32992.0                  0.1493   \n163                   52087.0                  0.1493   \n164                   62342.0                  0.1493   \n165                   35053.0                  0.1493   \n\n     electricity.Annual Cost  electricity.kWh Rate  steam.Annual Cost  \\\n0                      51155                0.0687             1500.0   \n1                     143910                0.0687            13562.0   \n2                      97822                0.0687            25234.0   \n3                       9567                0.0687                NaN   \n4                      29061                0.0687                NaN   \n..                       ...                   ...                ...   \n161                    41650                0.0687             3452.0   \n162                    11147                0.0687           159444.0   \n163                    80918                0.0687            23547.0   \n164                   167646                0.0687            67190.0   \n165                    58592                0.0687            57209.0   \n\n     steam.klb Rate                                           Asset_Id  \\\n0            7.2552                                       ARC Pavilion   \n1            7.2552                            Academic Surge Building   \n2            7.2552                   Activities and Recreation Center   \n3               NaN             Advanced Materials Research Laboratory   \n4               NaN  Advanced Transportation Infrastructure Researc...   \n..              ...                                                ...   \n161          7.2552                         Watershed Science Facility   \n162          7.2552                                       Wellman Hall   \n163          7.2552    Western Human Nutrition Research Center (WHNRC)   \n164          7.2552                                       Wickson Hall   \n165          7.2552                                         Young Hall   \n\n     Primary Usage (SF % of Total) Building Name Sq Ft.  \n0                              NaN           NaN    NaN  \n1                              NaN           NaN    NaN  \n2                              NaN           NaN    NaN  \n3                              NaN           NaN    NaN  \n4                              NaN           NaN    NaN  \n..                             ...           ...    ...  \n161                            NaN           NaN    NaN  \n162                            NaN           NaN    NaN  \n163                            NaN           NaN    NaN  \n164                            NaN           NaN    NaN  \n165                            NaN           NaN    NaN  \n\n[166 rows x 18 columns]",
      "text/html": "<div>\n<style scoped>\n    .dataframe tbody tr th:only-of-type {\n        vertical-align: middle;\n    }\n\n    .dataframe tbody tr th {\n        vertical-align: top;\n    }\n\n    .dataframe thead th {\n        text-align: right;\n    }\n</style>\n<table border=\"1\" class=\"dataframe\">\n  <thead>\n    <tr style=\"text-align: right;\">\n      <th></th>\n      <th>BuildingName</th>\n      <th>CAAN</th>\n      <th>Construction Date</th>\n      <th>Display Name</th>\n      <th>Latitude</th>\n      <th>Longitude</th>\n      <th>Primary Usage (Type)</th>\n      <th>Total Maintained Gross Sq. Ft.</th>\n      <th>chilledwater.Annual Cost</th>\n      <th>chilledwater.tonh Rate</th>\n      <th>electricity.Annual Cost</th>\n      <th>electricity.kWh Rate</th>\n      <th>steam.Annual Cost</th>\n      <th>steam.klb Rate</th>\n      <th>Asset_Id</th>\n      <th>Primary Usage (SF % of Total)</th>\n      <th>Building Name</th>\n      <th>Sq Ft.</th>\n    </tr>\n  </thead>\n  <tbody>\n    <tr>\n      <th>0</th>\n      <td>ARCPavilion</td>\n      <td>4444</td>\n      <td>19770301.0</td>\n      <td>ARC Pavilion</td>\n      <td>38.541812</td>\n      <td>-121.759624</td>\n      <td>REC - Athletics &amp; Recreation</td>\n      <td>171940.0</td>\n      <td>557.0</td>\n      <td>0.1493</td>\n      <td>51155</td>\n      <td>0.0687</td>\n      <td>1500.0</td>\n      <td>7.2552</td>\n      <td>ARC Pavilion</td>\n      <td>NaN</td>\n      <td>NaN</td>\n      <td>NaN</td>\n    </tr>\n    <tr>\n      <th>1</th>\n      <td>AcademicSurge</td>\n      <td>4632</td>\n      <td>19920501.0</td>\n      <td>Academic Surge Building</td>\n      <td>38.535302</td>\n      <td>-121.752910</td>\n      <td>OFF - Academic / Administrative Office</td>\n      <td>127426.0</td>\n      <td>712.0</td>\n      <td>0.1493</td>\n      <td>143910</td>\n      <td>0.0687</td>\n      <td>13562.0</td>\n      <td>7.2552</td>\n      <td>Academic Surge Building</td>\n      <td>NaN</td>\n      <td>NaN</td>\n      <td>NaN</td>\n    </tr>\n    <tr>\n      <th>2</th>\n      <td>ARC</td>\n      <td>4799</td>\n      <td>20020415.0</td>\n      <td>Activities and Recreation Center</td>\n      <td>38.542897</td>\n      <td>-121.759644</td>\n      <td>REC - Athletics &amp; Recreation</td>\n      <td>158120.0</td>\n      <td>55977.0</td>\n      <td>0.1493</td>\n      <td>97822</td>\n      <td>0.0687</td>\n      <td>25234.0</td>\n      <td>7.2552</td>\n      <td>Activities and Recreation Center</td>\n      <td>NaN</td>\n      <td>NaN</td>\n      <td>NaN</td>\n    </tr>\n    <tr>\n      <th>3</th>\n      <td>AMRL</td>\n      <td>4853</td>\n      <td>20080731.0</td>\n      <td>Advanced Materials Research Laboratory</td>\n      <td>38.532286</td>\n      <td>-121.758484</td>\n      <td>LAB - Lab / Research</td>\n      <td>7560.0</td>\n      <td>NaN</td>\n      <td>NaN</td>\n      <td>9567</td>\n      <td>0.0687</td>\n      <td>NaN</td>\n      <td>NaN</td>\n      <td>Advanced Materials Research Laboratory</td>\n      <td>NaN</td>\n      <td>NaN</td>\n      <td>NaN</td>\n    </tr>\n    <tr>\n      <th>4</th>\n      <td>ATIRC</td>\n      <td>4879</td>\n      <td>20080801.0</td>\n      <td>Advanced Transportation Infrastructure Researc...</td>\n      <td>38.534596</td>\n      <td>-121.794319</td>\n      <td>LAB - Lab / Research</td>\n      <td>18955.0</td>\n      <td>NaN</td>\n      <td>NaN</td>\n      <td>29061</td>\n      <td>0.0687</td>\n      <td>NaN</td>\n      <td>NaN</td>\n      <td>Advanced Transportation Infrastructure Researc...</td>\n      <td>NaN</td>\n      <td>NaN</td>\n      <td>NaN</td>\n    </tr>\n    <tr>\n      <th>...</th>\n      <td>...</td>\n      <td>...</td>\n      <td>...</td>\n      <td>...</td>\n      <td>...</td>\n      <td>...</td>\n      <td>...</td>\n      <td>...</td>\n      <td>...</td>\n      <td>...</td>\n      <td>...</td>\n      <td>...</td>\n      <td>...</td>\n      <td>...</td>\n      <td>...</td>\n      <td>...</td>\n      <td>...</td>\n      <td>...</td>\n    </tr>\n    <tr>\n      <th>161</th>\n      <td>WatershedResearch</td>\n      <td>4833</td>\n      <td>20051024.0</td>\n      <td>Watershed Science Facility</td>\n      <td>38.534788</td>\n      <td>-121.752625</td>\n      <td>LAB - Lab / Research</td>\n      <td>18391.0</td>\n      <td>6847.0</td>\n      <td>0.1493</td>\n      <td>41650</td>\n      <td>0.0687</td>\n      <td>3452.0</td>\n      <td>7.2552</td>\n      <td>Watershed Science Facility</td>\n      <td>NaN</td>\n      <td>NaN</td>\n      <td>NaN</td>\n    </tr>\n    <tr>\n      <th>162</th>\n      <td>Wellman</td>\n      <td>4050</td>\n      <td>0.0</td>\n      <td>0</td>\n      <td>38.541337</td>\n      <td>-121.751393</td>\n      <td>0</td>\n      <td>0.0</td>\n      <td>32992.0</td>\n      <td>0.1493</td>\n      <td>11147</td>\n      <td>0.0687</td>\n      <td>159444.0</td>\n      <td>7.2552</td>\n      <td>Wellman Hall</td>\n      <td>NaN</td>\n      <td>NaN</td>\n      <td>NaN</td>\n    </tr>\n    <tr>\n      <th>163</th>\n      <td>WHNRC</td>\n      <td>4843</td>\n      <td>0.0</td>\n      <td>Western Human Nutrition Research Center (WHNRC)</td>\n      <td>38.535025</td>\n      <td>-121.766218</td>\n      <td>LAB - Lab / Research</td>\n      <td>49941.0</td>\n      <td>52087.0</td>\n      <td>0.1493</td>\n      <td>80918</td>\n      <td>0.0687</td>\n      <td>23547.0</td>\n      <td>7.2552</td>\n      <td>Western Human Nutrition Research Center (WHNRC)</td>\n      <td>NaN</td>\n      <td>NaN</td>\n      <td>NaN</td>\n    </tr>\n    <tr>\n      <th>164</th>\n      <td>Wickson</td>\n      <td>3351</td>\n      <td>19590501.0</td>\n      <td>Wickson Hall</td>\n      <td>38.542042</td>\n      <td>-121.751590</td>\n      <td>CLS - Classroom</td>\n      <td>112937.0</td>\n      <td>62342.0</td>\n      <td>0.1493</td>\n      <td>167646</td>\n      <td>0.0687</td>\n      <td>67190.0</td>\n      <td>7.2552</td>\n      <td>Wickson Hall</td>\n      <td>NaN</td>\n      <td>NaN</td>\n      <td>NaN</td>\n    </tr>\n    <tr>\n      <th>165</th>\n      <td>Young</td>\n      <td>3266</td>\n      <td>19400501.0</td>\n      <td>Young Hall</td>\n      <td>38.542394</td>\n      <td>-121.747732</td>\n      <td>CLS - Classroom</td>\n      <td>90567.0</td>\n      <td>35053.0</td>\n      <td>0.1493</td>\n      <td>58592</td>\n      <td>0.0687</td>\n      <td>57209.0</td>\n      <td>7.2552</td>\n      <td>Young Hall</td>\n      <td>NaN</td>\n      <td>NaN</td>\n      <td>NaN</td>\n    </tr>\n  </tbody>\n</table>\n<p>166 rows × 18 columns</p>\n</div>"
     },
     "metadata": {}
    }
   ]
  },
  {
   "cell_type": "code",
   "metadata": {
    "cell_id": "00037-5a1b1787-50af-4cc1-8f91-c1e1cf643cbf",
    "deepnote_to_be_reexecuted": false,
    "source_hash": "b623e53d",
    "execution_start": 1644893227467,
    "execution_millis": 0,
    "deepnote_cell_type": "code"
   },
   "source": "",
   "execution_count": 20,
   "outputs": []
  },
  {
   "cell_type": "markdown",
   "source": "<a style='text-decoration:none;line-height:16px;display:flex;color:#5B5B62;padding:10px;justify-content:end;' href='https://deepnote.com?utm_source=created-in-deepnote-cell&projectId=f1a24daf-02e8-473d-ac7d-4f95d28af1b1' target=\"_blank\">\n<img alt='Created in deepnote.com' style='display:inline;max-height:16px;margin:0px;margin-right:7.5px;' src='data:image/svg+xml;base64,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' > </img>\nCreated in <span style='font-weight:600;margin-left:4px;'>Deepnote</span></a>",
   "metadata": {
    "tags": [],
    "created_in_deepnote_cell": true,
    "deepnote_cell_type": "markdown"
   }
  }
 ],
 "nbformat": 4,
 "nbformat_minor": 4,
 "metadata": {
  "kernelspec": {
   "display_name": "Python 3",
   "language": "python",
   "name": "python3"
  },
  "language_info": {
   "codemirror_mode": {
    "name": "ipython",
    "version": 3
   },
   "file_extension": ".py",
   "mimetype": "text/x-python",
   "name": "python",
   "nbconvert_exporter": "python",
   "pygments_lexer": "ipython3",
   "version": "3.7.9"
  },
  "toc": {
   "base_numbering": 1,
   "nav_menu": {},
   "number_sections": true,
   "sideBar": true,
   "skip_h1_title": false,
   "title_cell": "Table of Contents",
   "title_sidebar": "Contents",
   "toc_cell": false,
   "toc_position": {},
   "toc_section_display": true,
   "toc_window_display": false
  },
  "deepnote_notebook_id": "248bff49-28c2-4dc1-8e63-4cf7bd2466d3",
  "deepnote": {},
  "deepnote_execution_queue": []
 }
}